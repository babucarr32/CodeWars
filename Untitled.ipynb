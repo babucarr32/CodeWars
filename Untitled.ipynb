{
 "cells": [
  {
   "cell_type": "code",
   "execution_count": 5,
   "id": "24ad3ad3",
   "metadata": {},
   "outputs": [
    {
     "ename": "ModuleNotFoundError",
     "evalue": "No module named 'face_recognition'",
     "output_type": "error",
     "traceback": [
      "\u001b[0;31m---------------------------------------------------------------------------\u001b[0m",
      "\u001b[0;31mModuleNotFoundError\u001b[0m                       Traceback (most recent call last)",
      "\u001b[0;32m/tmp/ipykernel_12606/699748539.py\u001b[0m in \u001b[0;36m<module>\u001b[0;34m\u001b[0m\n\u001b[0;32m----> 1\u001b[0;31m \u001b[0;32mimport\u001b[0m \u001b[0mface_recognition\u001b[0m\u001b[0;34m\u001b[0m\u001b[0;34m\u001b[0m\u001b[0m\n\u001b[0m\u001b[1;32m      2\u001b[0m \u001b[0;31m# image = face_recognition.load_image_file(\"your_file.jpg\")\u001b[0m\u001b[0;34m\u001b[0m\u001b[0;34m\u001b[0m\u001b[0m\n\u001b[1;32m      3\u001b[0m \u001b[0;31m# face_landmarks_list = face_recognition.face_landmarks(image)\u001b[0m\u001b[0;34m\u001b[0m\u001b[0;34m\u001b[0m\u001b[0m\n",
      "\u001b[0;31mModuleNotFoundError\u001b[0m: No module named 'face_recognition'"
     ]
    }
   ],
   "source": [
    "import face_recognition\n",
    "# image = face_recognition.load_image_file(\"your_file.jpg\")\n",
    "# face_landmarks_list = face_recognition.face_landmarks(image)"
   ]
  },
  {
   "cell_type": "code",
   "execution_count": 2,
   "id": "3b509baf",
   "metadata": {},
   "outputs": [
    {
     "ename": "ModuleNotFoundError",
     "evalue": "No module named 'dlib'",
     "output_type": "error",
     "traceback": [
      "\u001b[0;31m---------------------------------------------------------------------------\u001b[0m",
      "\u001b[0;31mModuleNotFoundError\u001b[0m                       Traceback (most recent call last)",
      "\u001b[0;32m/tmp/ipykernel_12606/3149249053.py\u001b[0m in \u001b[0;36m<module>\u001b[0;34m\u001b[0m\n\u001b[0;32m----> 1\u001b[0;31m \u001b[0;32mimport\u001b[0m \u001b[0mdlib\u001b[0m\u001b[0;34m\u001b[0m\u001b[0;34m\u001b[0m\u001b[0m\n\u001b[0m",
      "\u001b[0;31mModuleNotFoundError\u001b[0m: No module named 'dlib'"
     ]
    }
   ],
   "source": [
    "import dlib"
   ]
  },
  {
   "cell_type": "code",
   "execution_count": 6,
   "id": "cc91e168",
   "metadata": {},
   "outputs": [
    {
     "data": {
      "text/plain": [
       "14"
      ]
     },
     "execution_count": 6,
     "metadata": {},
     "output_type": "execute_result"
    }
   ],
   "source": [
    "x = \"\"\"\n",
    "Hello: World this python\n",
    "Name: is babucarr\n",
    "\"\"\"\n",
    "\n",
    "x.find(\"this\")"
   ]
  },
  {
   "cell_type": "code",
   "execution_count": 7,
   "id": "992e0571",
   "metadata": {},
   "outputs": [],
   "source": [
    "import re"
   ]
  },
  {
   "cell_type": "code",
   "execution_count": 25,
   "id": "6596ef0d",
   "metadata": {},
   "outputs": [
    {
     "data": {
      "text/plain": [
       "<re.Match object; span=(0, 102), match='Hello World this is python, my email is python@py>"
      ]
     },
     "execution_count": 25,
     "metadata": {},
     "output_type": "execute_result"
    }
   ],
   "source": [
    "text = \"Hello World this is python, my email is python@python.com. Contact me, and I will give you $4000 cash!\"\n",
    "reg = re.search(\"Hello.*cash!$\", text)\n",
    "reg"
   ]
  },
  {
   "cell_type": "code",
   "execution_count": 33,
   "id": "15fcb82c",
   "metadata": {},
   "outputs": [
    {
     "name": "stdout",
     "output_type": "stream",
     "text": [
      "['e', 'l', 'l', 'o', 'o', 'r', 'l', 'd', 't', 'h', 'i', 's', 'i', 's', 'p', 'y', 't', 'h', 'o', 'n', 'm', 'y', 'e', 'm', 'a', 'i', 'l', 'i', 's', 'p', 'y', 't', 'h', 'o', 'n', 'p', 'y', 't', 'h', 'o', 'n', 'c', 'o', 'm', 'o', 'n', 't', 'a', 'c', 't', 'm', 'e', 'a', 'n', 'd', 'w', 'i', 'l', 'l', 'g', 'i', 'v', 'e', 'y', 'o', 'u', 'c', 'a', 's', 'h']"
     ]
    }
   ],
   "source": [
    "# find lower case chars\n",
    "reg = re.findall(\"[a-z]\", text)\n",
    "print(reg, end=\"\")"
   ]
  },
  {
   "cell_type": "code",
   "execution_count": 35,
   "id": "53ea98e9",
   "metadata": {},
   "outputs": [
    {
     "name": "stdout",
     "output_type": "stream",
     "text": [
      "['e', 'l', 'l', 'o', 'o', 'r', 'l', 'd', 't', 'h', 'i', 's', 'i', 's', 'p', 'y', 't', 'h', 'o', 'n', ',', 'm', 'y', 'e', 'm', 'a', 'i', 'l', 'i', 's', 'p', 'y', 't', 'h', 'o', 'n', 'p', 'y', 't', 'h', 'o', 'n', 'c', 'o', 'm', 'C', 'o', 'n', 't', 'a', 'c', 't', 'm', 'e', ',', 'a', 'n', 'd', 'w', 'i', 'l', 'l', 'g', 'i', 'v', 'e', 'y', 'o', 'u', 'c', 'a', 's', 'h']"
     ]
    }
   ],
   "source": [
    "# find lower case chars and Upper\n",
    "reg = re.findall(\"[a-z,A-F]\", text)\n",
    "print(reg, end=\"\")"
   ]
  },
  {
   "cell_type": "code",
   "execution_count": 36,
   "id": "63f3aee9",
   "metadata": {},
   "outputs": [
    {
     "data": {
      "text/plain": [
       "['4', '0', '0', '0']"
      ]
     },
     "execution_count": 36,
     "metadata": {},
     "output_type": "execute_result"
    }
   ],
   "source": [
    "# find digits\n",
    "reg =re.findall(\"\\d\", text)\n",
    "reg"
   ]
  },
  {
   "cell_type": "code",
   "execution_count": 40,
   "id": "d1cc8306",
   "metadata": {},
   "outputs": [
    {
     "name": "stdout",
     "output_type": "stream",
     "text": [
      "['e', 'd', 'h', 'i', 'i', 'h', ',', 'e', 'a', 'i', 'i', 'h', 'h', 'c', 'a', 'c', 'e', ',', 'a', 'd', 'i', 'g', 'i', 'e', '4', '0', '0', '0', 'c', 'a', 'h']"
     ]
    }
   ],
   "source": [
    "# find digits and chars\n",
    "reg = re.findall(\"[\\d,a-k]\", text)\n",
    "print(reg, end=\"\")"
   ]
  },
  {
   "cell_type": "code",
   "execution_count": 45,
   "id": "fda0e62d",
   "metadata": {},
   "outputs": [
    {
     "name": "stdout",
     "output_type": "stream",
     "text": [
      "['H', 'e', 'l', 'l', 'o', 'W', 'o', 'r', 'l', 'd', 't', 'h', 'i', 's', 'i', 's', 'p', 'y', 't', 'h', 'o', 'n', ',', 'm', 'y', 'e', 'm', 'a', 'i', 'l', 'i', 's', 'p', 'y', 't', 'h', 'o', 'n', 'p', 'y', 't', 'h', 'o', 'n', 'c', 'o', 'm', 'C', 'o', 'n', 't', 'a', 'c', 't', 'm', 'e', ',', 'a', 'n', 'd', 'I', 'w', 'i', 'l', 'l', 'g', 'i', 'v', 'e', 'y', 'o', 'u', '4', '0', '0', '0', 'c', 'a', 's', 'h']"
     ]
    }
   ],
   "source": [
    "# find digits and chars and upper\n",
    "reg = re.findall(\"[\\d,a-z,A-Z]\", text)\n",
    "print(reg, end=\"\")"
   ]
  },
  {
   "cell_type": "code",
   "execution_count": 46,
   "id": "d15b33bb",
   "metadata": {},
   "outputs": [
    {
     "data": {
      "text/plain": [
       "['hello']"
      ]
     },
     "execution_count": 46,
     "metadata": {},
     "output_type": "execute_result"
    }
   ],
   "source": [
    "#Search for a sequence that starts with \"he\", followed by two (any) characters, and an \"o\":\n",
    "txt = \"hello planet\"\n",
    "reg = re.findall(\"he..o\", txt)\n",
    "reg"
   ]
  },
  {
   "cell_type": "code",
   "execution_count": 57,
   "id": "20def450",
   "metadata": {},
   "outputs": [
    {
     "data": {
      "text/plain": [
       "['hello plan']"
      ]
     },
     "execution_count": 57,
     "metadata": {},
     "output_type": "execute_result"
    }
   ],
   "source": [
    "#Search for a sequence that starts with \"he\", followed by two (any) characters, and end \"n\":\n",
    "reg = re.findall(\"he.......n\", txt)\n",
    "reg\n"
   ]
  },
  {
   "cell_type": "code",
   "execution_count": 65,
   "id": "604c9173",
   "metadata": {},
   "outputs": [
    {
     "name": "stdout",
     "output_type": "stream",
     "text": [
      "Yes! string starts with 'hello'\n"
     ]
    }
   ],
   "source": [
    "#Check if the string starts with 'hello':\n",
    "reg = re.findall(\"^hello\", txt)\n",
    "\n",
    "if reg:\n",
    "    print(\"Yes! string starts with 'hello'\")\n",
    "else:\n",
    "    print('No match!')"
   ]
  },
  {
   "cell_type": "code",
   "execution_count": 69,
   "id": "805d7bb6",
   "metadata": {},
   "outputs": [
    {
     "name": "stdout",
     "output_type": "stream",
     "text": [
      "it ends with 'planet'\n"
     ]
    }
   ],
   "source": [
    "#Check if the string ends with 'planet':\n",
    "reg = re.findall(\"et$\", txt)\n",
    "\n",
    "if reg:\n",
    "    print(\"it ends with 'planet'\")\n",
    "else:\n",
    "    print(\"No match found!\")"
   ]
  },
  {
   "cell_type": "code",
   "execution_count": 83,
   "id": "c75479f4",
   "metadata": {},
   "outputs": [
    {
     "data": {
      "text/plain": [
       "['hello']"
      ]
     },
     "execution_count": 83,
     "metadata": {},
     "output_type": "execute_result"
    }
   ],
   "source": [
    "txt = \"hello planet\"\n",
    "\n",
    "#Search for a sequence that starts with \"he\", followed by 0 or more  (any) characters, and an \"o\":\n",
    "\n",
    "reg = re.findall(\"he.*o\", txt)\n",
    "reg"
   ]
  },
  {
   "cell_type": "code",
   "execution_count": 84,
   "id": "7d1b0bea",
   "metadata": {},
   "outputs": [
    {
     "data": {
      "text/plain": [
       "['hello pl']"
      ]
     },
     "execution_count": 84,
     "metadata": {},
     "output_type": "execute_result"
    }
   ],
   "source": [
    "txt = \"hello planet\"\n",
    "\n",
    "#Search for a sequence that starts with \"he\", followed by 0 or more  (any) characters, and an \"o\":\n",
    "\n",
    "reg = re.findall(\"he.*l\", txt)\n",
    "reg"
   ]
  },
  {
   "cell_type": "code",
   "execution_count": 85,
   "id": "e1b89717",
   "metadata": {},
   "outputs": [
    {
     "data": {
      "text/plain": [
       "['hello']"
      ]
     },
     "execution_count": 85,
     "metadata": {},
     "output_type": "execute_result"
    }
   ],
   "source": [
    "txt = \"hello planet\"\n",
    "\n",
    "#Search for a sequence that starts with \"he\", followed by 1 or more  (any) characters, and an \"o\":\n",
    "reg = re.findall(\"he.+o\", txt)\n",
    "reg"
   ]
  },
  {
   "cell_type": "code",
   "execution_count": 87,
   "id": "fa63a32b",
   "metadata": {},
   "outputs": [
    {
     "data": {
      "text/plain": [
       "['heo hee hello helo']"
      ]
     },
     "execution_count": 87,
     "metadata": {},
     "output_type": "execute_result"
    }
   ],
   "source": [
    "txt = \"heo hee hello helo planet\"\n",
    "\n",
    "#Search for a sequence that starts with \"he\", followed by 1 or more  (any) characters, and an \"o\":\n",
    "reg = re.findall(\"he.+o\", txt)\n",
    "reg"
   ]
  },
  {
   "cell_type": "code",
   "execution_count": 88,
   "id": "93bffddf",
   "metadata": {},
   "outputs": [
    {
     "name": "stdout",
     "output_type": "stream",
     "text": [
      "[]\n"
     ]
    }
   ],
   "source": [
    "txt = \"hello planet\"\n",
    "\n",
    "#Search for a sequence that starts with \"he\", followed by 0 or 1  (any) character, and an \"o\":\n",
    "\n",
    "x = re.findall(\"he.?o\", txt)\n",
    "\n",
    "print(x)\n",
    "\n",
    "#This time we got no match, because there were not zero, not one, but two characters between \"he\" and the \"o\""
   ]
  },
  {
   "cell_type": "code",
   "execution_count": 93,
   "id": "8ddacacd",
   "metadata": {},
   "outputs": [
    {
     "name": "stdout",
     "output_type": "stream",
     "text": [
      "['helo', 'helo', 'hexo']\n"
     ]
    }
   ],
   "source": [
    "txt = \"hello helo hee heee helohee hexo planet\"\n",
    "\n",
    "#Search for a sequence that starts with \"he\", followed by 0 or 1  (any) character, and an \"o\":\n",
    "\n",
    "x = re.findall(\"he.?o\", txt)\n",
    "\n",
    "print(x)\n",
    "\n",
    "#This time we got no match, because there were not zero, not one, but two characters between \"he\" and the \"o\""
   ]
  },
  {
   "cell_type": "code",
   "execution_count": 231,
   "id": "cfb772d5",
   "metadata": {},
   "outputs": [],
   "source": [
    "import re"
   ]
  },
  {
   "cell_type": "code",
   "execution_count": 72,
   "id": "1cfc5f9c",
   "metadata": {},
   "outputs": [],
   "source": [
    "text = \"\"\"Python was conceived in the late 1980s[41] by Guido van Rossum at Centrum Wiskunde & Informatica (CWI) in the Netherlands as a successor to the ABC programming language, which was inspired by SETL,[42] capable of exception handling (from the start plus new capabilities in Python 3.11) and interfacing with the Amoeba operating system.[12] Its implementation began in December 1989.[43] Van Rossum shouldered sole responsibility for the project, as the lead developer, until 12 July 2018, when he announced his \"permanent vacation\" from his responsibilities as Python's \"benevolent dictator for life\", a title the Python community bestowed upon him to reflect his long-term commitment as the project's chief decision-maker.[44] In January 2019, active Python core developers elected a five-member Steering Council to lead the project.[45][46]\n",
    "Python 2.0 was released on 16 October 2000, with many major new features.name, [47] Python 3.0, released on 3 December 2008, with many of its major features backported to Python 2.6.x[48] and 2.7.x. Releases of Python 3 include the 2to3 utility, which automates the translation of Python 2 code to Python 3\n",
    "\"\"\""
   ]
  },
  {
   "cell_type": "code",
   "execution_count": 3,
   "id": "fff14950",
   "metadata": {},
   "outputs": [
    {
     "data": {
      "text/plain": [
       "['Python']"
      ]
     },
     "execution_count": 3,
     "metadata": {},
     "output_type": "execute_result"
    }
   ],
   "source": [
    "r = re.findall(\"^Python\", text)\n",
    "r"
   ]
  },
  {
   "cell_type": "code",
   "execution_count": 8,
   "id": "6dc7f4b4",
   "metadata": {
    "scrolled": true
   },
   "outputs": [
    {
     "data": {
      "text/plain": [
       "'Python'"
      ]
     },
     "execution_count": 8,
     "metadata": {},
     "output_type": "execute_result"
    }
   ],
   "source": [
    "# get first Value\n",
    "r = re.split(\"\\s\",text,1)\n",
    "r[0]"
   ]
  },
  {
   "cell_type": "code",
   "execution_count": 17,
   "id": "e2ea1e89",
   "metadata": {},
   "outputs": [
    {
     "data": {
      "text/plain": [
       "['Python']"
      ]
     },
     "execution_count": 17,
     "metadata": {},
     "output_type": "execute_result"
    }
   ],
   "source": [
    "# get first Value\n",
    "r = re.findall(\"^\\w+\",text)\n",
    "r"
   ]
  },
  {
   "cell_type": "code",
   "execution_count": 30,
   "id": "7af93585",
   "metadata": {},
   "outputs": [
    {
     "data": {
      "text/plain": [
       "['Python']"
      ]
     },
     "execution_count": 30,
     "metadata": {},
     "output_type": "execute_result"
    }
   ],
   "source": [
    "# get last Value\n",
    "r = re.findall(r\"\\s(\\w+)$\",text)\n",
    "r"
   ]
  },
  {
   "cell_type": "code",
   "execution_count": 38,
   "id": "661bc4d6",
   "metadata": {},
   "outputs": [
    {
     "data": {
      "text/plain": [
       "['3']"
      ]
     },
     "execution_count": 38,
     "metadata": {},
     "output_type": "execute_result"
    }
   ],
   "source": [
    "r = re.findall(r\"\\s(\\w+)$\", text)\n",
    "r"
   ]
  },
  {
   "cell_type": "code",
   "execution_count": 54,
   "id": "fff79d00",
   "metadata": {
    "collapsed": true
   },
   "outputs": [
    {
     "data": {
      "text/plain": [
       "['1980',\n",
       " '41',\n",
       " '42',\n",
       " '3',\n",
       " '11',\n",
       " '12',\n",
       " '1989',\n",
       " '43',\n",
       " '12',\n",
       " '2018',\n",
       " '44',\n",
       " '2019',\n",
       " '45',\n",
       " '46',\n",
       " '2',\n",
       " '0',\n",
       " '16',\n",
       " '2000',\n",
       " '47',\n",
       " '3',\n",
       " '0',\n",
       " '3',\n",
       " '2008',\n",
       " '2',\n",
       " '6',\n",
       " '48',\n",
       " '2',\n",
       " '7',\n",
       " '3',\n",
       " '2',\n",
       " '3',\n",
       " '2',\n",
       " '3']"
      ]
     },
     "execution_count": 54,
     "metadata": {},
     "output_type": "execute_result"
    }
   ],
   "source": [
    "# get all the numbers\n",
    "r = re.findall(\"\\d+\", text)\n",
    "r"
   ]
  },
  {
   "cell_type": "code",
   "execution_count": 93,
   "id": "bc34b27d",
   "metadata": {
    "collapsed": true
   },
   "outputs": [
    {
     "data": {
      "text/plain": [
       "['the ',\n",
       " 'late ',\n",
       " 'Wiskunde ',\n",
       " 'the ',\n",
       " 'the ',\n",
       " 'capable ',\n",
       " 'the ',\n",
       " 'the ',\n",
       " 'sole ',\n",
       " 'the ',\n",
       " 'the ',\n",
       " 'he ',\n",
       " 'title ',\n",
       " 'the ',\n",
       " 'the ',\n",
       " 'active ',\n",
       " 'core ',\n",
       " 'the ',\n",
       " 'include ',\n",
       " 'the ',\n",
       " 'the ',\n",
       " 'code ']"
      ]
     },
     "execution_count": 93,
     "metadata": {},
     "output_type": "execute_result"
    }
   ],
   "source": [
    "r = re.findall(\"\\w+.?e\\s\", text)\n",
    "r"
   ]
  },
  {
   "cell_type": "code",
   "execution_count": 128,
   "id": "301deb50",
   "metadata": {
    "collapsed": true
   },
   "outputs": [
    {
     "data": {
      "text/plain": [
       "['Python',\n",
       " 'Guido',\n",
       " 'Rossum',\n",
       " 'Centrum',\n",
       " 'Wiskunde',\n",
       " 'Informatica',\n",
       " 'CWI',\n",
       " 'Netherlands',\n",
       " 'ABC',\n",
       " 'SETL',\n",
       " 'Python',\n",
       " 'Amoeba',\n",
       " 'Its',\n",
       " 'December',\n",
       " 'Van',\n",
       " 'Rossum',\n",
       " 'July',\n",
       " 'Python',\n",
       " 'Python',\n",
       " 'In',\n",
       " 'January',\n",
       " 'Python',\n",
       " 'Steering',\n",
       " 'Council',\n",
       " 'Python',\n",
       " 'October',\n",
       " 'Python',\n",
       " 'December',\n",
       " 'Python',\n",
       " 'Releases',\n",
       " 'Python',\n",
       " 'Python',\n",
       " 'Python']"
      ]
     },
     "execution_count": 128,
     "metadata": {},
     "output_type": "execute_result"
    }
   ],
   "source": [
    "# begin with Cap\n",
    "r = re.findall(\"[A-Z]\\w+\", text)\n",
    "r"
   ]
  },
  {
   "cell_type": "code",
   "execution_count": 132,
   "id": "168d3f90",
   "metadata": {
    "collapsed": true
   },
   "outputs": [
    {
     "data": {
      "text/plain": [
       "['was',\n",
       " 'conceived',\n",
       " 'in',\n",
       " 'the',\n",
       " 'late',\n",
       " 'by',\n",
       " 'van',\n",
       " 'at',\n",
       " 'in',\n",
       " 'the',\n",
       " 'as',\n",
       " 'successor',\n",
       " 'to',\n",
       " 'the',\n",
       " 'programming',\n",
       " 'language',\n",
       " 'which',\n",
       " 'was',\n",
       " 'inspired',\n",
       " 'by',\n",
       " 'capable',\n",
       " 'of',\n",
       " 'exception',\n",
       " 'handling',\n",
       " 'from',\n",
       " 'the',\n",
       " 'start',\n",
       " 'plus',\n",
       " 'new',\n",
       " 'capabilities',\n",
       " 'in',\n",
       " 'and',\n",
       " 'interfacing',\n",
       " 'with',\n",
       " 'the',\n",
       " 'operating',\n",
       " 'system',\n",
       " 'implementation',\n",
       " 'began',\n",
       " 'in',\n",
       " 'shouldered',\n",
       " 'sole',\n",
       " 'responsibility',\n",
       " 'for',\n",
       " 'the',\n",
       " 'project',\n",
       " 'as',\n",
       " 'the',\n",
       " 'lead',\n",
       " 'developer',\n",
       " 'until',\n",
       " 'when',\n",
       " 'he',\n",
       " 'announced',\n",
       " 'his',\n",
       " 'permanent',\n",
       " 'vacation',\n",
       " 'from',\n",
       " 'his',\n",
       " 'responsibilities',\n",
       " 'as',\n",
       " 'benevolent',\n",
       " 'dictator',\n",
       " 'for',\n",
       " 'life',\n",
       " 'title',\n",
       " 'the',\n",
       " 'community',\n",
       " 'bestowed',\n",
       " 'upon',\n",
       " 'him',\n",
       " 'to',\n",
       " 'reflect',\n",
       " 'his',\n",
       " 'long',\n",
       " 'term',\n",
       " 'commitment',\n",
       " 'as',\n",
       " 'the',\n",
       " 'project',\n",
       " 'chief',\n",
       " 'decision',\n",
       " 'maker',\n",
       " 'active',\n",
       " 'core',\n",
       " 'developers',\n",
       " 'elected',\n",
       " 'five',\n",
       " 'member',\n",
       " 'to',\n",
       " 'lead',\n",
       " 'the',\n",
       " 'project',\n",
       " 'was',\n",
       " 'released',\n",
       " 'on',\n",
       " 'with',\n",
       " 'many',\n",
       " 'major',\n",
       " 'new',\n",
       " 'features',\n",
       " 'name',\n",
       " 'released',\n",
       " 'on',\n",
       " 'with',\n",
       " 'many',\n",
       " 'of',\n",
       " 'its',\n",
       " 'major',\n",
       " 'features',\n",
       " 'backported',\n",
       " 'to',\n",
       " 'and',\n",
       " 'of',\n",
       " 'include',\n",
       " 'the',\n",
       " 'utility',\n",
       " 'which',\n",
       " 'automates',\n",
       " 'the',\n",
       " 'translation',\n",
       " 'of',\n",
       " 'code',\n",
       " 'to']"
      ]
     },
     "execution_count": 132,
     "metadata": {},
     "output_type": "execute_result"
    }
   ],
   "source": [
    "# begin with Lower\n",
    "r = re.findall(r\"\\b[a-z]\\w+\", text)\n",
    "r"
   ]
  },
  {
   "cell_type": "code",
   "execution_count": 168,
   "id": "01eb0260",
   "metadata": {},
   "outputs": [
    {
     "data": {
      "text/plain": [
       "['(CWI)']"
      ]
     },
     "execution_count": 168,
     "metadata": {},
     "output_type": "execute_result"
    }
   ],
   "source": [
    "# find chars in parenthesis\n",
    "r = re.findall(\"\\(\\w+?\\)\", text)\n",
    "r"
   ]
  },
  {
   "cell_type": "code",
   "execution_count": 218,
   "id": "86d3e332",
   "metadata": {},
   "outputs": [
    {
     "ename": "AttributeError",
     "evalue": "'re.Match' object has no attribute 'findall'",
     "output_type": "error",
     "traceback": [
      "\u001b[0;31m---------------------------------------------------------------------------\u001b[0m",
      "\u001b[0;31mAttributeError\u001b[0m                            Traceback (most recent call last)",
      "\u001b[0;32m/tmp/ipykernel_5893/4179239526.py\u001b[0m in \u001b[0;36m<module>\u001b[0;34m\u001b[0m\n\u001b[1;32m      1\u001b[0m \u001b[0;31m# find chars in parenthesis\u001b[0m\u001b[0;34m\u001b[0m\u001b[0;34m\u001b[0m\u001b[0m\n\u001b[0;32m----> 2\u001b[0;31m \u001b[0mr\u001b[0m \u001b[0;34m=\u001b[0m \u001b[0mre\u001b[0m\u001b[0;34m.\u001b[0m\u001b[0mfindall\u001b[0m\u001b[0;34m(\u001b[0m\u001b[0;34m\"\\(\\w.+?\\)\"\u001b[0m\u001b[0;34m,\u001b[0m \u001b[0mtext\u001b[0m\u001b[0;34m)\u001b[0m\u001b[0;34m\u001b[0m\u001b[0;34m\u001b[0m\u001b[0m\n\u001b[0m\u001b[1;32m      3\u001b[0m \u001b[0mr\u001b[0m\u001b[0;34m\u001b[0m\u001b[0;34m\u001b[0m\u001b[0m\n",
      "\u001b[0;31mAttributeError\u001b[0m: 're.Match' object has no attribute 'findall'"
     ]
    }
   ],
   "source": [
    "# find chars in parenthesis\n",
    "r = re.findall(\"\\(\\w.+?\\)\", text)\n",
    "r"
   ]
  },
  {
   "cell_type": "code",
   "execution_count": 227,
   "id": "4aa6ac8e",
   "metadata": {},
   "outputs": [],
   "source": [
    "text = \"\"\"Python was \n",
    "conceived\"\"\""
   ]
  },
  {
   "cell_type": "code",
   "execution_count": 187,
   "id": "923b03b1",
   "metadata": {},
   "outputs": [
    {
     "data": {
      "text/plain": [
       "['late', 'December', 'July', 'January', 'October', 'December']"
      ]
     },
     "execution_count": 187,
     "metadata": {},
     "output_type": "execute_result"
    }
   ],
   "source": [
    "# find all chars before 4 nums\n",
    "r = re.findall(\"(\\w+)?\\s[0-9]{4}\", text)\n",
    "r"
   ]
  },
  {
   "cell_type": "code",
   "execution_count": 213,
   "id": "66f22568",
   "metadata": {},
   "outputs": [
    {
     "data": {
      "text/plain": [
       "['', '']"
      ]
     },
     "execution_count": 213,
     "metadata": {},
     "output_type": "execute_result"
    }
   ],
   "source": [
    "# find all chars after 4 nums\n",
    "# r = re.findall(\"(\\w+)?[0-9]{4}\", text)\n",
    "r"
   ]
  },
  {
   "cell_type": "code",
   "execution_count": 229,
   "id": "5d73f339",
   "metadata": {},
   "outputs": [
    {
     "data": {
      "text/plain": [
       "['\\n']"
      ]
     },
     "execution_count": 229,
     "metadata": {},
     "output_type": "execute_result"
    }
   ],
   "source": [
    "# find new line\n",
    "re = re.findall(\"\\n\",text)\n",
    "re"
   ]
  },
  {
   "cell_type": "code",
   "execution_count": 230,
   "id": "41af0047",
   "metadata": {},
   "outputs": [
    {
     "ename": "AttributeError",
     "evalue": "'list' object has no attribute 'search'",
     "output_type": "error",
     "traceback": [
      "\u001b[0;31m---------------------------------------------------------------------------\u001b[0m",
      "\u001b[0;31mAttributeError\u001b[0m                            Traceback (most recent call last)",
      "\u001b[0;32m/tmp/ipykernel_5893/1124727183.py\u001b[0m in \u001b[0;36m<module>\u001b[0;34m\u001b[0m\n\u001b[1;32m      1\u001b[0m \u001b[0;31m# find new line\u001b[0m\u001b[0;34m\u001b[0m\u001b[0;34m\u001b[0m\u001b[0m\n\u001b[0;32m----> 2\u001b[0;31m \u001b[0mr\u001b[0m \u001b[0;34m=\u001b[0m \u001b[0mre\u001b[0m\u001b[0;34m.\u001b[0m\u001b[0msearch\u001b[0m\u001b[0;34m(\u001b[0m\u001b[0;34m\"\\n\"\u001b[0m\u001b[0;34m,\u001b[0m\u001b[0mtext\u001b[0m\u001b[0;34m)\u001b[0m\u001b[0;34m\u001b[0m\u001b[0;34m\u001b[0m\u001b[0m\n\u001b[0m\u001b[1;32m      3\u001b[0m \u001b[0mr\u001b[0m\u001b[0;34m\u001b[0m\u001b[0;34m\u001b[0m\u001b[0m\n",
      "\u001b[0;31mAttributeError\u001b[0m: 'list' object has no attribute 'search'"
     ]
    }
   ],
   "source": [
    "# find new line\n",
    "r = re.search(\"\\n\",text)\n",
    "r"
   ]
  },
  {
   "cell_type": "markdown",
   "id": "c312e4b4",
   "metadata": {},
   "source": [
    "## Compile"
   ]
  },
  {
   "cell_type": "code",
   "execution_count": 2,
   "id": "03a1cc05",
   "metadata": {},
   "outputs": [],
   "source": [
    "import re\n",
    "prog = re.compile(\"Py\")\n",
    "text = \"\"\"Python was conceived in the late 1980s[41] by Guido van Rossum at Centrum Wiskunde & Informatica (CWI) in the Netherlands as a successor to the ABC programming language, which was inspired by SETL,[42] capable of exception handling (from the start plus new capabilities in Python 3.11) and interfacing with the Amoeba operating system.[12] Its implementation began in December 1989.[43] Van Rossum shouldered sole responsibility for the project, as the lead developer, until 12 July 2018, when he announced his \"permanent vacation\" from his responsibilities as Python's \"benevolent dictator for life\", a title the Python community bestowed upon him to reflect his long-term commitment as the project's chief decision-maker.[44] In January 2019, active Python core developers elected a five-member Steering Council to lead the project.[45][46]\n",
    "Python 2.0 was released on 16 October 2000, with many major new features.name, [47] Python 3.0, released on 3 December 2008, with many of its major features backported to Python 2.6.x[48] and 2.7.x. Releases of Python 3 include the 2to3 utility, which automates the translation of Python 2 code to Python 3\n",
    "\"\"\""
   ]
  },
  {
   "cell_type": "code",
   "execution_count": 3,
   "id": "cb99f996",
   "metadata": {},
   "outputs": [
    {
     "data": {
      "text/plain": [
       "['Py', 'Py', 'Py', 'Py', 'Py', 'Py', 'Py', 'Py', 'Py', 'Py', 'Py']"
      ]
     },
     "execution_count": 3,
     "metadata": {},
     "output_type": "execute_result"
    }
   ],
   "source": [
    "result1 = prog.findall(text)\n",
    "result1"
   ]
  },
  {
   "cell_type": "code",
   "execution_count": 4,
   "id": "31965c2f",
   "metadata": {},
   "outputs": [
    {
     "data": {
      "text/plain": [
       "<re.Match object; span=(0, 2), match='Py'>"
      ]
     },
     "execution_count": 4,
     "metadata": {},
     "output_type": "execute_result"
    }
   ],
   "source": [
    "result2 = prog.search(text)\n",
    "result2"
   ]
  },
  {
   "cell_type": "code",
   "execution_count": 5,
   "id": "918bff77",
   "metadata": {},
   "outputs": [
    {
     "data": {
      "text/plain": [
       "['Py', 'Py', 'Py', 'Py', 'Py', 'Py', 'Py', 'Py', 'Py', 'Py', 'Py']"
      ]
     },
     "execution_count": 5,
     "metadata": {},
     "output_type": "execute_result"
    }
   ],
   "source": [
    "result1 = prog.findall(text)\n",
    "result1"
   ]
  },
  {
   "cell_type": "code",
   "execution_count": 13,
   "id": "9616aba2",
   "metadata": {},
   "outputs": [
    {
     "data": {
      "text/plain": [
       "['3.11', '2.0', '3.0', '2.6', '2.7']"
      ]
     },
     "execution_count": 13,
     "metadata": {},
     "output_type": "execute_result"
    }
   ],
   "source": [
    "# find the num with decimal after it\n",
    "import re\n",
    "prog = re.compile(r\"\\d\\.\\d+\")\n",
    "text = \"\"\"Python was conceived in the late 1980s[41] by Guido van Rossum at Centrum Wiskunde & Informatica (CWI) in the Netherlands as a successor to the ABC programming language, which was inspired by SETL,[42] capable of exception handling (from the start plus new capabilities in Python 3.11) and interfacing with the Amoeba operating system.[12] Its implementation began in December 1989.[43] Van Rossum shouldered sole responsibility for the project, as the lead developer, until 12 July 2018, when he announced his \"permanent vacation\" from his responsibilities as Python's \"benevolent dictator for life\", a title the Python community bestowed upon him to reflect his long-term commitment as the project's chief decision-maker.[44] In January 2019, active Python core developers elected a five-member Steering Council to lead the project.[45][46]\n",
    "Python 2.0 was released on 16 October 2000, with many major new features.name, [47] Python 3.0, released on 3 December 2008, with many of its major features backported to Python 2.6.x[48] and 2.7.x. Releases of Python 3 include the 2to3 utility, which automates the translation of Python 2 code to Python 3\n",
    "\"\"\"\n",
    "result = prog.findall(text)\n",
    "result"
   ]
  },
  {
   "cell_type": "markdown",
   "id": "63649d75",
   "metadata": {},
   "source": [
    "## Working with ext File"
   ]
  },
  {
   "cell_type": "code",
   "execution_count": 14,
   "id": "184f5631",
   "metadata": {},
   "outputs": [],
   "source": [
    "import re"
   ]
  },
  {
   "cell_type": "code",
   "execution_count": 65,
   "id": "b7c09e19",
   "metadata": {},
   "outputs": [],
   "source": [
    "# Open file\n",
    "with open(\"pythonWikipedia.txt\", \"r\") as f:\n",
    "    wikiReader = f.read()"
   ]
  },
  {
   "cell_type": "code",
   "execution_count": 47,
   "id": "b58cab49",
   "metadata": {},
   "outputs": [
    {
     "data": {
      "text/plain": [
       "['This']"
      ]
     },
     "execution_count": 47,
     "metadata": {},
     "output_type": "execute_result"
    }
   ],
   "source": [
    "# find the first word\n",
    "regex = re.compile(r\"^\\w+\")\n",
    "firstWrd = regex.findall(wikiReader)\n",
    "firstWrd"
   ]
  },
  {
   "cell_type": "code",
   "execution_count": 58,
   "id": "11df8e5f",
   "metadata": {},
   "outputs": [
    {
     "data": {
      "text/plain": [
       "[' ', '\\n    ', ' ', ' ', '\\n\\n\\n\\n\\n\\n']"
      ]
     },
     "execution_count": 58,
     "metadata": {},
     "output_type": "execute_result"
    }
   ],
   "source": [
    "# find whats in the last word(s)\n",
    "regex = re.compile(r\"\\s+\")\n",
    "lastWrd = regex.findall(wikiReader)\n",
    "lastWrd[-5:]"
   ]
  },
  {
   "cell_type": "code",
   "execution_count": 144,
   "id": "d2cdd115",
   "metadata": {},
   "outputs": [],
   "source": [
    "# replacing the newlines(\\n) with with one \\n\n",
    "# regex = re.compile(\"\\n\\n+\")\n",
    "# newLnDebug = regex.findall(wikiReader) # debug\n",
    "# newLnDebug\n",
    "\n",
    "# regex = re.compile(\"\\n\\n+\", \"\\n\") # Replace\n",
    "newLn = re.sub(\"\\n\\n+\", \"\\n\",wikiReader)\n",
    "\n",
    "# write outPut to file\n",
    "with open(\"pyWiki.txt\", \"w\") as f:\n",
    "    f.write(newLn)\n",
    "f.close()"
   ]
  },
  {
   "cell_type": "code",
   "execution_count": 79,
   "id": "fb3bd889",
   "metadata": {
    "collapsed": true
   },
   "outputs": [
    {
     "name": "stdout",
     "output_type": "stream",
     "text": [
      "There are 2087 words found.\n",
      "Do you want to display them? yes\\No yes\n",
      "['1', '20', '1991', '31', '2', '3', '11', '1', '3', '6', '2022', '16', '3', '12', '0', '3', '3', '6', '2022', '16', '4', '3', '5', '5', '6', '7', '8', '3', '5', '9', '3', '5', '10', '11', '12', '13', '68', '14', '15', '16', '17', '18', '19', '20', '15', '21', '22', '3', '14', '17', '23', '15', '24', '25', '26', '27', '28', '29', '30', '31', '32', '33', '34', '1980', '1991', '0', '9', '0', '35', '2', '0', '2000', '3', '0', '2008', '2', '2', '7', '18', '2020', '36', '37', '38', '39', '40', '1', '1', '1', '2', '3', '3', '1', '3', '2', '3', '3', '3', '4', '3', '5', '3', '6', '4', '5', '6', '7', '7', '1', '7', '2', '7', '3', '7', '4', '7', '5', '8', '9', '10', '11', '12', '13', '14', '15', '15', '1', '16', '17', '2006', '1980', '41', '42', '3', '11', '12', '1989', '43', '12', '2018', '44', '2019', '45', '46', '2', '0', '16', '2000', '47', '3', '0', '3', '2008', '2', '6', '48', '2', '7', '3', '2', '3', '2', '3', '49', '2', '7', '2015', '2020', '3', '50', '51', '52', '53', '3', '7', '2021', '3', '9', '2', '3', '8', '8', '54', '2', '7', '55', '56', '57', '2022', '3', '10', '4', '3', '9', '12', '58', '3', '8', '13', '3', '7', '13', '59', '3', '9', '13', '2022', '3', '9', '3', '8', '3', '7', '60', '7', '2022', '3', '10', '7', '3', '9', '14', '3', '8', '14', '3', '7', '14', '61', '62', '2022', '3', '11', '0', '3', '10', '10', '60', '63', '3', '12', '2', '3', '12', '64', '8', '3', '2', '65', '66', '67', '68', '69', '70', '71', '72', '20', '73', '41', '73', '74', '75', '76', '77', '78', '79', '80', '81', '82', '83', '84', '85', '86', '3', '11', '87', '88', '89', '90', '91', '2', '5', '2', '5', '3', '3', '92', '93', '94', '95', '3', '8', '96', '71', '97', '1', '2', '3', '1', '2', '3', '1', '2', '3', '4', '5', '4', '5', '1', '2', '3', '4', '5', '98', '99', '2', '2', '2', '6', '3', '0', '1', '2', '3', '6', '2', '100', '2', '2', '22', '3', '6', '100', '2', '1', '1', '1', '101', '102', '3', '3', '0', '103', '104', '105', '3', '119', '105', '107', '105', '119', '105', '107', '105', '3', '2', '7', '3', '2', '7', '1', '1', '0', '3', '64', '754', '53', '106', '1', '33333', '4', '0', '107', '42', '4', '0', '108', '1', '10', '10', '5', '2', '4', '0', '4', '0', '4', '3', '2', '5', '3', '125', '9', '0', '5', '3', '0', '109', '110', '3', '0', '5', '2', '2', '5', '7', '3', '2', '7', '3', '3', '7', '5', '3', '2', '0', '7', '5', '3', '3', '0', '2', '7', '3', '0', '3', '0', '110', '1', '0', '0', '111', '3', '1', '5', '2', '5', '2', '112', '3', '0', '5', '1', '0', '0', '5', '1', '0', '113', '114', '0', '1', '115', '116', '117', '118', '119', '0', '1', '2', '1', '120', '121', '333', '122', '14', '2022', '415', '000', '123', '124', '89', '3', '11', '11', '125', '99', '126', '127', '11', '128', '129', '130', '131', '3', '9', '7', '8', '132', '133', '3', '5', '1', '3', '9', '1', '134', '135', '1', '2', '2', '136', '2', '7', '3', '8', '137', '138', '139', '140', '3', '3', '141', '142', '3', '8', '143', '2009', '144', '2', '7', '60', '2', '60', '2005', '900', '145', '146', '147', '148', '2012', '2', '7', '3', '149', '3', '11', '150', '151', '152', '11', '153', '3', '17', '3', '2017', '2', '154', '155', '156', '2', '7', '2021', '3', '4', '157', '158', '2', '7', '159', '2010', '2013', '13', '160', '161', '162', '8', '163', '162', '164', '2022', '165', '2017', '166', '3', '0', '8', '2', '0', '4', '0', '167', '3', '9', '168', '169', '170', '171', '3', '171', '172', '3', '10', '3', '12', '173', '174', '175', '176', '177', '177', '178', '179', '180', '2003', '2021', '181', '2007', '2010', '2018', '2020', '182', '183', '184', '185', '186', '187', '188', '189', '190', '191', '192', '193', '194', '195', '2', '196', '197', '198', '199', '200', '201', '202', '203', '204', '2', '3', '3', '3', '4', '2', '205', '206', '207', '208', '209', '210', '211', '4', '2', '7', '212', '213', '2008', '214', '215', '4', '0', '7', '2013', '216', '217', '218', '219', '220', '221', '28', '222', '223', '224', '225', '226', '227', '3', '9', '2', '24', '2012', '28', '2021', '0', '9', '1', '01', '21', '11', '2021', '11', '2021', '3', '11', '1', '3', '10', '9', '3', '9', '16', '3', '8', '16', '3', '7', '16', '3', '12', '0', '3', '6', '2022', '7', '2022', '14', '2021', '27', '2021', '483', '14', '2020', '14', '2018', '3', '7', '13', '17', '2022', '3', '10', '4', '17', '2022', '8', '2018', '24', '2021', '30', '2014', '0441', '26', '2018', '12', '2015', '3', '5', '0488', '1', '2020', '15', '2020', '25', '2019', '24', '2012', '22', '2007', '83', '22', '2019', '7', '2020', '22', '2006', '1998', '1', '2007', '12', '2012', '2', '3', '68', '3', '7', '1', '14', '2020', '22', '2016', '1993', '10', '1', '1', '38', '2023', '23', '2012', '20', '2012', '3', '23', '2019', '21', '2017', '2', '3', '20', '2020', '29', '2014', '3', '2', '7', '2', '24', '2012', '9', '2012', '18', '2001', '255', '5', '2020', '9', '2012', '3', '4', '2016', '24', '2015', '3', '10', '6', '6', '2022', '12', '2020', '3', '2018', '1', '2020', '28', '2020', '2', '24', '2013', '26', '2018', '15', '2015', '3', '26', '2018', '15', '2015', '2012', '2', '2020', '5', '2014', '4', '2017', '25', '2018', '4', '2017', '2007', '2', '0', '3', '978', '1', '59059', '881', '8', '3', '2014', '25', '2018', '3', '2014', '1', '1', '23', '2012', '20', '2012', '24', '2012', '206', '5', '2021', '11', '2021', '20', '2009', '5', '2020', '5', '2021', '20', '2020', '2', '7', '18', '2', '26', '2020', '27', '2020', '2022', '12', '2022', '2020', '1', '2021', '5', '2021', '25', '2018', '2', '2021', '14', '2017', '26', '2021', '13', '2003', '1', '2016', '22', '2007', '29', '2000', '14', '2018', '13', '2011', '20', '2009', '5', '2020', '20', '2009', '12', '2018', '13', '2018', '13', '2018', '8100', '4', '2020', '4', '2019', '13', '27', '2021', '25', '2021', '16', '2000', '2', '0', '23', '2012', '11', '2012', '5', '2006', '3000', '3000', '3', '2016', '27', '2009', '2', '3', '2', '3', '4', '2020', '2', '2021', '373', '2', '7', '19', '2020', '9', '2017', '466', '2', '7', '4', '2020', '9', '2017', '2', '12', '2020', '22', '2019', '373', '2', '7', '13', '2020', '22', '2019', '19', '2021', '3', '9', '2', '3', '8', '8', '25', '2021', '26', '2021', '24', '7', '6', '2021', '26', '2021', '2021', '3177', '27', '2021', '26', '2021', '2021', '23336', '24', '2021', '26', '2021', '24', '2022', '3', '10', '4', '3', '9', '12', '19', '2022', '16', '2022', '3', '10', '3', '3', '9', '11', '3', '8', '13', '3', '7', '13', '19', '2022', '17', '2022', '3', '9', '13', '21', '2022', '3', '10', '7', '3', '9', '14', '3', '8', '14', '3', '7', '14', '7', '2022', '16', '2022', '2020', '10735', '16', '2022', '24', '2022', '3', '11', '15', '2022', '3', '12', '0', '1', '31', '2022', '30', '2009', '27', '2009', '3', '3', '15', '2018', '27', '2009', '23', '2019', '24', '2011', '15', '2020', '24', '2011', '13', '2020', '22', '2012', '18', '2012', '5', '2020', '30', '2002', '289', '14', '2020', '19', '2012', '6', '5', '14', '2020', '22', '2016', '19', '2004', '20', '26', '2018', '24', '2008', '2005', '2', '230', '978', '0', '596', '00797', '3', '23', '2020', '14', '2015', '21', '2014', '30', '2014', '2', '7', '3', '24', '2012', '4', '2020', '15', '11', '2019', '3', '2018', '3', '11', '0', '22', '2021', '5', '2022', '26', '2019', '13', '2021', '20', '2021', '27', '2021', '20', '2021', '27', '2014', '24', '2009', '23', '2018', '24', '2009', '24', '2012', '21', '2007', '18', '2018', '19', '2011', '12', '2016', '978', '0', '262', '52962', '4', '8', '17', '2019', '26', '2019', '8', '3', '12', '0', '0', '9', '2022', '2', '5', '4', '2019', '20', '2018', '22', '2009', '19', '2018', '3', '2012', '9', '2006', '17', '2020', '21', '2007', '10', '2005', '342', '29', '2020', '19', '2012', '380', '4', '2020', '3', '2012', '20', '2006', '30', '2014', '0465', '4', '2020', '1', '2016', '3', '5', '1', '14', '2020', '1', '2016', '3', '8', '8', '2020', '14', '2019', '7', '2003', '308', '13', '2016', '13', '2011', '4', '3', '6', '3', '1', '14', '2020', '1', '2017', '5', '3', '3', '7', '1', '2', '10', '2020', '17', '2018', '498', '15', '2020', '8', '2017', '24', '2012', '19', '2012', '2020', '322', '978', '1', '59327', '966', '0', '13', '2021', '7', '2021', '3', '3', '2', '7', '1', '26', '2012', '12', '2011', '24', '2014', '20', '2019', '5', '2015', '6', '2020', '28', '2017', '15', '3', '8', '3', '6', '2020', '6', '2020', '2000', '754', '754', '11', '2001', '237', '28', '2020', '24', '2011', '14', '2020', '3', '2019', '465', '29', '2020', '3', '2018', '11', '2001', '238', '28', '2020', '23', '2013', '24', '2010', '5', '2020', '25', '2010', '3', '2', '2', '25', '2012', '14', '2011', '2', '7', '2', '27', '2012', '14', '2011', '2009', '4', '66', '9780672329784', '1988', '2', '206', '0327', '4', '2020', '26', '2015', '2', '6', '2', '6', '9', '23', '2019', '26', '2015', '10', '31', '2020', '3', '2019', '17', '2014', '4', '2019', '3', '2019', '2006', '2', '2019', '12', '2012', '17', '2003', '327', '4', '2020', '24', '2008', '7', '2003', '333', '1', '0', '14', '2020', '19', '2012', '14', '2022', '26', '2022', '15', '2017', '20', '2016', '7', '28', '2022', '3', '11', '14', '2021', '1', '2021', '35473', '11', '14', '2021', '1', '2021', '4', '3', '9', '2', '3', '2021', '1', '2021', '5', '2001', '7', '1', '2020', '24', '2008', '5', '2020', '16', '2016', '2', '5', '6', '2012', '19', '2011', '3', '9', '0', '7', '2021', '8', '2021', '8', '2020', '13', '2020', '2', '2020', '4', '2020', '16', '2014', '24', '2008', '27', '2020', '4', '2020', '6', '2020', '3', '2012', '28', '2019', '8', '2022', '10', '2021', '3', '2012', '2', '0', '2', '4', '2020', '17', '2013', '3', '7', '2020', '17', '2019', '29', '2020', '27', '2021', '26', '2021', '4', '2021', '4', '2021', '15', '2009', '11', '2016', '24', '2011', '900', '29', '2010', '20', '2019', '9', '2015', '3', '2018', '21', '2021', '19', '2018', '22', '2020', '5', '2020', '20', '2021', '30', '2020', '18', '2017', '24', '2019', '25', '2020', '25', '2020', '0', '9', '5', '19', '2020', '25', '2020', '18', '2021', '20', '2021', '11', '10', '2020', '15', '2020', '25', '2020', '24', '2020', '25', '2020', '7', '2021', '20', '2021', '3', '3', '28', '2021', '17', '2021', '22', '2021', '22', '2021', '2013', '1404', '6388', '2014', '1404', '6388', '14', '2020', '30', '2020', '13', '2000', '1', '6', '2020', '19', '2011', '8', '17', '2019', '26', '2019', '1', '2009', '27', '2009', '9', '2020', '17', '2019', '24', '2021', '4', '0', '16', '2022', '602', '14', '2020', '6', '2019', '6', '2019', '6', '2019', '8', '2002', '15', '2018', '27', '2009', '15', '2001', '6', '5', '2020', '27', '2009', '5', '2020', '24', '2011', '1', '3', '9', '1', '23', '2020', '14', '2021', '623', '5', '2021', '14', '2021', '634', '6', '2021', '14', '2021', '11', '2020', '22', '2021', '26', '2012', '20', '2012', '17', '2011', '20', '2019', '6', '2011', '2009', '17', '9781449379322', '17', '2017', '9', '2017', '2002', '9780201748840', '17', '2017', '9', '2017', '12', '2021', '13', '2021', '18', '2021', '2021', '21', '2021', '26', '2021', '2015', '7', '2015', '10', '2015', '14', '2000', '3', '2020', '30', '2013', '3', '2020', '8', '2012', '21', '2018', '15', '2009', '31', '2006', '31', '2006', '15', '2013', '11', '2012', '17', '2003', '5', '2020', '24', '2008', '19', '2019', '19', '2018', '11', '2016', '15', '2020', '27', '2019', '20', '2013', '10', '2020', '25', '2018', '17', '2003', '6', '2020', '11', '2012', '5', '2007', '13', '2021', '24', '2011', '1', '2020', '20', '2019', '2012', '13', '2021', '18', '2012', '2007', '9', '3', '10', '20', '2007', '9', '10', '10', '1', '1', '474', '6460', '10', '1109', '2007', '58', '2', '206457124', '15', '2020', '10', '2015', '2011', '13', '2', '9', '12', '2011', '13', '9', '10', '1109', '2011', '36', '19', '2019', '7', '2014', '15', '2020', '22', '2019', '23', '2020', '14', '2020', '9', '2015', '20', '2015', '10', '2015', '2018', '15', '2019', '30', '2018', '0', '20', '1', '6', '2020', '30', '2018', '18', '2016', '19', '2016', '3', '5', '1', '13', '2020', '10', '2020', '26', '2013', '17', '2013', '26', '2013', '9', '19', '2008', '9', '2', '17', '2006', '5', '2020', '11', '2012', '24', '2010', '2', '7', '11', '2014', '11', '2014', '20', '2005', '2', '2010', '1', '0', '1', '0', '15', '2010', '17', '2020', '10', '2020', '16', '2009', '9', '2020', '10', '2020', '9', '2009', '11', '2012', '4', '0', '2013', '9', '2014', '25', '2013', '11', '2008', '24', '2008', '8', '2008', '7', '2010', '4', '20', '2007', '24', '2008', '28', '2021', '10', '2021', '10', '2009', '18', '2010', '29', '2010', '29', '2003', '5', '2007', '11', '2007', '16', '2017', '13', '2018', '7', '2020', '28', '2018', '3', '2012', '3', '2014', '22', '2015', '3', '2014', '2010', '2011', '2013', '14', '2000', '3', '13', '2017', '24', '2008', '29', '2007', '1', '15', '2020', '19', '2011', '18', '2020', '27', '2020', '27', '2020', '19', '2012', '1', '2012', '3', '2012', '2005', '26', '2012', '11', '2012', '0', '8', '5', '17', '2013', '2009', '3', '978', '0', '13', '604259', '4', '2012', '1', '6', '6', '978', '0', '521', '72596', '5', '5', '2008', '29', '2008', '31', '2010', '2013', '5', '978', '0', '596', '15806', '4', '2004', '978', '1', '59059', '356', '1', '2009', '3', '978', '1', '4302', '2415', '0', '2009', '3', '2', '978', '0', '321', '68056', '3', '2022', '2', '978', '1', '4920', '5632', '4', '60', '1991', '20', '2022', '16', '23', '3', '0']\n"
     ]
    }
   ],
   "source": [
    "# find numbers\n",
    "regex = re.compile(\"\\d+\")\n",
    "numbers = regex.findall(wikiReader)\n",
    "\n",
    "if numbers:\n",
    "    print(f\"There are {len(numbers)} words found.\")\n",
    "    display = input(\"Do you want to display them? yes\\\\No \")\n",
    "    if display == \"yes\":\n",
    "        print(numbers)"
   ]
  },
  {
   "cell_type": "code",
   "execution_count": 123,
   "id": "371dac23",
   "metadata": {
    "collapsed": true
   },
   "outputs": [
    {
     "data": {
      "text/plain": [
       "['1991',\n",
       " '2022',\n",
       " '2022',\n",
       " '1980',\n",
       " '1991',\n",
       " '2000',\n",
       " '2008',\n",
       " '2020',\n",
       " '2006',\n",
       " '1980',\n",
       " '1989',\n",
       " '2018',\n",
       " '2019',\n",
       " '2000',\n",
       " '2008',\n",
       " '2015',\n",
       " '2020',\n",
       " '2021',\n",
       " '2022',\n",
       " '2022',\n",
       " '2022',\n",
       " '2022',\n",
       " '3333',\n",
       " '2022',\n",
       " '2009',\n",
       " '2005',\n",
       " '2012',\n",
       " '2017',\n",
       " '2021',\n",
       " '2010',\n",
       " '2013',\n",
       " '2022',\n",
       " '2017',\n",
       " '2003',\n",
       " '2021',\n",
       " '2007',\n",
       " '2010',\n",
       " '2018',\n",
       " '2020',\n",
       " '2008',\n",
       " '2013',\n",
       " '2012',\n",
       " '2021',\n",
       " '2021',\n",
       " '2021',\n",
       " '2022',\n",
       " '2022',\n",
       " '2021',\n",
       " '2021',\n",
       " '2020',\n",
       " '2018',\n",
       " '2022',\n",
       " '2022',\n",
       " '2018',\n",
       " '2021',\n",
       " '2014',\n",
       " '0441',\n",
       " '2018',\n",
       " '2015',\n",
       " '0488',\n",
       " '2020',\n",
       " '2020',\n",
       " '2019',\n",
       " '2012',\n",
       " '2007',\n",
       " '2019',\n",
       " '2020',\n",
       " '2006',\n",
       " '1998',\n",
       " '2007',\n",
       " '2012',\n",
       " '2020',\n",
       " '2016',\n",
       " '1993',\n",
       " '2023',\n",
       " '2012',\n",
       " '2012',\n",
       " '2019',\n",
       " '2017',\n",
       " '2020',\n",
       " '2014',\n",
       " '2012',\n",
       " '2012',\n",
       " '2001',\n",
       " '2020',\n",
       " '2012',\n",
       " '2016',\n",
       " '2015',\n",
       " '2022',\n",
       " '2020',\n",
       " '2018',\n",
       " '2020',\n",
       " '2020',\n",
       " '2013',\n",
       " '2018',\n",
       " '2015',\n",
       " '2018',\n",
       " '2015',\n",
       " '2012',\n",
       " '2020',\n",
       " '2014',\n",
       " '2017',\n",
       " '2018',\n",
       " '2017',\n",
       " '2007',\n",
       " '5905',\n",
       " '2014',\n",
       " '2018',\n",
       " '2014',\n",
       " '2012',\n",
       " '2012',\n",
       " '2012',\n",
       " '2021',\n",
       " '2021',\n",
       " '2009',\n",
       " '2020',\n",
       " '2021',\n",
       " '2020',\n",
       " '2020',\n",
       " '2020',\n",
       " '2022',\n",
       " '2022',\n",
       " '2020',\n",
       " '2021',\n",
       " '2021',\n",
       " '2018',\n",
       " '2021',\n",
       " '2017',\n",
       " '2021',\n",
       " '2003',\n",
       " '2016',\n",
       " '2007',\n",
       " '2000',\n",
       " '2018',\n",
       " '2011',\n",
       " '2009',\n",
       " '2020',\n",
       " '2009',\n",
       " '2018',\n",
       " '2018',\n",
       " '2018',\n",
       " '8100',\n",
       " '2020',\n",
       " '2019',\n",
       " '2021',\n",
       " '2021',\n",
       " '2000',\n",
       " '2012',\n",
       " '2012',\n",
       " '2006',\n",
       " '3000',\n",
       " '3000',\n",
       " '2016',\n",
       " '2009',\n",
       " '2020',\n",
       " '2021',\n",
       " '2020',\n",
       " '2017',\n",
       " '2020',\n",
       " '2017',\n",
       " '2020',\n",
       " '2019',\n",
       " '2020',\n",
       " '2019',\n",
       " '2021',\n",
       " '2021',\n",
       " '2021',\n",
       " '2021',\n",
       " '2021',\n",
       " '2021',\n",
       " '3177',\n",
       " '2021',\n",
       " '2021',\n",
       " '2021',\n",
       " '2333',\n",
       " '2021',\n",
       " '2021',\n",
       " '2022',\n",
       " '2022',\n",
       " '2022',\n",
       " '2022',\n",
       " '2022',\n",
       " '2022',\n",
       " '2022',\n",
       " '2022',\n",
       " '2020',\n",
       " '1073',\n",
       " '2022',\n",
       " '2022',\n",
       " '2022',\n",
       " '2022',\n",
       " '2009',\n",
       " '2009',\n",
       " '2018',\n",
       " '2009',\n",
       " '2019',\n",
       " '2011',\n",
       " '2020',\n",
       " '2011',\n",
       " '2020',\n",
       " '2012',\n",
       " '2012',\n",
       " '2020',\n",
       " '2002',\n",
       " '2020',\n",
       " '2012',\n",
       " '2020',\n",
       " '2016',\n",
       " '2004',\n",
       " '2018',\n",
       " '2008',\n",
       " '2005',\n",
       " '0079',\n",
       " '2020',\n",
       " '2015',\n",
       " '2014',\n",
       " '2014',\n",
       " '2012',\n",
       " '2020',\n",
       " '2019',\n",
       " '2018',\n",
       " '2021',\n",
       " '2022',\n",
       " '2019',\n",
       " '2021',\n",
       " '2021',\n",
       " '2021',\n",
       " '2021',\n",
       " '2014',\n",
       " '2009',\n",
       " '2018',\n",
       " '2009',\n",
       " '2012',\n",
       " '2007',\n",
       " '2018',\n",
       " '2011',\n",
       " '2016',\n",
       " '5296',\n",
       " '2019',\n",
       " '2019',\n",
       " '2022',\n",
       " '2019',\n",
       " '2018',\n",
       " '2009',\n",
       " '2018',\n",
       " '2012',\n",
       " '2006',\n",
       " '2020',\n",
       " '2007',\n",
       " '2005',\n",
       " '2020',\n",
       " '2012',\n",
       " '2020',\n",
       " '2012',\n",
       " '2006',\n",
       " '2014',\n",
       " '0465',\n",
       " '2020',\n",
       " '2016',\n",
       " '2020',\n",
       " '2016',\n",
       " '2020',\n",
       " '2019',\n",
       " '2003',\n",
       " '2016',\n",
       " '2011',\n",
       " '2020',\n",
       " '2017',\n",
       " '2020',\n",
       " '2018',\n",
       " '2020',\n",
       " '2017',\n",
       " '2012',\n",
       " '2012',\n",
       " '2020',\n",
       " '5932',\n",
       " '2021',\n",
       " '2021',\n",
       " '2012',\n",
       " '2011',\n",
       " '2014',\n",
       " '2019',\n",
       " '2015',\n",
       " '2020',\n",
       " '2017',\n",
       " '2020',\n",
       " '2020',\n",
       " '2000',\n",
       " '2001',\n",
       " '2020',\n",
       " '2011',\n",
       " '2020',\n",
       " '2019',\n",
       " '2020',\n",
       " '2018',\n",
       " '2001',\n",
       " '2020',\n",
       " '2013',\n",
       " '2010',\n",
       " '2020',\n",
       " '2010',\n",
       " '2012',\n",
       " '2011',\n",
       " '2012',\n",
       " '2011',\n",
       " '2009',\n",
       " '9780',\n",
       " '6723',\n",
       " '2978',\n",
       " '1988',\n",
       " '0327',\n",
       " '2020',\n",
       " '2015',\n",
       " '2019',\n",
       " '2015',\n",
       " '2020',\n",
       " '2019',\n",
       " '2014',\n",
       " '2019',\n",
       " '2019',\n",
       " '2006',\n",
       " '2019',\n",
       " '2012',\n",
       " '2003',\n",
       " '2020',\n",
       " '2008',\n",
       " '2003',\n",
       " '2020',\n",
       " '2012',\n",
       " '2022',\n",
       " '2022',\n",
       " '2017',\n",
       " '2016',\n",
       " '2022',\n",
       " '2021',\n",
       " '2021',\n",
       " '3547',\n",
       " '2021',\n",
       " '2021',\n",
       " '2021',\n",
       " '2021',\n",
       " '2001',\n",
       " '2020',\n",
       " '2008',\n",
       " '2020',\n",
       " '2016',\n",
       " '2012',\n",
       " '2011',\n",
       " '2021',\n",
       " '2021',\n",
       " '2020',\n",
       " '2020',\n",
       " '2020',\n",
       " '2020',\n",
       " '2014',\n",
       " '2008',\n",
       " '2020',\n",
       " '2020',\n",
       " '2020',\n",
       " '2012',\n",
       " '2019',\n",
       " '2022',\n",
       " '2021',\n",
       " '2012',\n",
       " '2020',\n",
       " '2013',\n",
       " '2020',\n",
       " '2019',\n",
       " '2020',\n",
       " '2021',\n",
       " '2021',\n",
       " '2021',\n",
       " '2021',\n",
       " '2009',\n",
       " '2016',\n",
       " '2011',\n",
       " '2010',\n",
       " '2019',\n",
       " '2015',\n",
       " '2018',\n",
       " '2021',\n",
       " '2018',\n",
       " '2020',\n",
       " '2020',\n",
       " '2021',\n",
       " '2020',\n",
       " '2017',\n",
       " '2019',\n",
       " '2020',\n",
       " '2020',\n",
       " '2020',\n",
       " '2020',\n",
       " '2021',\n",
       " '2021',\n",
       " '2020',\n",
       " '2020',\n",
       " '2020',\n",
       " '2020',\n",
       " '2020',\n",
       " '2021',\n",
       " '2021',\n",
       " '2021',\n",
       " '2021',\n",
       " '2021',\n",
       " '2021',\n",
       " '2013',\n",
       " '1404',\n",
       " '6388',\n",
       " '2014',\n",
       " '1404',\n",
       " '6388',\n",
       " '2020',\n",
       " '2020',\n",
       " '2000',\n",
       " '2020',\n",
       " '2011',\n",
       " '2019',\n",
       " '2019',\n",
       " '2009',\n",
       " '2009',\n",
       " '2020',\n",
       " '2019',\n",
       " '2021',\n",
       " '2022',\n",
       " '2020',\n",
       " '2019',\n",
       " '2019',\n",
       " '2019',\n",
       " '2002',\n",
       " '2018',\n",
       " '2009',\n",
       " '2001',\n",
       " '2020',\n",
       " '2009',\n",
       " '2020',\n",
       " '2011',\n",
       " '2020',\n",
       " '2021',\n",
       " '2021',\n",
       " '2021',\n",
       " '2021',\n",
       " '2021',\n",
       " '2020',\n",
       " '2021',\n",
       " '2012',\n",
       " '2012',\n",
       " '2011',\n",
       " '2019',\n",
       " '2011',\n",
       " '2009',\n",
       " '9781',\n",
       " '4493',\n",
       " '7932',\n",
       " '2017',\n",
       " '2017',\n",
       " '2002',\n",
       " '9780',\n",
       " '2017',\n",
       " '4884',\n",
       " '2017',\n",
       " '2017',\n",
       " '2021',\n",
       " '2021',\n",
       " '2021',\n",
       " '2021',\n",
       " '2021',\n",
       " '2021',\n",
       " '2015',\n",
       " '2015',\n",
       " '2015',\n",
       " '2000',\n",
       " '2020',\n",
       " '2013',\n",
       " '2020',\n",
       " '2012',\n",
       " '2018',\n",
       " '2009',\n",
       " '2006',\n",
       " '2006',\n",
       " '2013',\n",
       " '2012',\n",
       " '2003',\n",
       " '2020',\n",
       " '2008',\n",
       " '2019',\n",
       " '2018',\n",
       " '2016',\n",
       " '2020',\n",
       " '2019',\n",
       " '2013',\n",
       " '2020',\n",
       " '2018',\n",
       " '2003',\n",
       " '2020',\n",
       " '2012',\n",
       " '2007',\n",
       " '2021',\n",
       " '2011',\n",
       " '2020',\n",
       " '2019',\n",
       " '2012',\n",
       " '2021',\n",
       " '2012',\n",
       " '2007',\n",
       " '2007',\n",
       " '6460',\n",
       " '1109',\n",
       " '2007',\n",
       " '2064',\n",
       " '5712',\n",
       " '2020',\n",
       " '2015',\n",
       " '2011',\n",
       " '2011',\n",
       " '1109',\n",
       " '2011',\n",
       " '2019',\n",
       " '2014',\n",
       " '2020',\n",
       " '2019',\n",
       " '2020',\n",
       " '2020',\n",
       " '2015',\n",
       " '2015',\n",
       " '2015',\n",
       " '2018',\n",
       " '2019',\n",
       " '2018',\n",
       " '2020',\n",
       " '2018',\n",
       " '2016',\n",
       " '2016',\n",
       " '2020',\n",
       " '2020',\n",
       " '2013',\n",
       " '2013',\n",
       " '2013',\n",
       " '2008',\n",
       " '2006',\n",
       " '2020',\n",
       " '2012',\n",
       " '2010',\n",
       " '2014',\n",
       " '2014',\n",
       " '2005',\n",
       " '2010',\n",
       " '2010',\n",
       " '2020',\n",
       " '2020',\n",
       " '2009',\n",
       " '2020',\n",
       " '2020',\n",
       " '2009',\n",
       " '2012',\n",
       " '2013',\n",
       " '2014',\n",
       " '2013',\n",
       " '2008',\n",
       " '2008',\n",
       " '2008',\n",
       " '2010',\n",
       " '2007',\n",
       " '2008',\n",
       " '2021',\n",
       " '2021',\n",
       " '2009',\n",
       " '2010',\n",
       " '2010',\n",
       " '2003',\n",
       " '2007',\n",
       " '2007',\n",
       " '2017',\n",
       " '2018',\n",
       " '2020',\n",
       " '2018',\n",
       " '2012',\n",
       " '2014',\n",
       " '2015',\n",
       " '2014',\n",
       " '2010',\n",
       " '2011',\n",
       " '2013',\n",
       " '2000',\n",
       " '2017',\n",
       " '2008',\n",
       " '2007',\n",
       " '2020',\n",
       " '2011',\n",
       " '2020',\n",
       " '2020',\n",
       " '2020',\n",
       " '2012',\n",
       " '2012',\n",
       " '2012',\n",
       " '2005',\n",
       " '2012',\n",
       " '2012',\n",
       " '2013',\n",
       " '2009',\n",
       " '6042',\n",
       " '2012',\n",
       " '7259',\n",
       " '2008',\n",
       " '2008',\n",
       " '2010',\n",
       " '2013',\n",
       " '1580',\n",
       " '2004',\n",
       " '5905',\n",
       " '2009',\n",
       " '4302',\n",
       " '2415',\n",
       " '2009',\n",
       " '6805',\n",
       " '2022',\n",
       " '4920',\n",
       " '5632',\n",
       " '1991',\n",
       " '2022']"
      ]
     },
     "execution_count": 123,
     "metadata": {},
     "output_type": "execute_result"
    }
   ],
   "source": [
    "# find numbers equal len(4)\n",
    "\n",
    "# regex = re.compile(\"(\\d{4}?)[a-z]\") # get numbers that have leter(s) after them\n",
    "regex = re.compile(\"\\d{4}\")\n",
    "fourNum = regex.findall(wikiReader)\n",
    "fourNum"
   ]
  },
  {
   "cell_type": "code",
   "execution_count": 124,
   "id": "b49f9f61",
   "metadata": {
    "collapsed": true
   },
   "outputs": [
    {
     "data": {
      "text/plain": [
       "['20\\xa0February 1991',\n",
       " '6 December 2022',\n",
       " '6 December 2022',\n",
       " '18 in 2020',\n",
       " '12 July 2018',\n",
       " '16 October 2000',\n",
       " '3 December 2008',\n",
       " '2 and 3',\n",
       " '4 and 3',\n",
       " '8 and 3',\n",
       " '125 and 9',\n",
       " '0 or 1',\n",
       " '14\\xa0November\\xa02022',\n",
       " '7 and 8',\n",
       " '1 and 2',\n",
       " '7 and 3',\n",
       " '0 from 7',\n",
       " '24 October 2012',\n",
       " '28 March 2021',\n",
       " '1 part 01',\n",
       " '11 August 2021',\n",
       " '11 August 2021',\n",
       " '0 alpha 3',\n",
       " '6 December 2022',\n",
       " '7 December 2022',\n",
       " '14 March 2021',\n",
       " '27 January 2021',\n",
       " '14 June 2020',\n",
       " '14 June 2018',\n",
       " '17 May 2022',\n",
       " '17 May 2022',\n",
       " '8 August 2018',\n",
       " '24 May 2021',\n",
       " '30 March 2014',\n",
       " '26 December 2018',\n",
       " '12 November 2015',\n",
       " '0488 Archived 1',\n",
       " '15 June 2020',\n",
       " '25 May 2019',\n",
       " '24 October 2012',\n",
       " '22 March 2007',\n",
       " '22 October 2019',\n",
       " '7 January 2020',\n",
       " '22 December 2006',\n",
       " '1 May 2007',\n",
       " '12 March 2012',\n",
       " '14 June 2020',\n",
       " '22 November 2016',\n",
       " '23 October 2012',\n",
       " '20 February 2012',\n",
       " '23 November 2019',\n",
       " '21 November 2017',\n",
       " '20 August 2020',\n",
       " '29 July 2014',\n",
       " '24 October 2012',\n",
       " '9 February 2012',\n",
       " '18 May 2001',\n",
       " '5 June 2020',\n",
       " '9 February 2012',\n",
       " '4 June 2016',\n",
       " '24 July 2015',\n",
       " '6 September 2022',\n",
       " '12 June 2020',\n",
       " '3 July 2018',\n",
       " '1 June 2020',\n",
       " '28 February 2020',\n",
       " '24 February 2013',\n",
       " '26 December 2018',\n",
       " '15 May 2015',\n",
       " '26 December 2018',\n",
       " '15 May 2015',\n",
       " '2 May 2020',\n",
       " '5 June 2014',\n",
       " '4 December 2017',\n",
       " '25 December 2018',\n",
       " '4 December 2017',\n",
       " '3 June 2014',\n",
       " '25 December 2018',\n",
       " '3 June 2014',\n",
       " '23 June 2012',\n",
       " '20 April 2012',\n",
       " '24 April 2012',\n",
       " '5 May 2021',\n",
       " '11 October 2021',\n",
       " '20 January 2009',\n",
       " '5 June 2020',\n",
       " '5 March 2021',\n",
       " '20 April 2020',\n",
       " '26 April 2020',\n",
       " '27 April 2020',\n",
       " '12 August 2022',\n",
       " '1 March 2021',\n",
       " '5 March 2021',\n",
       " '25 February 2018',\n",
       " '2 February 2021',\n",
       " '14 March 2017',\n",
       " '26 March 2021',\n",
       " '13 January 2003',\n",
       " '1 September 2016',\n",
       " '22 March 2007',\n",
       " '29 August 2000',\n",
       " '14 July 2018',\n",
       " '13 March 2011',\n",
       " '20 January 2009',\n",
       " '5 June 2020',\n",
       " '20 January 2009',\n",
       " '12 July 2018',\n",
       " '13 July 2018',\n",
       " '13 July 2018',\n",
       " '4 June 2020',\n",
       " '4 May 2019',\n",
       " '27 May 2021',\n",
       " '25 August 2021',\n",
       " '16 October 2000',\n",
       " '23 October 2012',\n",
       " '11 February 2012',\n",
       " '5 April 2006',\n",
       " '3 March 2016',\n",
       " '27 June 2009',\n",
       " '2 to 3',\n",
       " '4 June 2020',\n",
       " '2 February 2021',\n",
       " '19 May 2020',\n",
       " '9 January 2017',\n",
       " '4 June 2020',\n",
       " '9 January 2017',\n",
       " '12 January 2020',\n",
       " '22 September 2019',\n",
       " '13 January 2020',\n",
       " '22 September 2019',\n",
       " '19 February 2021',\n",
       " '2 and 3',\n",
       " '25 February 2021',\n",
       " '26 February 2021',\n",
       " '6 March 2021',\n",
       " '26 February 2021',\n",
       " '27 February 2021',\n",
       " '26 February 2021',\n",
       " '24 February 2021',\n",
       " '26 February 2021',\n",
       " '24 March 2022',\n",
       " '4 and 3',\n",
       " '19 April 2022',\n",
       " '16 March 2022',\n",
       " '19 April 2022',\n",
       " '17 May 2022',\n",
       " '21 May 2022',\n",
       " '7 September 2022',\n",
       " '16 September 2022',\n",
       " '16 September 2022',\n",
       " '24 October 2022',\n",
       " '15 November 2022',\n",
       " '0 alpha 1',\n",
       " '31 October 2022',\n",
       " '30 May 2009',\n",
       " '27 June 2009',\n",
       " '15 December 2018',\n",
       " '27 June 2009',\n",
       " '23 November 2019',\n",
       " '24 September 2011',\n",
       " '15 June 2020',\n",
       " '24 September 2011',\n",
       " '13 June 2020',\n",
       " '22 July 2012',\n",
       " '18 October 2012',\n",
       " '5 June 2020',\n",
       " '30 January 2002',\n",
       " '14 June 2020',\n",
       " '19 February 2012',\n",
       " '14 June 2020',\n",
       " '22 November 2016',\n",
       " '19 August 2004',\n",
       " '26 December 2018',\n",
       " '24 November 2008',\n",
       " '23 February 2020',\n",
       " '14 November 2015',\n",
       " '21 January 2014',\n",
       " '30 January 2014',\n",
       " '24 October 2012',\n",
       " '4 June 2020',\n",
       " '11 May 2019',\n",
       " '3 July 2018',\n",
       " '22 January 2021',\n",
       " '5 November 2022',\n",
       " '26 April 2019',\n",
       " '13 August 2021',\n",
       " '20 January 2021',\n",
       " '27 January 2021',\n",
       " '20 January 2021',\n",
       " '27 May 2014',\n",
       " '24 March 2009',\n",
       " '23 March 2018',\n",
       " '24 March 2009',\n",
       " '24 October 2012',\n",
       " '21 March 2007',\n",
       " '18 February 2018',\n",
       " '19 April 2011',\n",
       " '12 August 2016',\n",
       " '17 April 2019',\n",
       " '26 March 2019',\n",
       " '9 May 2022',\n",
       " '4 August 2019',\n",
       " '20 March 2018',\n",
       " '22 April 2009',\n",
       " '19 May 2018',\n",
       " '3 December 2012',\n",
       " '9 February 2006',\n",
       " '17 January 2020',\n",
       " '21 March 2007',\n",
       " '10 May 2005',\n",
       " '29 May 2020',\n",
       " '19 February 2012',\n",
       " '4 June 2020',\n",
       " '3 December 2012',\n",
       " '20 July 2006',\n",
       " '30 July 2014',\n",
       " '4 June 2020',\n",
       " '1 January 2016',\n",
       " '14 May 2020',\n",
       " '1 January 2016',\n",
       " '8 June 2020',\n",
       " '14 October 2019',\n",
       " '7 February 2003',\n",
       " '13 March 2016',\n",
       " '13 July 2011',\n",
       " '14 June 2020',\n",
       " '1 October 2017',\n",
       " '10 June 2020',\n",
       " '17 October 2018',\n",
       " '15 June 2020',\n",
       " '8 March 2017',\n",
       " '24 October 2012',\n",
       " '19 February 2012',\n",
       " '13 August 2021',\n",
       " '7 July 2021',\n",
       " '26 October 2012',\n",
       " '12 January 2011',\n",
       " '24 December 2014',\n",
       " '20 June 2019',\n",
       " '5 May 2015',\n",
       " '6 June 2020',\n",
       " '28 January 2017',\n",
       " '6 June 2020',\n",
       " '6 June 2020',\n",
       " '11 March 2001',\n",
       " '28 May 2020',\n",
       " '24 September 2011',\n",
       " '14 June 2020',\n",
       " '3 October 2019',\n",
       " '29 May 2020',\n",
       " '3 July 2018',\n",
       " '11 March 2001',\n",
       " '28 May 2020',\n",
       " '23 October 2013',\n",
       " '24 August 2010',\n",
       " '5 June 2020',\n",
       " '25 August 2010',\n",
       " '25 October 2012',\n",
       " '14 August 2011',\n",
       " '27 October 2012',\n",
       " '14 August 2011',\n",
       " '4 June 2020',\n",
       " '26 September 2015',\n",
       " '23 December 2019',\n",
       " '26 September 2015',\n",
       " '31 May 2020',\n",
       " '3 February 2019',\n",
       " '17 June 2014',\n",
       " '4 February 2019',\n",
       " '3 February 2019',\n",
       " '2 April 2019',\n",
       " '12 March 2012',\n",
       " '17 October 2003',\n",
       " '4 June 2020',\n",
       " '24 November 2008',\n",
       " '7 December 2003',\n",
       " '14 June 2020',\n",
       " '19 February 2012',\n",
       " '14 November 2022',\n",
       " '26 June 2022',\n",
       " '15 July 2017',\n",
       " '20 August 2016',\n",
       " '28 April 2022',\n",
       " '14 April 2021',\n",
       " '1 March 2021',\n",
       " '14 April 2021',\n",
       " '1 March 2021',\n",
       " '3 March 2021',\n",
       " '1 March 2021',\n",
       " '5 June 2001',\n",
       " '1 June 2020',\n",
       " '24 November 2008',\n",
       " '5 June 2020',\n",
       " '16 February 2016',\n",
       " '6 August 2012',\n",
       " '19 April 2011',\n",
       " '7 February 2021',\n",
       " '8 February 2021',\n",
       " '8 December 2020',\n",
       " '13 December 2020',\n",
       " '2 December 2020',\n",
       " '4 December 2020',\n",
       " '16 July 2014',\n",
       " '24 November 2008',\n",
       " '27 November 2020',\n",
       " '4 December 2020',\n",
       " '6 June 2020',\n",
       " '3 December 2012',\n",
       " '28 December 2019',\n",
       " '8 January 2022',\n",
       " '10 May 2021',\n",
       " '3 December 2012',\n",
       " '4 June 2020',\n",
       " '17 July 2013',\n",
       " '7 June 2020',\n",
       " '17 April 2019',\n",
       " '29 October 2020',\n",
       " '27 January 2021',\n",
       " '26 January 2021',\n",
       " '4 May 2021',\n",
       " '4 May 2021',\n",
       " '15 December 2009',\n",
       " '11 April 2016',\n",
       " '24 September 2011',\n",
       " '29 April 2010',\n",
       " '20 June 2019',\n",
       " '9 July 2015',\n",
       " '3 August 2018',\n",
       " '21 January 2021',\n",
       " '19 August 2018',\n",
       " '22 December 2020',\n",
       " '5 December 2020',\n",
       " '20 January 2021',\n",
       " '30 May 2020',\n",
       " '18 August 2017',\n",
       " '24 January 2019',\n",
       " '25 March 2020',\n",
       " '25 March 2020',\n",
       " '19 February 2020',\n",
       " '25 March 2020',\n",
       " '18 April 2021',\n",
       " '20 January 2021',\n",
       " '10 April 2020',\n",
       " '15 April 2020',\n",
       " '25 March 2020',\n",
       " '24 April 2020',\n",
       " '25 March 2020',\n",
       " '7 March 2021',\n",
       " '20 January 2021',\n",
       " '28 September 2021',\n",
       " '17 April 2021',\n",
       " '22 April 2021',\n",
       " '22 April 2021',\n",
       " '14 June 2020',\n",
       " '30 April 2020',\n",
       " '13 June 2000',\n",
       " '6 June 2020',\n",
       " '19 April 2011',\n",
       " '17 April 2019',\n",
       " '26 March 2019',\n",
       " '1 June 2009',\n",
       " '27 June 2009',\n",
       " '9 November 2020',\n",
       " '17 December 2019',\n",
       " '24 May 2021',\n",
       " '16 May 2022',\n",
       " '14 June 2020',\n",
       " '6 November 2019',\n",
       " '6 November 2019',\n",
       " '6 November 2019',\n",
       " '8 April 2002',\n",
       " '15 December 2018',\n",
       " '27 June 2009',\n",
       " '15 March 2001',\n",
       " '5 June 2020',\n",
       " '27 June 2009',\n",
       " '5 June 2020',\n",
       " '24 September 2011',\n",
       " '23 June 2020',\n",
       " '14 February 2021',\n",
       " '5 March 2021',\n",
       " '14 February 2021',\n",
       " '6 May 2021',\n",
       " '14 February 2021',\n",
       " '11 November 2020',\n",
       " '22 March 2021',\n",
       " '26 October 2012',\n",
       " '20 February 2012',\n",
       " '17 February 2011',\n",
       " '20 June 2019',\n",
       " '6 May 2011',\n",
       " '17 July 2017',\n",
       " '9 May 2017',\n",
       " '17 July 2017',\n",
       " '9 May 2017',\n",
       " '12 October 2021',\n",
       " '13 October 2021',\n",
       " '18 January 2021',\n",
       " '21 March 2021',\n",
       " '26 February 2021',\n",
       " '7 September 2015',\n",
       " '10 September 2015',\n",
       " '14 March 2000',\n",
       " '3 January 2020',\n",
       " '30 August 2013',\n",
       " '3 June 2020',\n",
       " '8 January 2012',\n",
       " '21 August 2018',\n",
       " '15 January 2009',\n",
       " '31 July 2006',\n",
       " '15 January 2013',\n",
       " '11 February 2012',\n",
       " '17 January 2003',\n",
       " '5 June 2020',\n",
       " '24 November 2008',\n",
       " '19 February 2019',\n",
       " '19 June 2018',\n",
       " '11 December 2016',\n",
       " '15 June 2020',\n",
       " '27 May 2019',\n",
       " '20 March 2013',\n",
       " '10 June 2020',\n",
       " '25 July 2018',\n",
       " '17 January 2003',\n",
       " '6 June 2020',\n",
       " '11 February 2012',\n",
       " '5 March 2007',\n",
       " '13 August 2021',\n",
       " '24 September 2011',\n",
       " '1 June 2020',\n",
       " '20 March 2019',\n",
       " '13 August 2021',\n",
       " '18 December 2012',\n",
       " '15 June 2020',\n",
       " '10 April 2015',\n",
       " '19 February 2019',\n",
       " '7 July 2014',\n",
       " '15 June 2020',\n",
       " '22 April 2019',\n",
       " '23 September 2020',\n",
       " '14 September 2020',\n",
       " '9 November 2015',\n",
       " '20 November 2015',\n",
       " '10 November 2015',\n",
       " '15 November 2019',\n",
       " '30 May 2018',\n",
       " '6 May 2020',\n",
       " '30 November 2018',\n",
       " '18 May 2016',\n",
       " '19 May 2016',\n",
       " '13 June 2020',\n",
       " '10 April 2020',\n",
       " '26 July 2013',\n",
       " '17 July 2013',\n",
       " '26 July 2013',\n",
       " '19 March 2008',\n",
       " '17 November 2006',\n",
       " '5 June 2020',\n",
       " '11 February 2012',\n",
       " '24 August 2010',\n",
       " '11 January 2014',\n",
       " '11 January 2014',\n",
       " '20 September 2005',\n",
       " '2 December 2010',\n",
       " '15 July 2010',\n",
       " '17 June 2020',\n",
       " '10 January 2020',\n",
       " '16 February 2009',\n",
       " '9 June 2020',\n",
       " '10 April 2020',\n",
       " '9 January 2009',\n",
       " '11 February 2012',\n",
       " '9 February 2014',\n",
       " '25 February 2013',\n",
       " '11 December 2008',\n",
       " '24 November 2008',\n",
       " '8 February 2008',\n",
       " '7 April 2010',\n",
       " '20 October 2007',\n",
       " '24 November 2008',\n",
       " '28 April 2021',\n",
       " '10 May 2021',\n",
       " '10 November 2009',\n",
       " '18 January 2010',\n",
       " '29 January 2010',\n",
       " '29 August 2003',\n",
       " '5 April 2007',\n",
       " '11 June 2007',\n",
       " '16 January 2017',\n",
       " '13 October 2018',\n",
       " '7 June 2020',\n",
       " '28 April 2018',\n",
       " '3 December 2012',\n",
       " '3 June 2014',\n",
       " '22 December 2015',\n",
       " '3 June 2014',\n",
       " '14 September 2000',\n",
       " '13 July 2017',\n",
       " '24 November 2008',\n",
       " '29 January 2007',\n",
       " '15 June 2020',\n",
       " '19 April 2011',\n",
       " '18 February 2020',\n",
       " '27 April 2020',\n",
       " '27 April 2020',\n",
       " '19 July 2012',\n",
       " '1 November 2012',\n",
       " '3 December 2012',\n",
       " '26 March 2012',\n",
       " '11 February 2012',\n",
       " '17 July 2013',\n",
       " '5 August 2008',\n",
       " '29 December 2008',\n",
       " '31 March 2010',\n",
       " '20 December 2022']"
      ]
     },
     "execution_count": 124,
     "metadata": {},
     "output_type": "execute_result"
    }
   ],
   "source": [
    "# get dates\n",
    "regex = re.compile(\"\\d+\\s\\w+\\s\\d+\")\n",
    "dates = regex.findall(wikiReader)\n",
    "dates"
   ]
  },
  {
   "cell_type": "code",
   "execution_count": 158,
   "id": "5282501a",
   "metadata": {},
   "outputs": [
    {
     "data": {
      "text/plain": [
       "['docs.python.org',\n",
       " 'wiki.python.org',\n",
       " 'docs.python.org',\n",
       " 'docs.python.org',\n",
       " 'docs.python.org',\n",
       " 'docs.python.org',\n",
       " 'www.2ality.com',\n",
       " 'www.tiobe.com',\n",
       " 'docs.python.org',\n",
       " 'access.redhat.com',\n",
       " 'cve.mitre.org',\n",
       " 'cve.mitre.org',\n",
       " 'pythoninsider.blogspot.com',\n",
       " 'cve.mitre.org',\n",
       " 'Docs.python.org',\n",
       " 'Docs.python.org',\n",
       " 'Docs.python.org',\n",
       " 'docs.python.org',\n",
       " 'docs.python.org',\n",
       " 'docs.python.org',\n",
       " 'docs.python.org',\n",
       " 'www.stat.washington.edu',\n",
       " 'www.enthought.com',\n",
       " 'peps.python.org',\n",
       " 'peps.python.org',\n",
       " 'mail.python.org',\n",
       " 'bugs.python.org',\n",
       " 'docs.python.org',\n",
       " 'Docs.python.org',\n",
       " 'docs.python.org',\n",
       " 'www.vmspython.org',\n",
       " 'Speed.pypy.org',\n",
       " 'Doc.pypy.org',\n",
       " 'www.theregister.com',\n",
       " 'www.jython.org',\n",
       " 'devguide.python.org',\n",
       " 'docs.python.org',\n",
       " 'docs.opencv.org',\n",
       " 'www.nltk.org',\n",
       " 'boo.codehaus.org',\n",
       " 'wiki.ecmascript.org',\n",
       " 'Wiki.python.org',\n",
       " 'Pypi.python.org']"
      ]
     },
     "execution_count": 158,
     "metadata": {},
     "output_type": "execute_result"
    }
   ],
   "source": [
    "# get links\n",
    "# regex =  re.compile(\"[a-zA-Z]\\w+\\.\\w+?\\.[a-z]{3}\")\n",
    "# anchors = regex.findall(wikiReader)\n",
    "# anchors\n",
    "\n",
    "# answer from stack\n",
    "\n",
    "regex =  re.compile(\"([a-zA-Z]\\w+\\.(\\w+?\\.)+[a-z]{3})\")\n",
    "anchors = [x[0] for x in regex.findall(wikiReader)]\n",
    "anchors"
   ]
  },
  {
   "cell_type": "code",
   "execution_count": 147,
   "id": "37aab5fb",
   "metadata": {
    "scrolled": true
   },
   "outputs": [
    {
     "name": "stdout",
     "output_type": "stream",
     "text": [
      "العربية\n",
      "اردو\n"
     ]
    }
   ],
   "source": [
    "# sample = 'I am from 美国。We should be friends. 朋友。'\n",
    "for n in re.findall(r'[\\u0627-\\u064a]+', wikiReader):\n",
    "    print(n)"
   ]
  },
  {
   "cell_type": "markdown",
   "id": "79767819",
   "metadata": {},
   "source": [
    "## Working with images"
   ]
  },
  {
   "cell_type": "code",
   "execution_count": 16,
   "id": "c99a5329",
   "metadata": {},
   "outputs": [],
   "source": [
    "import re"
   ]
  },
  {
   "cell_type": "code",
   "execution_count": 17,
   "id": "1f4da203",
   "metadata": {},
   "outputs": [
    {
     "name": "stdout",
     "output_type": "stream",
     "text": [
      "\n"
     ]
    }
   ],
   "source": [
    "with open(\"burp33.png\", encoding=\"utf8\", errors='ignore') as f:\n",
    "    imageReader = f.read()\n",
    "print(imageReader)"
   ]
  },
  {
   "cell_type": "code",
   "execution_count": 174,
   "id": "d94969e0",
   "metadata": {},
   "outputs": [
    {
     "data": {
      "text/plain": [
       "['xmptk=\"XMP Core 4.4.0-Exiv2\"',\n",
       " 'xmpMM=\"http://ns.adobe.com/xap/1.0/mm/\"',\n",
       " 'stEvt=\"http://ns.adobe.com/xap/1.0/sType/ResourceEvent#\"',\n",
       " 'GIMP=\"http://www.gimp.org/xmp/\"',\n",
       " 'tiff=\"http://ns.adobe.com/tiff/1.0/\"',\n",
       " 'DocumentID=\"gimp:docid:gimp:2a391f35-a48a-46d1-b50b-1223e4f7f22f\"',\n",
       " 'InstanceID=\"xmp.iid:6a5c07c2-f06c-41a1-a150-dc1c412df4a8\"',\n",
       " 'OriginalDocumentID=\"xmp.did:574e886e-7c1d-45bf-9bd2-3c56940c6412\"',\n",
       " 'Format=\"image/png\"',\n",
       " 'Platform=\"Linux\"',\n",
       " 'TimeStamp=\"1670529470941729\"',\n",
       " 'Version=\"2.10.30\"',\n",
       " 'CreatorTool=\"GIMP 2.10\"',\n",
       " 'action=\"saved\"',\n",
       " 'instanceID=\"xmp.iid:d3357d99-7d69-4dbc-be3d-e694b4661307\"',\n",
       " 'softwareAgent=\"Gimp 2.10 (Linux)\"',\n",
       " 'when=\"2022-12-08T19:57:50+00:00\"']"
      ]
     },
     "execution_count": 174,
     "metadata": {},
     "output_type": "execute_result"
    }
   ],
   "source": [
    "# Display useful texts \n",
    "regex =  re.compile(\"[a-zA-Z]\\w{3,50}=?\\\"[a-zA-Z0-9].+\\\"\")\n",
    "imageText = regex.findall(imageReader)\n",
    "imageText"
   ]
  },
  {
   "cell_type": "code",
   "execution_count": 197,
   "id": "3b09490d",
   "metadata": {},
   "outputs": [
    {
     "data": {
      "text/plain": [
       "['iTXtXML:com.adobe.xmp\\x00\\x00\\x00\\x00\\x00<?xpacket begin=\"\\ufeff\" id=\"W5M0MpCehiHzreSzNTczkc9d\"',\n",
       " 'x:xmpmeta xmlns:x=\"adobe:ns:meta/\" x:xmptk=\"XMP Core 4.4.0-Exiv2\"',\n",
       " 'rdf:RDF xmlns:rdf=\"http://www.w3.org/1999/02/22-rdf-syntax-ns#\"',\n",
       " 'xmlns:xmpMM=\"http://ns.adobe.com/xap/1.0/mm/\"',\n",
       " 'xmlns:stEvt=\"http://ns.adobe.com/xap/1.0/sType/ResourceEvent#\"',\n",
       " 'xmlns:dc=\"http://purl.org/dc/elements/1.1/\"',\n",
       " 'xmlns:GIMP=\"http://www.gimp.org/xmp/\"',\n",
       " 'xmlns:tiff=\"http://ns.adobe.com/tiff/1.0/\"',\n",
       " 'xmlns:xmp=\"http://ns.adobe.com/xap/1.0/\"',\n",
       " 'xmpMM:DocumentID=\"gimp:docid:gimp:2a391f35-a48a-46d1-b50b-1223e4f7f22f\"',\n",
       " 'xmpMM:InstanceID=\"xmp.iid:6a5c07c2-f06c-41a1-a150-dc1c412df4a8\"',\n",
       " 'xmpMM:OriginalDocumentID=\"xmp.did:574e886e-7c1d-45bf-9bd2-3c56940c6412\"',\n",
       " 'dc:Format=\"image/png\"',\n",
       " 'GIMP:API=\"2.0\"',\n",
       " 'GIMP:Platform=\"Linux\"',\n",
       " 'GIMP:TimeStamp=\"1670529470941729\"',\n",
       " 'GIMP:Version=\"2.10.30\"',\n",
       " 'tiff:Orientation=\"1\"',\n",
       " 'xmp:CreatorTool=\"GIMP 2.10\"',\n",
       " 'stEvt:action=\"saved\"',\n",
       " 'stEvt:changed=\"/\"',\n",
       " 'stEvt:instanceID=\"xmp.iid:d3357d99-7d69-4dbc-be3d-e694b4661307\"',\n",
       " 'stEvt:softwareAgent=\"Gimp 2.10 (Linux)\"',\n",
       " 'stEvt:when=\"2022-12-08T19:57:50+00:00\"']"
      ]
     },
     "execution_count": 197,
     "metadata": {},
     "output_type": "execute_result"
    }
   ],
   "source": [
    "# Display texts \n",
    "regex =  re.compile(\"\\w+?:[a-zA-Z0-9].+\\\".+\\\"\")\n",
    "imageText = regex.findall(imageReader)\n",
    "imageText"
   ]
  },
  {
   "cell_type": "code",
   "execution_count": 211,
   "id": "23192bc2",
   "metadata": {},
   "outputs": [
    {
     "data": {
      "text/plain": [
       "['ID', 'ID', 'ID', 'ID', 'ID', 'ID', 'ID', 'ID', 'ID', 'ID', 'ID']"
      ]
     },
     "execution_count": 211,
     "metadata": {},
     "output_type": "execute_result"
    }
   ],
   "source": [
    "# Display texts \n",
    "regex =  re.compile(\"ID\")\n",
    "imageText = regex.findall(imageReader)\n",
    "imageText"
   ]
  },
  {
   "cell_type": "code",
   "execution_count": 3,
   "id": "cabc788c",
   "metadata": {
    "collapsed": true
   },
   "outputs": [
    {
     "data": {
      "text/plain": [
       "['8',\n",
       " '9',\n",
       " '9',\n",
       " '9',\n",
       " '8',\n",
       " '2',\n",
       " '5',\n",
       " '5',\n",
       " '7',\n",
       " '82',\n",
       " '1',\n",
       " '63',\n",
       " '2',\n",
       " '5',\n",
       " '94',\n",
       " '6',\n",
       " '0',\n",
       " '9',\n",
       " '19',\n",
       " '5',\n",
       " '9',\n",
       " '߈',\n",
       " '0',\n",
       " '5',\n",
       " '6',\n",
       " '1',\n",
       " '0',\n",
       " '1',\n",
       " '1',\n",
       " '3',\n",
       " '8',\n",
       " '5',\n",
       " '6',\n",
       " '5',\n",
       " '4',\n",
       " '3',\n",
       " '3',\n",
       " '8',\n",
       " '2',\n",
       " '6',\n",
       " '7',\n",
       " '0',\n",
       " '9',\n",
       " '6',\n",
       " '8',\n",
       " '4',\n",
       " '3',\n",
       " '5',\n",
       " '9',\n",
       " '8',\n",
       " '7',\n",
       " '3',\n",
       " '9',\n",
       " '9',\n",
       " '2',\n",
       " '8',\n",
       " '7',\n",
       " '3',\n",
       " '6',\n",
       " '1',\n",
       " '2',\n",
       " '6',\n",
       " '5',\n",
       " '2',\n",
       " '0',\n",
       " '0',\n",
       " '4',\n",
       " '0',\n",
       " '3',\n",
       " '7',\n",
       " '5',\n",
       " '߀',\n",
       " '8',\n",
       " '5',\n",
       " '98',\n",
       " '4',\n",
       " '9',\n",
       " '27',\n",
       " '7',\n",
       " '4',\n",
       " '3',\n",
       " '2',\n",
       " '2',\n",
       " '6',\n",
       " '9',\n",
       " '0',\n",
       " '9',\n",
       " '5',\n",
       " '2',\n",
       " '4',\n",
       " '7',\n",
       " '5',\n",
       " '8',\n",
       " '41',\n",
       " '2',\n",
       " '2',\n",
       " '4',\n",
       " '3',\n",
       " '6',\n",
       " '6',\n",
       " '4',\n",
       " '5',\n",
       " '2',\n",
       " '8',\n",
       " '8',\n",
       " '1',\n",
       " '3',\n",
       " '4',\n",
       " '6',\n",
       " '91',\n",
       " '43',\n",
       " '3',\n",
       " '2',\n",
       " '0',\n",
       " '9',\n",
       " '4',\n",
       " '9',\n",
       " '6',\n",
       " '۰',\n",
       " '4',\n",
       " '2',\n",
       " '8',\n",
       " '5',\n",
       " '3',\n",
       " '9',\n",
       " '4',\n",
       " '9',\n",
       " '84',\n",
       " '5',\n",
       " '4',\n",
       " '3',\n",
       " '1',\n",
       " '4',\n",
       " '5',\n",
       " '6',\n",
       " '3',\n",
       " '1',\n",
       " '5',\n",
       " '8',\n",
       " '3',\n",
       " '1',\n",
       " '7',\n",
       " '8',\n",
       " '6',\n",
       " '5',\n",
       " '7',\n",
       " '7',\n",
       " '3',\n",
       " '4',\n",
       " '1',\n",
       " '4',\n",
       " '3',\n",
       " '2',\n",
       " '4',\n",
       " '߁',\n",
       " '8',\n",
       " '1',\n",
       " '2',\n",
       " '1',\n",
       " '5',\n",
       " '3',\n",
       " '4',\n",
       " '9',\n",
       " '8',\n",
       " '9',\n",
       " '9',\n",
       " '8',\n",
       " '2',\n",
       " '0',\n",
       " '1',\n",
       " '5',\n",
       " '0',\n",
       " '9',\n",
       " '4',\n",
       " '4',\n",
       " '0',\n",
       " '2',\n",
       " '3',\n",
       " '1999',\n",
       " '02',\n",
       " '22',\n",
       " '1',\n",
       " '0',\n",
       " '1',\n",
       " '0',\n",
       " '1',\n",
       " '1',\n",
       " '1',\n",
       " '0',\n",
       " '1',\n",
       " '0',\n",
       " '2',\n",
       " '391',\n",
       " '35',\n",
       " '48',\n",
       " '46',\n",
       " '1',\n",
       " '50',\n",
       " '1223',\n",
       " '4',\n",
       " '7',\n",
       " '22',\n",
       " '6',\n",
       " '5',\n",
       " '07',\n",
       " '2',\n",
       " '06',\n",
       " '41',\n",
       " '1',\n",
       " '150',\n",
       " '1',\n",
       " '412',\n",
       " '4',\n",
       " '8',\n",
       " '574',\n",
       " '886',\n",
       " '7',\n",
       " '1',\n",
       " '45',\n",
       " '9',\n",
       " '2',\n",
       " '3',\n",
       " '56940',\n",
       " '6412',\n",
       " '2',\n",
       " '0',\n",
       " '1670529470941729',\n",
       " '2',\n",
       " '10',\n",
       " '30',\n",
       " '1',\n",
       " '2',\n",
       " '10',\n",
       " '3357',\n",
       " '99',\n",
       " '7',\n",
       " '69',\n",
       " '4',\n",
       " '3',\n",
       " '694',\n",
       " '4661307',\n",
       " '2',\n",
       " '10',\n",
       " '2022',\n",
       " '12',\n",
       " '08',\n",
       " '19',\n",
       " '57',\n",
       " '50',\n",
       " '00',\n",
       " '00',\n",
       " '92',\n",
       " '4',\n",
       " '4',\n",
       " '555',\n",
       " '1',\n",
       " '6',\n",
       " '31',\n",
       " '39',\n",
       " '4',\n",
       " '8',\n",
       " '7',\n",
       " '7',\n",
       " '1',\n",
       " '9',\n",
       " '3',\n",
       " '1',\n",
       " '5',\n",
       " '6',\n",
       " '7',\n",
       " '1',\n",
       " '4',\n",
       " '0',\n",
       " '6',\n",
       " '2',\n",
       " '7',\n",
       " '6',\n",
       " '7',\n",
       " '4',\n",
       " '5',\n",
       " '14',\n",
       " '7',\n",
       " '7',\n",
       " '0',\n",
       " '7',\n",
       " '2',\n",
       " '0',\n",
       " '8',\n",
       " '3',\n",
       " '6',\n",
       " '7',\n",
       " '1',\n",
       " '6',\n",
       " '4',\n",
       " '1',\n",
       " '1',\n",
       " '5',\n",
       " '9',\n",
       " '0',\n",
       " '6',\n",
       " '3',\n",
       " '3',\n",
       " '7',\n",
       " '1',\n",
       " '6',\n",
       " '1',\n",
       " '1',\n",
       " '11',\n",
       " '0',\n",
       " '߂',\n",
       " '5',\n",
       " '߃',\n",
       " '5',\n",
       " '9',\n",
       " '0',\n",
       " '7',\n",
       " '3',\n",
       " '7',\n",
       " '58',\n",
       " '7',\n",
       " '4',\n",
       " '7',\n",
       " '8',\n",
       " '0',\n",
       " '1',\n",
       " '51',\n",
       " '5',\n",
       " '04',\n",
       " '1',\n",
       " '4',\n",
       " '1',\n",
       " '4',\n",
       " '5',\n",
       " '2',\n",
       " '5',\n",
       " '3',\n",
       " '2',\n",
       " '9',\n",
       " '9',\n",
       " '6',\n",
       " '33',\n",
       " '6',\n",
       " '69',\n",
       " '8',\n",
       " '6',\n",
       " '1',\n",
       " '3',\n",
       " '8',\n",
       " '1',\n",
       " '7',\n",
       " '13',\n",
       " '8',\n",
       " '۰',\n",
       " '4',\n",
       " '1',\n",
       " '7',\n",
       " '5',\n",
       " '6',\n",
       " '೩',\n",
       " '7',\n",
       " '1',\n",
       " '1',\n",
       " '2',\n",
       " '9',\n",
       " '1',\n",
       " '3',\n",
       " '0',\n",
       " '8',\n",
       " '91',\n",
       " '5',\n",
       " '0',\n",
       " '8',\n",
       " '11',\n",
       " '1',\n",
       " '7',\n",
       " '1',\n",
       " '11',\n",
       " '1',\n",
       " '11',\n",
       " '1',\n",
       " '7',\n",
       " '3',\n",
       " '55',\n",
       " '4',\n",
       " '5',\n",
       " '7',\n",
       " '7',\n",
       " '۴',\n",
       " '4',\n",
       " '1',\n",
       " '5',\n",
       " '1',\n",
       " '00',\n",
       " '9',\n",
       " '0',\n",
       " '65',\n",
       " '1',\n",
       " '0',\n",
       " '6',\n",
       " '0',\n",
       " '2',\n",
       " '8',\n",
       " '1',\n",
       " '5',\n",
       " '8',\n",
       " '6',\n",
       " '2',\n",
       " '3',\n",
       " '0',\n",
       " '0',\n",
       " '2',\n",
       " '2',\n",
       " '1',\n",
       " '05',\n",
       " '5',\n",
       " '8',\n",
       " '6',\n",
       " '8',\n",
       " '5',\n",
       " '9',\n",
       " '0',\n",
       " '7',\n",
       " '2',\n",
       " '1',\n",
       " '0',\n",
       " '333',\n",
       " '666',\n",
       " '899',\n",
       " '88',\n",
       " '9',\n",
       " '0',\n",
       " '8',\n",
       " '4',\n",
       " '8',\n",
       " '1',\n",
       " '1',\n",
       " '8',\n",
       " '88',\n",
       " '9',\n",
       " '7',\n",
       " '0',\n",
       " '8',\n",
       " '7',\n",
       " '5',\n",
       " '3',\n",
       " '2',\n",
       " '7',\n",
       " '4',\n",
       " '5',\n",
       " '7',\n",
       " '1',\n",
       " '9',\n",
       " '0',\n",
       " '4',\n",
       " '6',\n",
       " '861',\n",
       " '9',\n",
       " '0',\n",
       " '8',\n",
       " '4',\n",
       " '0',\n",
       " '7',\n",
       " '8',\n",
       " '0',\n",
       " '4',\n",
       " '3',\n",
       " '8',\n",
       " '2',\n",
       " '3',\n",
       " '1',\n",
       " '7',\n",
       " '1',\n",
       " '0',\n",
       " '4',\n",
       " '777',\n",
       " '3',\n",
       " '4',\n",
       " '4',\n",
       " '2',\n",
       " '7899',\n",
       " '4',\n",
       " '3',\n",
       " '777',\n",
       " '7',\n",
       " '4',\n",
       " '0',\n",
       " '6',\n",
       " '۷',\n",
       " '1',\n",
       " '1',\n",
       " '0',\n",
       " '722',\n",
       " '۶',\n",
       " '5',\n",
       " '8',\n",
       " '4',\n",
       " '6',\n",
       " '4',\n",
       " '5۷',\n",
       " '0',\n",
       " '6',\n",
       " '222',\n",
       " '0',\n",
       " '۷',\n",
       " '07',\n",
       " '1',\n",
       " '222',\n",
       " '2',\n",
       " '999',\n",
       " '5',\n",
       " '10',\n",
       " '7',\n",
       " '0',\n",
       " '22',\n",
       " '۷',\n",
       " '2',\n",
       " '6',\n",
       " '6',\n",
       " '99',\n",
       " '6',\n",
       " '6',\n",
       " '6',\n",
       " '3',\n",
       " '5',\n",
       " '0',\n",
       " '7',\n",
       " '7',\n",
       " '۷',\n",
       " '2',\n",
       " '1',\n",
       " '5',\n",
       " '1',\n",
       " '9',\n",
       " '9',\n",
       " '9',\n",
       " '2',\n",
       " '7',\n",
       " '3',\n",
       " '8',\n",
       " '4',\n",
       " '5',\n",
       " '4',\n",
       " '0',\n",
       " '0',\n",
       " '7',\n",
       " '9',\n",
       " '6',\n",
       " '4',\n",
       " '8',\n",
       " '9',\n",
       " '9',\n",
       " '6',\n",
       " '4',\n",
       " '111',\n",
       " '0',\n",
       " '000',\n",
       " '7',\n",
       " '9',\n",
       " '5',\n",
       " '2',\n",
       " '5',\n",
       " '2',\n",
       " '9',\n",
       " '3',\n",
       " '2',\n",
       " '5',\n",
       " '3',\n",
       " '2',\n",
       " '67',\n",
       " '8',\n",
       " '9',\n",
       " '22',\n",
       " '2',\n",
       " '1',\n",
       " '6',\n",
       " '5',\n",
       " '6',\n",
       " '6',\n",
       " '5',\n",
       " '7',\n",
       " '0',\n",
       " '4',\n",
       " '1',\n",
       " '6',\n",
       " '7',\n",
       " '6',\n",
       " '5',\n",
       " '0',\n",
       " '0',\n",
       " '3',\n",
       " '1',\n",
       " '33',\n",
       " '۷',\n",
       " '8',\n",
       " '4',\n",
       " '3',\n",
       " '1',\n",
       " '3',\n",
       " '4',\n",
       " '2',\n",
       " '1',\n",
       " '3',\n",
       " '7',\n",
       " '7',\n",
       " '3',\n",
       " '1',\n",
       " '2',\n",
       " '07',\n",
       " '2',\n",
       " '3',\n",
       " '4',\n",
       " '8',\n",
       " '۷',\n",
       " '2',\n",
       " '9',\n",
       " '4',\n",
       " '2',\n",
       " '1',\n",
       " '5',\n",
       " '4',\n",
       " '7',\n",
       " '7',\n",
       " '5',\n",
       " '5',\n",
       " '1',\n",
       " '3',\n",
       " '0',\n",
       " '7',\n",
       " '621',\n",
       " '1',\n",
       " '1',\n",
       " '5',\n",
       " '2',\n",
       " '3',\n",
       " '2',\n",
       " '4',\n",
       " '6',\n",
       " '9',\n",
       " '89',\n",
       " '6',\n",
       " '3',\n",
       " '1',\n",
       " '22',\n",
       " '7',\n",
       " '0',\n",
       " '9',\n",
       " '1',\n",
       " '23',\n",
       " '0',\n",
       " '2',\n",
       " '0',\n",
       " '122',\n",
       " '9',\n",
       " '7',\n",
       " '1',\n",
       " '1',\n",
       " '۶',\n",
       " '8',\n",
       " '8',\n",
       " '2',\n",
       " '0',\n",
       " '1',\n",
       " '5',\n",
       " '66',\n",
       " '9077',\n",
       " '99',\n",
       " '66',\n",
       " '77',\n",
       " '1',\n",
       " '1',\n",
       " '41',\n",
       " '1',\n",
       " '11',\n",
       " '0',\n",
       " '37311',\n",
       " '4',\n",
       " '1',\n",
       " '5',\n",
       " '8',\n",
       " '0',\n",
       " '1',\n",
       " '9',\n",
       " '1',\n",
       " '4',\n",
       " '5',\n",
       " '8',\n",
       " '3',\n",
       " '1',\n",
       " '٤',\n",
       " '8',\n",
       " '75',\n",
       " '1',\n",
       " '2',\n",
       " '2',\n",
       " '2',\n",
       " '6',\n",
       " '0',\n",
       " '0',\n",
       " '7',\n",
       " '4',\n",
       " '4',\n",
       " '8',\n",
       " '12',\n",
       " '8',\n",
       " '46',\n",
       " '4',\n",
       " '5',\n",
       " '6',\n",
       " '2',\n",
       " '50',\n",
       " '3',\n",
       " '4',\n",
       " '8',\n",
       " '15',\n",
       " '41',\n",
       " '1',\n",
       " '0',\n",
       " '2',\n",
       " '8',\n",
       " '111',\n",
       " '4',\n",
       " '0',\n",
       " '0',\n",
       " '4',\n",
       " '6',\n",
       " '4',\n",
       " '8',\n",
       " '55',\n",
       " '5',\n",
       " '4',\n",
       " '8',\n",
       " '2',\n",
       " '0',\n",
       " '4',\n",
       " '2',\n",
       " '5',\n",
       " '1',\n",
       " '9',\n",
       " '9',\n",
       " '6',\n",
       " '1',\n",
       " '6',\n",
       " '45',\n",
       " '5',\n",
       " '8',\n",
       " '7',\n",
       " '6',\n",
       " '8',\n",
       " '6',\n",
       " '5',\n",
       " '7',\n",
       " '26',\n",
       " '3',\n",
       " '3',\n",
       " '57',\n",
       " '0',\n",
       " '2',\n",
       " '5',\n",
       " '6',\n",
       " '9',\n",
       " '8',\n",
       " '5',\n",
       " '0',\n",
       " '1',\n",
       " '8',\n",
       " '9',\n",
       " '1',\n",
       " '6',\n",
       " '93',\n",
       " '51',\n",
       " '0',\n",
       " '2',\n",
       " '6',\n",
       " '8',\n",
       " '0',\n",
       " '7',\n",
       " '8',\n",
       " '6',\n",
       " '0',\n",
       " '8',\n",
       " '2',\n",
       " '3',\n",
       " '0',\n",
       " '6',\n",
       " '3',\n",
       " '2',\n",
       " '03',\n",
       " '4',\n",
       " '5',\n",
       " '2',\n",
       " '6',\n",
       " '2',\n",
       " '25',\n",
       " '4',\n",
       " '9',\n",
       " '7',\n",
       " '1',\n",
       " '٤',\n",
       " '5',\n",
       " '311',\n",
       " '5',\n",
       " '11',\n",
       " '1',\n",
       " '11',\n",
       " '1',\n",
       " '11',\n",
       " '8',\n",
       " '1',\n",
       " '9',\n",
       " '6',\n",
       " '8',\n",
       " '2',\n",
       " '666',\n",
       " '2',\n",
       " '2',\n",
       " '4',\n",
       " '1',\n",
       " '2',\n",
       " '2',\n",
       " '4',\n",
       " '0',\n",
       " '۷',\n",
       " '3',\n",
       " '2',\n",
       " '0',\n",
       " '2',\n",
       " '2',\n",
       " '888',\n",
       " '888',\n",
       " '888',\n",
       " '88',\n",
       " '5',\n",
       " '5',\n",
       " '1',\n",
       " '5',\n",
       " '0',\n",
       " '8',\n",
       " '1',\n",
       " '۷',\n",
       " '2',\n",
       " '8',\n",
       " '۶',\n",
       " '1',\n",
       " '0',\n",
       " '7',\n",
       " '0',\n",
       " '5',\n",
       " '65',\n",
       " '4',\n",
       " '٨',\n",
       " '9',\n",
       " '5',\n",
       " '1',\n",
       " '8',\n",
       " '3',\n",
       " '8',\n",
       " '544',\n",
       " '9',\n",
       " '2',\n",
       " '5',\n",
       " '6',\n",
       " '2',\n",
       " '2',\n",
       " '78',\n",
       " '7',\n",
       " '5',\n",
       " '1',\n",
       " '7',\n",
       " '0',\n",
       " '8',\n",
       " '1',\n",
       " '7',\n",
       " '7',\n",
       " '4',\n",
       " '7',\n",
       " '9',\n",
       " '6',\n",
       " '9',\n",
       " '5',\n",
       " '1',\n",
       " '0',\n",
       " '1',\n",
       " '0',\n",
       " '1',\n",
       " '0',\n",
       " '9',\n",
       " '0',\n",
       " '1',\n",
       " '0',\n",
       " '1',\n",
       " '0',\n",
       " '1',\n",
       " '8',\n",
       " '9',\n",
       " '3',\n",
       " '3',\n",
       " '6',\n",
       " '5',\n",
       " '5',\n",
       " '5',\n",
       " '3',\n",
       " '8',\n",
       " '6',\n",
       " '6',\n",
       " '6',\n",
       " '22',\n",
       " '0',\n",
       " '2',\n",
       " '7',\n",
       " '9',\n",
       " '9',\n",
       " '9',\n",
       " '2',\n",
       " '6',\n",
       " '6',\n",
       " '5',\n",
       " '5',\n",
       " '0',\n",
       " '6',\n",
       " '111',\n",
       " '8',\n",
       " '8',\n",
       " '9',\n",
       " '7',\n",
       " '9',\n",
       " '1',\n",
       " '9',\n",
       " '894',\n",
       " '0',\n",
       " '0',\n",
       " '4',\n",
       " '744',\n",
       " '8',\n",
       " '8',\n",
       " '0',\n",
       " '8',\n",
       " '7',\n",
       " '5',\n",
       " '7',\n",
       " '8',\n",
       " '8',\n",
       " '7',\n",
       " '6',\n",
       " '6',\n",
       " '6',\n",
       " '74',\n",
       " '6',\n",
       " '2',\n",
       " '6',\n",
       " '۷',\n",
       " '5',\n",
       " '5',\n",
       " '9',\n",
       " '6',\n",
       " '3',\n",
       " '3',\n",
       " '5',\n",
       " '9',\n",
       " '1',\n",
       " '0',\n",
       " '4',\n",
       " '6',\n",
       " '0',\n",
       " '0',\n",
       " '1',\n",
       " '0',\n",
       " '1',\n",
       " '0',\n",
       " '0',\n",
       " '0',\n",
       " '1',\n",
       " '0',\n",
       " '1',\n",
       " '4',\n",
       " '6',\n",
       " '22',\n",
       " '4',\n",
       " '8',\n",
       " '6',\n",
       " '7',\n",
       " '4',\n",
       " '0',\n",
       " '2',\n",
       " '۷233',\n",
       " '44',\n",
       " '3',\n",
       " '6',\n",
       " '6',\n",
       " '5',\n",
       " '7',\n",
       " '6',\n",
       " '3',\n",
       " '9',\n",
       " '6',\n",
       " '6',\n",
       " '3',\n",
       " '00',\n",
       " '4',\n",
       " '5',\n",
       " '8',\n",
       " ...]"
      ]
     },
     "execution_count": 3,
     "metadata": {},
     "output_type": "execute_result"
    }
   ],
   "source": [
    "# get nums from Image\n",
    "regex = re.compile(\"\\d+\")\n",
    "numbers = regex.findall(imageReader)\n",
    "numbers"
   ]
  },
  {
   "cell_type": "code",
   "execution_count": 10,
   "id": "41dc4850",
   "metadata": {},
   "outputs": [
    {
     "ename": "TypeError",
     "evalue": "a bytes-like object is required, not 'str'",
     "output_type": "error",
     "traceback": [
      "\u001b[0;31m---------------------------------------------------------------------------\u001b[0m",
      "\u001b[0;31mTypeError\u001b[0m                                 Traceback (most recent call last)",
      "\u001b[0;32m/tmp/ipykernel_8029/4118203334.py\u001b[0m in \u001b[0;36m<module>\u001b[0;34m\u001b[0m\n\u001b[1;32m      2\u001b[0m \u001b[0mregex\u001b[0m \u001b[0;34m=\u001b[0m \u001b[0mre\u001b[0m\u001b[0;34m.\u001b[0m\u001b[0msub\u001b[0m\u001b[0;34m(\u001b[0m\u001b[0;34m\"Linux\"\u001b[0m\u001b[0;34m,\u001b[0m \u001b[0;34m\"Windows\"\u001b[0m\u001b[0;34m,\u001b[0m \u001b[0mimageReader\u001b[0m\u001b[0;34m)\u001b[0m\u001b[0;34m\u001b[0m\u001b[0;34m\u001b[0m\u001b[0m\n\u001b[1;32m      3\u001b[0m \u001b[0;32mwith\u001b[0m \u001b[0mopen\u001b[0m\u001b[0;34m(\u001b[0m\u001b[0;34m\"burp33.png\"\u001b[0m\u001b[0;34m,\u001b[0m \u001b[0;34m'wb'\u001b[0m\u001b[0;34m)\u001b[0m \u001b[0;32mas\u001b[0m \u001b[0mf\u001b[0m\u001b[0;34m:\u001b[0m\u001b[0;34m\u001b[0m\u001b[0;34m\u001b[0m\u001b[0m\n\u001b[0;32m----> 4\u001b[0;31m     \u001b[0mf\u001b[0m\u001b[0;34m.\u001b[0m\u001b[0mwrite\u001b[0m\u001b[0;34m(\u001b[0m\u001b[0mregex\u001b[0m\u001b[0;34m)\u001b[0m\u001b[0;34m\u001b[0m\u001b[0;34m\u001b[0m\u001b[0m\n\u001b[0m\u001b[1;32m      5\u001b[0m \u001b[0mf\u001b[0m\u001b[0;34m.\u001b[0m\u001b[0mclose\u001b[0m\u001b[0;34m(\u001b[0m\u001b[0;34m)\u001b[0m\u001b[0;34m\u001b[0m\u001b[0;34m\u001b[0m\u001b[0m\n",
      "\u001b[0;31mTypeError\u001b[0m: a bytes-like object is required, not 'str'"
     ]
    }
   ],
   "source": [
    "# replace chars\n",
    "regex = re.sub(\"Linux\", \"Windows\", imageReader)\n",
    "with open(\"burp33.png\", 'w') as f:\n",
    "    f.write(regex)\n",
    "f.close()"
   ]
  },
  {
   "cell_type": "code",
   "execution_count": 9,
   "id": "a267d643",
   "metadata": {},
   "outputs": [
    {
     "data": {
      "text/plain": [
       "['iTXtXML:com.adobe.xmp\\x00\\x00\\x00\\x00\\x00<?xpacket begin=\"\\ufeff\" id=\"W5M0MpCehiHzreSzNTczkc9d\"',\n",
       " 'x:xmpmeta xmlns:x=\"adobe:ns:meta/\" x:xmptk=\"XMP Core 4.4.0-Exiv2\"',\n",
       " 'rdf:RDF xmlns:rdf=\"http://www.w3.org/1999/02/22-rdf-syntax-ns#\"',\n",
       " 'xmlns:xmpMM=\"http://ns.adobe.com/xap/1.0/mm/\"',\n",
       " 'xmlns:stEvt=\"http://ns.adobe.com/xap/1.0/sType/ResourceEvent#\"',\n",
       " 'xmlns:dc=\"http://purl.org/dc/elements/1.1/\"',\n",
       " 'xmlns:GIMP=\"http://www.gimp.org/xmp/\"',\n",
       " 'xmlns:tiff=\"http://ns.adobe.com/tiff/1.0/\"',\n",
       " 'xmlns:xmp=\"http://ns.adobe.com/xap/1.0/\"',\n",
       " 'xmpMM:DocumentID=\"gimp:docid:gimp:2a391f35-a48a-46d1-b50b-1223e4f7f22f\"',\n",
       " 'xmpMM:InstanceID=\"xmp.iid:6a5c07c2-f06c-41a1-a150-dc1c412df4a8\"',\n",
       " 'xmpMM:OriginalDocumentID=\"xmp.did:574e886e-7c1d-45bf-9bd2-3c56940c6412\"',\n",
       " 'dc:Format=\"image/png\"',\n",
       " 'GIMP:API=\"2.0\"',\n",
       " 'GIMP:Platform=\"Windows\"',\n",
       " 'GIMP:TimeStamp=\"1670529470941729\"',\n",
       " 'GIMP:Version=\"2.10.30\"',\n",
       " 'tiff:Orientation=\"1\"',\n",
       " 'xmp:CreatorTool=\"GIMP 2.10\"',\n",
       " 'stEvt:action=\"saved\"',\n",
       " 'stEvt:changed=\"/\"',\n",
       " 'stEvt:instanceID=\"xmp.iid:d3357d99-7d69-4dbc-be3d-e694b4661307\"',\n",
       " 'stEvt:softwareAgent=\"Gimp 2.10 (Windows)\"',\n",
       " 'stEvt:when=\"2022-12-08T19:57:50+00:00\"']"
      ]
     },
     "execution_count": 9,
     "metadata": {},
     "output_type": "execute_result"
    }
   ],
   "source": [
    "with open(\"burp33.png\", encoding=\"utf8\", errors='ignore') as f:\n",
    "    imageReader = f.read()\n",
    "# print(imageReader)\n",
    "\n",
    "# Display texts \n",
    "regex =  re.compile(\"\\w+?:[a-zA-Z0-9].+\\\".+\\\"\")\n",
    "imageText = regex.findall(imageReader)\n",
    "imageText"
   ]
  },
  {
   "cell_type": "markdown",
   "id": "1e053939",
   "metadata": {},
   "source": [
    "## Search"
   ]
  },
  {
   "cell_type": "code",
   "execution_count": 12,
   "id": "43dba754",
   "metadata": {},
   "outputs": [],
   "source": [
    "import re "
   ]
  },
  {
   "cell_type": "code",
   "execution_count": 22,
   "id": "45b96eb0",
   "metadata": {},
   "outputs": [],
   "source": [
    "with open(\"burp33.png\", encoding=\"utf8\", errors='ignore') as f:\n",
    "    imageReader = f.read()\n",
    "f.close()"
   ]
  },
  {
   "cell_type": "code",
   "execution_count": 26,
   "id": "1aceb9fa",
   "metadata": {},
   "outputs": [
    {
     "name": "stdout",
     "output_type": "stream",
     "text": [
      "The word is located at index: 3506\n"
     ]
    }
   ],
   "source": [
    "regex = re.compile(\"Version\")\n",
    "Search = regex.search(imageReader)\n",
    "print(f\"The word is located at index: {Search.start()}\")"
   ]
  },
  {
   "cell_type": "code",
   "execution_count": 30,
   "id": "2259cbbd",
   "metadata": {},
   "outputs": [
    {
     "name": "stdout",
     "output_type": "stream",
     "text": [
      "Spain\n"
     ]
    }
   ],
   "source": [
    "import re\n",
    "\n",
    "#Search for an upper case \"S\" character in the beginning of a word, and print the word:\n",
    "\n",
    "txt = \"The rain in Spain\"\n",
    "x = re.search(r\"\\bS\\w+\", txt)\n",
    "print(x.group())"
   ]
  },
  {
   "cell_type": "code",
   "execution_count": null,
   "id": "ec064e7c",
   "metadata": {},
   "outputs": [],
   "source": []
  },
  {
   "cell_type": "code",
   "execution_count": null,
   "id": "95c2bd52",
   "metadata": {},
   "outputs": [],
   "source": []
  },
  {
   "cell_type": "code",
   "execution_count": null,
   "id": "351aa1ac",
   "metadata": {},
   "outputs": [],
   "source": []
  },
  {
   "cell_type": "markdown",
   "id": "bef7562e",
   "metadata": {},
   "source": [
    "## Find data from video"
   ]
  },
  {
   "cell_type": "code",
   "execution_count": 198,
   "id": "0cd390cc",
   "metadata": {},
   "outputs": [],
   "source": [
    "import re"
   ]
  },
  {
   "cell_type": "code",
   "execution_count": 200,
   "id": "0d35ed46",
   "metadata": {
    "scrolled": true
   },
   "outputs": [
    {
     "name": "stderr",
     "output_type": "stream",
     "text": [
      "IOPub data rate exceeded.\n",
      "The notebook server will temporarily stop sending output\n",
      "to the client in order to avoid crashing it.\n",
      "To change this limit, set the config variable\n",
      "`--NotebookApp.iopub_data_rate_limit`.\n",
      "\n",
      "Current values:\n",
      "NotebookApp.iopub_data_rate_limit=1000000.0 (bytes/sec)\n",
      "NotebookApp.rate_limit_window=3.0 (secs)\n",
      "\n"
     ]
    }
   ],
   "source": [
    "with open(\"StrangeKhalidPowerful.mp4\", encoding=\"utf8\", errors='ignore') as f:\n",
    "    imageReader = f.read()\n",
    "print(imageReader)"
   ]
  },
  {
   "cell_type": "code",
   "execution_count": 202,
   "id": "c4c40bef",
   "metadata": {
    "collapsed": true
   },
   "outputs": [
    {
     "data": {
      "text/plain": [
       "['Q:HuW4~M$阡\\x06_{\\x08o2\\x08Qw[g>0Dm1Huژg8fbR&\\x10\\x0f\\x12ݒ(7H?%a9>G.xi>\\x18TR|A\\\\\\x1f\\x062>%\\x11Ʊk2\"UnM<W!q\\x07\\\\CAĦ[E\\x16]s?\\x06p\\x00c1Y\\x0fw0k`H\"',\n",
       " 'صcR:Wa \\x04WbZJ\\x01\\x11\\x03>mB#64L\\x16f\\t;\\x03\\x17]I ]ޔ45nn\\x07~&{\\x7f/=ʃv\\x1fv*߫N$\\x006L4oIVB}HH\\x1aiIu}sb\\x19ۺjoP\\\\MD\\x0eڷS1{4v+9Ju%\\x13Wil*Ïvv-N{=kOYwiѸTVg[o>ȁ?\\x150Y\\x1bGS;n\\u05eej[7\\'I;P&sbae\\x17\\x0bRWЎ]myzbz\\x04ъ(%>f܀Ճ\\x0b\\x07!\\x1auacyY\\\\K\\x17X$\\x08\\x16G>\\x0bq\\x7fz\\x08B2#N(dnVFJ\\x1fSo\\x05_Vu\\x1f\"d\\x18Dc\\x01Wjo|V=\\x15GB3\\x1c}]џ\\\\M%tp4f$ph#5sڎZݱ\\x0b4\"',\n",
       " 'mЍr:S}MqIyg[\\x14\"1Ļ\\x16F$L\\x19t\\x7fY\\x16=DL ז\\'%\\x1foxJc+Ч 2q\\x18Ew2H\\tC\\x124=\\x05\\x12M\\x05h,\\x1cPi\\x7f\\x1dyEØ\\\\ђ5\\x14\\x13IhE|\\x039QE\\x11\\x1e\\x004)\\x0cYΊWe\\x103P\\ue535f\\x1e\\x01O\"',\n",
       " 'Ւ:S(>6ܦQ\"\\x00\\x02XB*\\x10xh?,MQ\\x00\\x02ī\\x01!\\x1aښ\\x02\"',\n",
       " 'e:Z3\\'z/\\x0fa^T-gQ\\x07B*9=-^\\x169Da\"(\\x1a\\x02,(\\x0bf1UCrڠ<\\x1agIf@d\\x0c!\\x03\\t\\x00V2\\x0frm\\x00`V+7-2oM}q̝z!\\x1auƤ\\x03\\x12\\x00\\x1adwZ/8\\x00e2\\x08^J&t\\x1eaER\"',\n",
       " 'Wם:j]\\x0eu\\x1af|ܬk\\x00\\x00UU\\x13@uL\\x00#,8\\x12\\x02`@Cmy5x]\\x13ηA-&Y\\x0c\\x1a\\x08\"\\x14_l\\x0eMͤG@\\x07^[c_ӟ;$1\\x1e\\x0bF\\x00,A\\x0b\\x0ce\\x13\\x01\\x1aS\\x18R2\\x02`\\x01!\\x1aE\\x061T@1#3(\\x1cx,]p\\x12R\\x0cL2\\x05>\\x06-$j\\x12\\x0bH4\\x18 ~\\x0cQ\\\\LjH8RW\\x03ꘫ\\x17HM\\x08\\x7fS\\x1e \\\\vnv}\\x1a\\x11i\\x16z\\x7f\\x06*@oLЉ V_2m\"',\n",
       " 'o:k1\\x16\\x1fbJj\"\\x01\\'kТ]S@\\x05F\\x0eע}:\\x07)ȼ^m\\u07b9.$f<GޤcnSuM\\\\DYT{\\x0e@\\\\3\\txa!bYT\\x08`\\x0eLM5w>e\"-Zfl`\"',\n",
       " 'Y:B/\\x0cm\\x19\\x04UI\\x15R&pʺ7\\x1b;\\x04H\\x0f%`HJ\\x07$ߎ@\\x9e]Cx\\x00\\x01\\x01q@R=;\\x06\\x02\\x0c\\x02\\x122\\x14g3g\\x0e\\x0eO5̣$\\t\\x04A6\\x7f\\x03\\x1d2\\x1b\\x05Z{qPk\"΄Ð<Τi\\x1f*~f#\\x1b\\x1d\\x13bӑ\\x05ჟCK\\x1aG\\x13.eɨPÑ\"',\n",
       " 'IV:5[5\\x1b\\x00{\\x16Xt%H\\x19}Vm\\x03\\x18v\\x03\\x1eC\\x12PK\\x01Ӈ=l\\x13\\x0b+\\x1e\\\\ŀmݧyŻ\\x121+<2\"\\x06\\x1cq$\\x17?\\'v\\x1a9/\\x16YY\\x08\\x118?g[\\\\h\\x00)\\x19&\"',\n",
       " 'm:X^M,r\\x1bKj\\x0b\\x02\"S\\x08=D4ދf|B>\\x10,q28/\\x1dpn\\x0e\\x1fp\\x08:&a5^`\\x00֜\\x1e#\\x18\\x13`\\x0e^3\\x1fZ}Z\\x19j\\x0b\"',\n",
       " 'G:wІ@y|pks+u\\x00t\\x1d4\\x0cw,_;3qڝ\\x12\\x06(};\\x00lK\\x08\\x02\\x00PgW\\x07\\x00\\x00\\x00\\x0c\\x01J\\x00\\x00\\x03\\x00\\x00\\x12p\\x00\\x00\\x00\\x0c\\x01L\\x00\\x00\\x03\\x00\\x00\\x12q\\x00\\x00\\x00\\x13AT\\x1eL\\x07\\x00\\x00\\x03\\x00\\x00\\x03\\x00\\x13q\\x00\\x00\\x00\\x0c\\x01p\\x00\\x00\\x03\\x00\\x00\\x12p\\x00\\x00\\x00\\x0c\\x01r\\x00\\x00\\x03\\x00\\x00\\x12q\\x00\\x00\\x00\\x13Ax\\x1eL\\x07\\x00\\x00\\x03\\x00\\x00\\x03\\x00\\x13p\\x00\\x00\\x00\\x0c\\x01\\x00\\x00\\x03\\x00\\x00\\x12q\\x00\\x00\\x00\\x13A\\x1eL\\x07\\x00\\x00\\x03\\x00\\x00\\x03\\x00\\x13q\\x00\\x00\\x00\\x0c\\x01\\x00\\x00\\x03\\x00\\x00\\x12p\\x00\\x00\\x00\\x0c\\x01\\x00\\x00\\x03\\x00\\x00\\x12p\\x00\\x00\\x00qA\\x1eL\\x05\\x00\\ttcZda\\x17k\\x04UH>OG^N\\x13\\x10ђn*\\x00\\x15:J\\x16G|\\x1b*Ƨ!?\\x06rMc䣿aUM)\\x14\\x05όC\\x17E\\x04iI@$\\x1f!\\x00\\x00\\x00\\x0c\\x01\\x00\\x00\\x03\\x00\\x00\\x12p\\x00\\x00\\x00\\x0c\\x01Կ\\x00\\x00\\x03\\x00\\x00\\x101\\x00\\x00\\x00$AƓ\\x1eL\\x05\\x00\\x07\\x13[\"zkݻu5R˫S@\\x0fg\\x1c!\\x1aMā1@b@\\x0cU\\x03\\x08@u&:e\"',\n",
       " 'm8:9N,\\x07>\\x07\\x11\"e\\x02IN)YaTx\\x0bׂ\\x0cIGA]\\x7f-\\x19\\x7fKWs;I|eĺbcКs!\\x14\\x00G#u\\x1e/^$_(ׁRS.P\\x04\\x05Q3 \\x06#q\\x18\\x15Wu~ni\\x04\\x1a.}|ɇ\\'9ѶP\\x02\\x1a@\\x037S\\x07!\\x1ae!\\x01!NWRH-a~ x_pBQcԱ\\x19dX\\x16%\\x19XIOl$\\x11:m6\\x03>?x߄)~\"',\n",
       " 'R:3C\\x1e\\x03z)JQM!^x>9؟?\\x17V\\u07ba?jq,\\x0e\\x1ey\\x7f).Vy@.6\\x1bJ7\\'9!Yݐ\"D\\x16\\x11Ù6\\x1d\\x07-BrǜGB;\\x07l3&\\x1dl|ѳ]\"Vnk1|)\\x10*n\\x05JjѸ\\x0e\\x08w<w[ x\\x052`[\\x16\"',\n",
       " 'OMs:Cx]\\x089K:J\\x7fJշ\\x19<H\\x0cz~u=&~#\\x15h2DMCmf1t0h7tS{/e~ZԀjAݣL\\x14NsAw;6n\\x0cc\\x1f$Z.yzTcj:tq 9nSwx7IVqӭΑ#wZTD\\x07\\x16q#U8\\x14a\\x16_!2k^=ʸ\\x04u\\x04\\x06N\\x00E\\x06F>\\x1e8\\x1e34O6\\x19\\x00!\\x14G\\x17&\\x12wf/W*\\x1aOCz9Kk8\"x+=L \\x0c\\x02s\\x1a>[\\'9B\\x0201\\x15\\x02\\x00tZ\\x15hĴ[\\x17f緃W:^h\\x00\\x00iBè\\x0b\\x18K[:-\\x03X;js\\x032mGC]O!\\x1a=aȁ\\x0e8%\\x0b\\x07;+rxA\\x0bW\\x08gɻ\\x1bA\\x01*\\x06֯C^+Q\\x052LM̾/\\x07RnZ$S \\x11\\x7fPF0;\\x05q/eŌ=p:櫯pR};1U,\\x16\\x7f~AskRW ۚ{sU(0e=2~~2\\x12~hٍzi\\x11Nf$)\\x08:qF.\\x1d_n)!\"7w\\x13z3Fhttʾi{i!-\\x12\\x14Aw2T+k߹j/\\\\\\x08$9N\\x0c\\x06.Sk\\x0edEŴ,JB\\'1J\\x18=>#W\\x00+rMvnH< \\x05ւBu;2@B\"',\n",
       " 'm:0W\\x0e8\\x07\\x02I\\x9a\\x11\\x0e?0e!\\x1a5ޑb\\x01 y%u唗RJP\\x08;d\\x13|t\\x1aP)\\x08bD\\x10\"\\x13O\\x1fy($x$\\x1dMeHTqA7HiLł\\\\\\x078Pú>i%\\x15\\x1b),/gG\\x15G$f\\x02mO\"',\n",
       " 'kMH:d#`E$?\\x13\\x13]^/̔7]+Ji)_/\\x15\\x087#8M\\x01\\x1c\\\\Gsg\\x18côE1(\\tO<6-PEOՙJ1C0\\x123z֝pWݥsv%ˎXa\\x1d|\\x1eSF\\x05591hq\\x18߇-u\\x06՜KOwߓ\\x1fhDu;\\x1d)y8MUUBm\\u192c\\x17xJ]ٹl\\x1f/N&Ny\\x1f`\\x01\"\\x0f6\\x0f\\x17<CF\\x0f/\\x07!\\x1abč[\\x11ncQ2q\\x189f+9dr\"',\n",
       " 't:Hf,h?\\x0bTa\\x15=-\\tá\\x06\\x196duuc\\x00\\x00Tҍ+\\x14kHߘ~F6y\\x0c6Z♐7jL?p\\x17\"3q6(}.GAbe7,=SR4qDϑ\\x1d\\x13I\\x17\\x1c\\x1f\\\\Hq\\x1be\\x0f\\x0f\\x02w4g\\x7f\\x003,l1=3\\x05\\\\s(LìC\\x07!\\x1a]aX(aBg,\"',\n",
       " 'xc53:KIxEG\\x02I\\x120^HDUQ@A)9vK2$\\x01\\x11f#\\x01\\x14F\\x10\\x02\\x04\\x08ǎ@h[Yw<O\\x0c[VGeK\\x07\\x14{\\'Lyz\\x06\\x19l`\\x01gX_(\\'R\\x01EW!p\\x03\\x07!\\x1ae\\x8b\\x0bać!\\x155OdƸ\"J\\x1d\\x01N㭀DI&wT\\x0c|:ФFK{:3оb~nؓ\\x0c\\x037<n?V7SnT\\x04+{)ǝԦpu\\x13e\\\\\"',\n",
       " 'J:W=\\x161oj\\x01Ֆ2Y-\\x13\\x0bL?S0+\\x18W\\x0c3M\\x17eiI\\x189\\x1aC\\x1b|\\x1cl\\x01\\x7fܙ#5AvKZ!@\\x003ݟ\\x13Ѐ\\x0b8#\\x1dǴ\\\\Tk+\"D\\x00\\x15\\x19mO--@NknȜ\\x0c$0B\\'!{ݍUf\\x1eZ\\x0bDO3\\tvBc-H\\x19g1 \\x0b#芢% \\x04C@\\x02HB\\x17Ϊ%i\\x11\\x00h@\\x13\\x18F\\x11D\\x02j\\u0378@\\x0cz60\\x00`=?\\x03\\u0601\\x04vtFAɉ\\x08\\x06x DA^.X,\\x00p\\x1c\\x00\"',\n",
       " 'Q:C;2Hg>Yt9K\\x7f\\x13捑_wƇ\\x08xՑVܟr-{gƎ}+ꏱx\\x1d0Imyf,ј\\\\J\\x17m\\x1fU.kGMG\\x1b65vڋOcb5r\\x148.\\x05l\\x04\\x03x~\\x19Qx\\x0b\\x03:\\x14/\\x13\\x1b/%=\\x0eX3괘q,t$\\x0f<RNWLq(7<\\x7fӅ-7*qLlQ\\x0b\\x12.{uNU<q\\x03}\\x7f \\\\%\\t\\x01=Lȳ}Xib=vȸB>loX\\x07W:>\\x12\\x16魛0Kˏ\\x00\\x17\\x19\\x08%\\x07b\\x030@\\x10\\x19\\x12%\\x00 }w\\x1eW?%ZR>2\\x06c\\x00\\\\\\x01\\x0fl\\x04\\x19\\x10\\x0f!\\x1a]a Wl*pJKԀsΒa\\x0c\\x1a\\x0fc\\\\\\x1eA)D蒆/O\\x12);/-b\\x1dxt^\\x1e=}\\x02`\\'\\x02>j\\x073쏈P}\\x16\\x18PՒ7K|jWcgpruOO<s\\x15D.Iv6O_f\\'hHm,MK#dPLzg\\x13R{?c\\x17\"Uզ>G\\x16ں.9E፷~\\x11+-\\x1f%6S<N{j?<S=Am.gzXV\\x7fMa9W7t+N3-9\\x02Bmf^wf\\x1c3%KG\\x1c|BhzP3mIMit:\\x13#\\x00W\\x1c\\x19NYL\\x18;65`ҿm\\x04\"',\n",
       " '778:q\\x18k&vNFm\\x05\\x19P\"M]\\x1aKԦl\\x18m\\x1b\\x1eKGR\\x1c5}|tηr}r@Q(\\x14\\\\vDtli\\x14`\\x07\\x0c:~wY)4qDխ\\x0bE}qU!\\x1de\\x01@\\x06P#\\x14\"',\n",
       " 'V:P{[W\\x08>?\"CS\"',\n",
       " '_:z\\x16Vʯ\"a`H\\x0e(7wV6\\x7fm\\x7f=Z&d\"',\n",
       " 'Q:fEyoV\\x03ǺU\\x18-Y\\x7fT\\x0f*4lZf¼AK\\x7fX\\x0b[\\x06/}g!e\\x0ex.,\\x14Ysk\\tv\\x159K@2\\x0b\\x7fgs4\\x1e!9_T\\x1d\\x0e*\\x0cG\\x06K&\\x07D\\x1e\\x19fײсٛx6+a. )pm\\x07kJM\\x17}|&p9nPA\\x15v\\x00#tݓɆ\\x161(\\x00-!\"\\x04l1~p=\\x04Ի\\x1a\\t[8c$=\\x11\\x14QHQT\\x00\\x04˘(q=ݐOo\\x13\\\\!\\x1amʋi\\u0600\\x7ff|5R5\\x12[,V\\x1a6ѽ4HpHEBu;\\'p]jO\\x1d\\x07\\x1fna\\x01\\x0cDl{@@ZF*T\\x1c>5\\x14h|\\x06G\\u173eHâ:*Bn\\x1cU.yW8}UW\\x15It:ˠaF\\x07cpe 6ڠ|8-Ġ܉Xh-&4;\\x0e$1)\\x19\\x0b4D5w-]\"',\n",
       " 'iBҸnQ棸:q\\x00՝R\\x10d\\x1aa\\x1e[KCq7TPx\\x17\\x0e\\x06\"4\\\\\\x12@l9%ܡY\\x1b\\x047_-\\x0f\"',\n",
       " 'W:c@ǃ}JxU\\x00\\x0e\\x13\\x1c\\x1d\\x08 |\\x1c였!!\\x1aMΙaDNw\\t^DBA}cD\\x1cb\\x16$\\x10\\x0eci@\\x1f\\x08>ɭ?Ky\\x1eu0_~\\x19bG2έ}t\\'\\x18\\'cH\\x7f%N\\\\tπ\\x7f2\\x17\\u07b6\\x18\\x1eHJn\\x0f)\\x1fGCHq?3\\x1f\\x02#2\\x1aepMCp}^pY}*~ؼ4[ҿW\\x1a\\x17@,\\x1c\\x1fqL<^\\x1ftiH\\x10%q!\\x00\\x038:\\x17Qg\\x06g{pd!^\\x03<;/o\\x14hc4\\x7fB9zcZǹb\\x1d,v=pG\\x0c;JN>(Nʱ\"A\\x0cn!\\x1aedX@[j^.uDT\"',\n",
       " 'EQs:c{)\\x08\\x19\\x18\\x00\\to\\x15*?\\x11._ǌ\\x08\\x03[hɰ!$0\\x01N\"\\x0f8:=xHݤ\\x0e)\\x00csА\"',\n",
       " 'x:sQN\\x06H\\x0cX,>X\\x10o4DO9o<9\\x0b߮v?̋j\\x14\\x01_\\\\\\'l\\x04ŮqO\\\\ia7?b\\x11U.?\\x0e\\x18ZG\\x1c1X\\x04BȎ\\x00\\x13\\x01\\x04U\"_RQ4«!\\x16}K\\x1c:8Uظ#dQּͥzG^бC+zO\\x10S-\\x15F\\x1d,0\\x07!#g`dH2Xz#\\x0bE2`|#\\x7f/m~8 rxנFg1xOM)[=EKӌ\\x7f&C\\x1c?yWI3`RB/g\\x081tu\\x0c\\x00\\x0cicڝɒ9u\\x7f\\x0eG\\x11 6/a)>cQ%4nG4}6\\x1ad4H2h?,\\x1cM:\\x046\\x187\\x07\"\\x05\\x12xLH\"',\n",
       " 'F:F\\x1dr\\x0evQn\"Q$\\x1b\\x1fVE4ݗġ0G=:{\\\\\\u0601\\x15Cqc\"',\n",
       " 'W:o\\x16wQ\\x1b\\'\\x17d>n1&Gw%|ű#jkӵ(PU<\\x12Dj\\x7f\\x06Z/NAy\\x04R$5@k\\x12/_7_C6\\x1cAXB]ٙmX\\x00\\x0ePYR-]\\x12\\\\:K\\x1ca]\\x1b|mE.s#cY8lJb\\x17&μ?y3\\x18\\x1emЎ5\\x010e\\x0f\\x00</!\\x1a]vv\\x05]\\x1a\\x13SjS܄2fq+t{Pc1O,\\x11,+\\x19:))\"cÉ\\x080\\x11R\"O\\x06\\x11 ?\\x11L-x+-i\\x0eY>w\\x07rD=_jŻ\\x13ֲ>7.\\x04w\\x12C\\x19~Ih,\\tm\\x1cݽŁB醛ZQX9\\t(ISqjn~ia\\x13l\\\\J-\\x10˒E\\'\\x1d&Ze<\\x9b(bٽ*\\x053)l*r`=__ֺv]*ΏU,\\x0f\\x10\\x0b͈|eUJy\\x03z)Y~Y$\\x18?\\x1a /qҭa\\x14\"ҞL-tl\\x1eZZ|OH\\x03*o\\x0f#H\\x02lJ\\x1f0\\x00|!\\x1aUއa\\x01HC\\x02\\x07\\x1bF&@\\x16D\\x139)>t0j\\t\"',\n",
       " 'ɭG:29\"\\U000965a7MYbká tM\\x0eB\\x13ѾC\\x13ר=!N&KI+2!f\\x15M7o\\x1c\\x05M?\\x18Y;+*G>(\\x04\\\\>f\\x1a#!\\x1aMօch`q\\'W\\x11wPֳ\\x1dR[|IDݘ.Ux\\x1bјEK2Ox;T>\\'\\x1c\\x1e\"',\n",
       " '49:X(eG\\x07\\x13vZY \\x0eρ$\\x02G2ek51\\x16YHf\\x02/_͑.\"H\"',\n",
       " 'ލ:jB&.``Q¶jQ)ZB`j\\x13,k\\x01c-:H$pհ%B(P\\x02\"\\x03\\x18FF\\x10\\x12\"',\n",
       " '6w:eλwm\\x1b.!8\\x00\\x019yK.vW5{k\\x1at<ƭ\\x02\\x00\\x01fG),.\"\\x04\\x02\\x048r\\x1b~J3<(\\x03ɦ\\x01tC\\x18\\x009i\\x10\\x18sڼ^\\x01,x}\\x11!z\\x0e1\\x0b\\x00_=Oӽ\\x00\\tf8ӚT\"',\n",
       " '6:Z\\x10\\x14)\\x04P+H]F&\\x08;xg\\x02.p\\x0cu<;#\\x0fn\\'E\\x11)(4ݍR8(>дR-xiypZ֕QǄ\"(;V4\\x1dJs)FR\\x0c\\x0boAss9m6\\x15c?5=RN\\x06\\U0003fee4ڭt\\x0f6\\x1cTޞĩzE¸]\\u03790J\\x03\\x1aJ?=Jq7Nn\\x18D~\\x1f\\x195\\'-\"\\x0bU\\x188<7\\x12don8\\x0cHB\\x1d(^q\\x1cҢQ\\x11RK\\x10|@o\\x1fX,nU\\x12?!\\x1aM·m\\x03ڄ\\\\_\\x1dViJܽ\\x0baʀ>]u\\x1c.1J[x40\\x16Y0yZ\\x7f\\x17U\\x15>nS.,~\\tp,\\x0cry\\x1f\\x14;\\x1d}e&M\\x062%\\x1e\\x15^t\"iop2<C?\\x1f\\x1f\\x0ec_$RZ69Fiu\\x07_H\\x1e[rs(z\\x0c%{\\x08&C\\x12ElwuU;\\x0cfF\\x14\\x18Z֓\\x1aV\"',\n",
       " '_J:m*l掬FDN\\x055>z\\x15ˈ\\x16*\\x19)\\x16rhE\\x7fYnV\\x7fqG#A_<j\\x08\\x11ۜZ\\x03\"h#|JQ\\x0f\\x07\\\\\\x03G3\\x16^7D<\\x1f\\x16Ϋgx\\x07\\x15Zk\\x18\\x12SCV=\\x01ǦGʈw\\x07)\\x13E&L77(;S9oXmQحld\\\\\\x1c\"@\\x00\\x00\\x00W\\x00#ܖ\\x10/_\\x0e!\\x1aE1\\x08\\x0c]MSך@\\x14BBha32HC}S\\x1e@Ao!_>\\x08\\x19dIxpX\\x1eT^&M\\x16Z\\x0c叝T2ƒ\\x0e\\x0co\\'gNlY\\x18K+\\x18\\x17\\x12\\x0f]\"',\n",
       " 'oӔGFH:UgNff6E3X0wni\\x081K?#nϭnb>\\x1f\\x18\\x0f\\x01\\x14\\x08\\x018p\\\\16ɀ\\x03\\x07!\\x1ameٷ >\\x0bZ\\x12\\\\NG0@6mё3\\x1flӋvsᓬڜ3\"u+rDےyW+\\x10$\\x08\\x0c\\x08\\x04\\x0e?Fa9~۾D~\\x19Ce2aWٻ3\\x14<զ<2\\x15ts_Mhi03UgwX?!Jѱ7A\\\\B!,\\x01^NMNG\\x1fc I\\x0b~\\x06\\x7fs\\x1d^RJ\\x10X\\x1dُ`o:\\x1d\\x14̈́\\x04\\x11\\x1az=\\x0e\\x1f`HlSA\\x15n\\x0eIv\\x03v\\x10xVL,`\\x00\"',\n",
       " 'Ԙ4:GvIҤCUr61\\x93Th\\x0fSPY,gN\\x12Vڭgܫ|\"|M\\x04>hWZ`|~oԽ`9Ѧ<\\x18\\x12զ\\x16\\x08leF\\x03PX}\\x12စڶI/+\\x17>\\'I_\\x15\\x08e\\x00\\x1c]-]v\\x14+bYo`\\x1f\\x0cV<\"',\n",
       " '9:X\\x0bD5\\x0bqrx1(\\x19\\x16&NGKiFoWb\\x1d)F?E`\\x1f\\x01pDh\\\\&HEGz0\\x14\\x11Uꝃ\\x17\\x11gtB@:? &R);/.v\\x1eY!\\tj[u/#\\x07\\x04\\x0b`\\x15@\\x12\\x08\\x06(o&! E̬^\\x0c\"\\x0c/ՙg\\x00\\x03ζy(\\x1d-vN\\x1ae(=S\"',\n",
       " 'ܝ:o}\\x1bf6+S&z\\x0c\\x00JA6\\x08X\\x00\\tVw\\x00!\\x1aM6*N\"T/qP\\x16\\x1f}H>8d!8}ޕZl3\\x14P>G빷i;ˢ\\x046\\x16u\\x15&q\\x1de\"5ʃ\\x03밮Q\\x1e\\x06bW3z4\\x15ב\\x05$=̻J(#N\\x08Ba\\x10 \"',\n",
       " 'y:cMV#b\\x15 ҈#2_߹Ǳׄ\\x13wwC\\x1be:vqoKY+8Z \\x02=7\\x1fG<\\x02-1K3ig-^\\x17y,g\\x06n~\\x05D~y%![yG\\x16m[|\\x16\\x1b}\\x03Ә0\"Oԁ1凔*aM0f\\x05PFL垤!\"',\n",
       " 'nl儻4:b>\\x197,1ʲK<\\x05$N\\x0b/r3KS6\\x08*E<e\\x1e\\x07=u\\x0c9\\x1b)*b|\\x17^\\\\A\\x06ޯZI2T1\\x10\\x0e@\\x06RF^\\x05*[/\\x1brs}Z\\x011#zQkd#\\x10\\x14\\x11242J?\\x01O\\x05\\t\\x142ʤT9;eQvB`z6<ɁF\\x10\\x04r\\x1f\\x1e\\x17*p\\x0c\\x18C?d^ihf:\\x00\\x00\\x00\\x16\\x01Կ\\x00\\x00f,\\x13E-t\\x12\\x02\\x00\\x00\\x00\\x0c\\x01Կ\\x00\\x00\\x03\\x00\\x00\\x100\\x00\\x00\\x011AD\\x98_\\x00\\x00\\x03\\x01!6?z\\x05`vX2f8Y8m\"cΖG!t:ӻ{ޔ\\\\_H\"',\n",
       " '0:pڰ=\\x15\\x13~@vx\\x03\\x01\\x02~JT\\x03\\x07!\\x1aeD1 \\x1cn]:6*\\x0eNF\\x10KH\\x112vN\\x0f-\\x0ch)z\\x1d]TZG:?t\\uf12a\\x04˝ӽӰ_|cSS\\x1f+\\'\\x1aFV?k8}sxpT\\x17mA\\x13ynwz\\x7f\\\\\\x00~@\\x1b\\x17S\\x08@\\x11H^>ńEI\\x13\\x13\\x0f\\x07صMcLQ\\u05f98YnŰ\\x1e\\x1f!\\x12B^^,\\x1eh\\x0cفLilt:\\\\\\x067}&/0\\x13\\x05seA*5R[\\x05G\\x1d\\x1b\\x1b\\x1b톽>:\\x089K><ab{s9;KzA4N\"%ѥy\\x04&^h9\\x1a\\x06\\x07\\x07\\x118\\x10B\\x1f*M.>es6nH!\\x1auECQbBlT\\x18NN8y\\x12S62\\x1c~x\\x12&\\x1ey0R~HR\\x11)T\\x1d>>yc8=Mx!/\\x19+;^k#aqR?oR\\x01\\'z{)\\x036ttQ\\t`{\\x06z?\\x05A\\x14d\\x00\\x15\\x13u\\x15ܿڸ\\x0c\\x01>1Sjp!Zb\\x19|bi\\x19\\x06טWat\\x0b\\x1dYg&\\x10=&\\x1cX\\\\6\\'o\\x01\\x1dZ\"',\n",
       " 't0:U;Ȫ-\\x1dS\\x13Pzݺ={CZT\\';\\x14Bl+܆I\\x01\\x12%\\x0f\\x7f_uq9bv/@yf\\x15ۮ\\x1b]\\x02\\x19)gU}\\x1dߖ14)P\\x07C(~%S_O\\x12\\x08F\\x11\\x10|\\x153%?Y\\x16֑2\\x19ESw{0(5՞\\x03@\\x00\\x16W̝\\x08\\x17\\x1dP?2\\x1am[uGUpY\\x05P\\x10#pX\\x1d\\x02\\x1f{\\x1a\\x06\\x0e\\x0fDy\\x14`\\x9c`EB:$dm˫ﾰȔU:|Xu2F\\x0c\\x0c᩺5Y\\x12\\\\g(L\\x0c2lM_ZL\\x17^$d\\x0b\\x1d\\x14QEҔ@\\x10\\x11B\\x07\\x12*@zs\\x0eUl_ʅ).j˝-)\\x03\\x13_\\x12oۯw\\x02`\\x12*UF\\x1fP`\\x07!\\x1auC\\x03A(@1\"`:*wR]aw(ті\"',\n",
       " '9:u[R+xFV\\x12\\t.!<\\x1d*\\x15f.ȩ_\\'\\x16SjmA,\\x07T`\\'8ײ\\x1eqvi\\x12:I\\x0eܣ\\x19\\x1ej).!TX\\x14Z\\t\\x19\\x11Mqv1\\x04|\\x0etkό\\x00\\x11\\x01\\x1bjÄt\\x07L\\x04{=*{:\\x0cf|t\\x10)\\\\D\\x18\\x1db\\x12}s蠚k<}\\\\ի\\x04]B }\"(V\\x1a/\\x7f{\"',\n",
       " 'KC:SI\\x1dLL\\x1f\\x17\\x19<bP\\x10iA%p\\x11*VXo\\x06{WŲ.\\x04O\\x12lal7\\x7f\\x08\\x0e\\x7fƹ\\x0f9#T`\\x1c\\x06\\x13s}{\\x03S[Py#Rx`\\x0fw\\x0el9:W\\x7f3aivxj\\x08\\x1d\\x16YPM9\\x0czη)\\x7f7<\\\\MS|a\\x11|~\\x1dx^Y</aAZѺ\\x1b;͍\\x16\\x1d-ɒl(4r{`<[\\x16ø4զ8N\\x07[*<\\x16\\x1bx\\x00.: (7>r0\\x13&.n\\x19V_x>q*ÏEzy\\x04|\\x08\\x05A\\x0f]r\\x08Iq!\\x1a5d\\x03**\\x18szO;\\x14r\\x11N\\x13 \\x17\\x15\\x1e #e\\x12T\"HZnJə~\\x1dw0l~%+\\x10\\x10\\x16+P8?\\x05Y2皐{\\x7fgY> QZoC=r乯\"',\n",
       " 'EZ:Yo!\\x1a]އb` s\\x1b\\x1e<rӊs\\x06@&%\\x13\\x13\\x0e&^C@DJ^\\x14FpiwxKˋ)\\x0f㥀/\\x1b70\\x10z>|O!ʤ\\x08&:8ߚg3\\x0b&\\x034uy\\x7f\\x06幜\\x16\\x1e\\x1d/\\x03,\\\\oR®^\\x1dɗi]9]!\\x0e%Ci;erm\\x0b`xpV#\\'@X֦EⱞL45!M\\x14VȽ\\'7Wt1VfS[amچPX?N|\\x04T\\x18\\x18&l+&6;BV}[)\\x1b/gOi[\\x05\\\\hX:}.O`yV!G8\\x0b=y\\x10~\\x19qdg+b7[\"LGJ\\x1b\\x0c:\\x0f7;>@4\\x07!\\x1aeA\\x08\\x08@/ju[uwÖ\\x18mjnؔRQ^\\x04\\tpdp\\x15ySg{aY?ĝC2`Ń\\x032\\x15\\x02\\x176O\\x0c+Eժk\\x02d3g\\x1fp#yp\"',\n",
       " 'K:a(DpqMPN^ \\x0e%\\x134ױ\\x01\\x1am\\\\\\x16U\\t(Ǘ\\x11_\\x00ty3WQ6\\ue66cqz\\x17҂s\\tZ6\\x02\\x19aMo\\x16R\\x02]k?4{M\"\\x0fRy\\x11Ðz_\\x07,/\\x00\\x16ooW~\\x01~Ȕ\\x17\\x01\\x07\\x0eϯ\\'c:7c(\\x00\\x06s\\x10~!\\x1a\\x15\\x03\\x0c\\x02\\x08:qiw8Kۘ;q\\t%xe\\\\\\x13k\\x00XG~pwqg/oE$A\\x1e\\x16e!5\\x15\\x07<ol쌄\\x18*S\\x0egd(BkMsYi1wC\\x16օWj2(\"\\x0fj\"',\n",
       " 'H:F\\x00\\x13\\x08;\\x03\\x07!\\x1a]Ս\\x03@\\x00b@\\x00\\x14n5IHJ\\x10(d\\x06\\x0cߕ?ʦ#N>1:/ʫ\"Pg\\x07\\x1fh0n\\x1ec-\\x0e\\x17@+\\x0b˨x\\x1fԍݣv\\'xf66b8)GT}5/\\x0f5D<q\\x1bNq\\x03\"',\n",
       " 'k:3c.py\\x0e&\"\\t6\\x14g1N3\\x19n3\"YbŠx,x\\x06\\x10;gYbm%\\x03\\x06^\\x19Ȱ%K\\x14 \\\\f\\x0bl#j\"',\n",
       " 'Nh:O\\x0fP\\x0fmg\\x1fW2\\x0eh0<C\"\\x15\\x07_WGÛE\\x0cdO[U\\x08=M|Ɠ!\\x0f9#j\\x049G3u\\x01%E\\x1dT\"',\n",
       " 'Dgf:Y_vH0M˴^y!R\\x1fz& !@QДa\\x017p{!\\x1a]ڇgX@F\\x10#\\x1f#e\\x17\\x08t/4\\x19g>$C(~NJ\\x03Y7>gID)rv\\x13.\\x0fȮ1V͓+&SF\\x1aq\\x12M[\\x1fpg/M\\\\\\x1ch%n;w\\x03C?]^SƟq$1\\x1d2wallm\\tc3n\\x17\\x179\\x1fѰ\\x11\\x19м.x\\'TP\\'*Q}}A!6F|[\\x02\\x08q\\x1elո\\\\bqXM\\x04%ZPAoóz\\x0cأ\\x1d#(\\x00Z0\\x08\\tO\\x15/E\"b\\x13.ztH\\x1d܃\\x01\\x1b6%e\\x1e^!M0s\\\\ױNZD\"',\n",
       " '77:e\\x1e^ŉ5[lS^+x\\x1b((|\\x08y- \\x04\"RI\\x16\\x11g\\x07!\\x1amc\\x03B-]QʪK\\x1d\"K\\x00m\\x1f&5秥\\x14 \\x01|?LG$߭Jy.*#jI|qm\\\\ho\\x1aiG3t8}K\\x10wսSA>*\\x07\\x11\"',\n",
       " 'aI:3h\\x7fK%7C?\\x18Emͼ~cj\"s|,\\x16\\x14[G9(:)\\x10d5CU>\\x1f\\x15k6ZOH&=#\\x07nu\\x198ǣ<O{p·}\\tC*\\t.\\x7fn\\x16\\x16ߜCa01jucG\\x1c\\x06qe1%L\"1\\x17$\\t_\\x1e4o\\x07=\\x07lM,>\\x059HE\\x10D\\x12v\\x01qؐlx3Nb؍I\"P\\x00o\\x00\\x01#\\x02QU\\x0bH\\x0e\\x10FqɢU\\x00ĵZW2̄!\\x1aeG\\x10\\x053\"p|\\tZ\\x05]j[!j\\x1aq#I\\x13]+\\x1c|9\\t$#!4\\x04\\x0c\\x0chnhQ\\x1b\\x1b\"\\x1c=r@F;\\x06?L2\\x10ZB\\x15\\x1c\\x05E\\x07ѪV)/NbwGd\\x1f\\\\$:\\x15JH>Gq^qߟK鬗\\'Ĺ1Ύ=G2xO%SdXUD\\x0b;WRf\\x0f媜N\\x1b[Bw?\\x03)Vav!\\x14Y-\\x01疾\\x05S۔\\x7f\\x16\\x11%}alWg\\x15ǑhǱ\\x19\\\\VFٷ%b&\\x08٘,_b~K.v];\\x1c\\x03O5lu#/M%N(1D/i{3T\\x06v\\'k!/xG2c{\\x14cD\\x0eDu7<\\x13Mn>\\x00\\x13\\x17z1\\x14d\\x13,I\\x03!\\x01\\x16F\\x11#Y\\x1a\\x19\\x1cO!\\x1auA\\x08\\x08=(thIu+[i\\x00Դp\\x00\\x1c>p\\x12l\"qsjs\\x04\"\\x00@\\x02\"',\n",
       " 'ZĮd۱:cЬ&k\\x11\\'NMB̹B1)\\x16\\x1f\\x14QP\\x04OP\\x03~\\x7f\\x0e<\\'2!\\x1a]\\u038db\\x01\\x04 #sIos\\U000fbeeb75\\x05&+X\\x19\\x7f\\t\\x1bw~kHi\\x08a\\x11QC<Ŝ\\x0f$(\\x1c\"\\x10)D)|\\x11C\\x187a\\x05m>{O}Zqbv\"',\n",
       " 'بIu:0\\x0eK\\\\?dayg\\x1a|x\\u0590z1D\\x12=\\x1e\\x15+H\\x1des!1\\x08\\x08\\x00\\'t@\\x10\\x19*|_\\x07F`-m9!\\x1a}\\x9d\\x05\\x02P_0jUՉ(\\x18c7\\x1b:Iŵ\\x19<\\x037\\x00\\x0b&\\x0eU\\x1c\\x16Dq6->\\x1fy\\x01T(\" S,\\x0f\\\\m+\\x0el*z\\x1e>ģp\\x1fr=\\x03VA\\x06ɐ12_bץ3C/{^t\\x1ac/j\\x17S\\x06qvS5?3E-\\x13\\x16s\\x0b\\x05RoxnK\\x1fE,H%Sj(F\\t\"',\n",
       " 'z:2bICDU\\x111H>\\x1dߏ\\x0f~>\\x01*RɊ\"\\x05A\\x17j\\x03\\x0c`%\\x18\\x0e$\\x18!\\x03@1ͭik9܇#m\"',\n",
       " 'f:f!\\x03Η\\x10#\\x19\\x11\"+~\\x0el\\x1777\\x05E\\x14@\\x00%T@6\\x13~q#B\\x13.`Z\"',\n",
       " '7:t\\x05\\x0fd\\x0cj\\x1c\\x14\\x0b\\x05ۦ\\x0e!,v\\x1a\\x01G\"LVL{s\"',\n",
       " 'sp:RY\\x1c8.h堶{zqf\\x1d;xқ\\x1e\\x071Ը492v\\x12hn4վ:|m\\x7fN\\x0e*RGAh@tѺ\"l\\x06&u\\x0b?&hVv\\x08Uvu,̯N\\x1a\\x11_9<ϭ@\\x10^> \\x0eF\\x1a\\x003S+E?\\x07=}H:u<*fj\\x06Y\\x00^ZQ!\\x14HW Iu* -)#Z<X\\x11VW\\x18LB\\x08\\x13\\x14\\x0bty@G5\\x07^K\\x07\\t$\\x05\\x13M\\x04AL\\x0cD\\x12(&]!\\x1aEޘ\\'G\\x03/[uua!v\\x03TH_&B\\x11Eb-ё\\x1d#z\\x15\\x02\\x11\\x1a\\x1c&f8d]\"g|\\x15\\x00_)&8v6\\x7fU8eqpN8!\\x15J[Dv^̸6>\\x1aE\\x0714\"o#Y\\x169dUF\\x07\\x04XҒ%y\\x02\\x01MBGD)eo*mӬT0\\x1a\\x0f_ik ӑ˓.q\\'U\\x19ݕS+#Gs\"',\n",
       " 'Bbut:sD\\x13`J=\\x12\\x161X~f\\x14Mx\"˩\"',\n",
       " 'e:Wf䦣\\x05:DjDN\\x08u \\x1f2\\x13RK]\\x14\\x07v\\x1fre< UFK`PMMղ}\\x07%\\x1dWxœr}dCBz!v _\\x05W\\x0e\\x11\\x0cS+;2)\\x0fՑ!\\x15[Nx}D\\x0b\\x0cH\\x1997-&%\\x13.Hv^0\\x7fx>wt+龃)~6\\x013n~\\x15mwI7_% <r\\x17\\x13\\x11,\\x0f<ʖ\\x13VcV\\x19ߔWn\\x01\\x07\\x19\\x07\\x0bYy\"rkq\\x03zTˢdJWx\\x01;xJOvbOM5\\x1dG%\\x0cX@Ab\\x13,uyť\\U0001ff97\\x19؛\\x06~\\x0c\\x19\\x12㣁meҠ\\x08\"',\n",
       " 'l:j[\\x15Y\\x0e\\x1c9g6\\x13KjnyZH6\\x1dB\\x1c-\\x16F\\x19E:!\\x13\"3\\t\\\\§s\\x14G5HJ\\x11Жq\\x16>B?\\x08\\x10~:N>H-|+$\\x18hRq7\\x0b>Y6\\x0f2\\x0e\\x14]\\x10[\\x0bUSBhZu*YٌFN\\x15\\x194n@e\"',\n",
       " 'o:6\\x1e2paV\\x10e}e9\\x08箛̗WweJv`E\\x1e[\\x07mc&jz夹\\t۲\\x85>mvT˷w\\\\\\x16!eqDP+o%<\\x0eM\\u06041G2j @\\x11G\\t/\"KO@w\\\\?\\x0f|\\x07Rխm=;wx\\x12K\\x02\\x19H~\\x11i],\\x04@fc\\x11\\x7f=B#]9Rr\\x83z\\x19zY\\x10xE-5\\x07&{R\\x06uF/m\\x11:\\x1d\\x0b\\x18ต\"',\n",
       " 'KF:l\\x10\"u4@WZ}XF!/\\x0cqLPxt45<V\\x13::u\\x11.$˃6U0S!\"',\n",
       " 'Rv:9lbPj\"|noY\\x06N-CnoW\\x10x\\x15\\x18&NsL>SZ%3\"',\n",
       " 'YF:qAW\\x0e<7-\\x00{f9@\\x15[.\\x1b\\x1f9g\\x108U;N3\\x07\\x13\\x01u:\\x17ZG*j\\x07w\\x030!\\x0b\\x020i8!\\x1a]Ά0@1#]G\\x01\\x10E_9tU:\\x0cH><7Fʳy\\x1b漳X\\x05y\\tCWW%_E70|\\x18=Ə\\x04ry\\x14xYѬw\\x17\\x0bm\\x05(=XՖ\\x14Ó$\\x00\\x01P+\\x07\\\\\\x1aX~7:ѫxނ\\x1b\\x0f^\\x13E`L+\\x04*\\x16LU0~+v\\x15&%&a4\"\\x07wx|\\x7f\\x19\\x1d?}ReA#Ԅ\\x17)\"',\n",
       " 'O3ك:kmͿHLP;\\x01bTKGaa։Ӹ\\x19ѐ\" \\x1eS>UvV-\"\\x11Lî\\x19=\\x02vidZ6Nm5Pe<ׂX\\x07%+\\'&2\\x0e$0\\x13y֛MF+H%\\x12<8\\u03829o\\\\v.% \\x02:\\x18a\\x0808{\\\\\\x00E@v8\"',\n",
       " '9vtu:vT\\x12D|BK#4\\x19bf{Z*\\x11eMWIK$\\x1f9\\x17cj\\x0bIh7W#\\x16\"rIBt\\x1e\\u070e\\x1ae\"',\n",
       " 'g:Y\\x12RArX1&@7;/#=R\\x0e\\x0c\\x15\\x10i\\x1dտ@\\x15ߜGtۥnB\\x0fI\\x1dN̰\\x00\\x00\\x01?\\x7f,S§vS(кy5Y;`S˷\\x0cv[GV\\x14sx\\x07=Y\\x17ӽ^\\x14:()\"\\x1c\\x08>`\\x0c\\x0f\\x03F!\\x1aMw\\x00+놢n{xu!\\x0f\\t\\x11C\\\\d}6#QhY|\\x168\\x16\\x18\\x0f~@.\\x1d[fNfofתZ8\\x1b\"',\n",
       " 'U:hl7IԏXr%bY6t6a\\x0chK;b\\x05q\"_\"',\n",
       " 'CңЩƆJodÁ:q\\x0c\\x18Ӂ\\x0eXoC\"\\x16\\x11I\"',\n",
       " 'P:L\\x02د_(U\\x12x2CR\\x05:5\\x088ĚAO1\\x0er;\\x08n{d\\x0b\"\\x17\\x13M\\x0c7ґzK4yDi@(\\x05\\x06\\x12\\x180-\\x15mo\\x07#XC\\x15&h\\x13s\"\\t厰\\x15m/\\x17\\x1d}D@\\x053Ӡ\\x0bН&\"',\n",
       " 'f:K/>\\x0fe\\x1e{\\x1f\\x1eU\\x19cʥrF\\x17ȩ\\\\\\u05f7FJd8\\x7f\\x07L\\x13\\t,\\x00\\x1e,\\x0bʚNn\\\\r?_³/{3$7I\\x01X%3s\"\\x1a\"',\n",
       " 'fɶsc6Q:Gqޜ\\x19h^\\x1d\\x08\\x17^YB6Lҷ1A\\x03pgױۋ4R\"S\\x03\\x16BWp9K@*\\x1ct\\x064`⽋NW\\x1c\"',\n",
       " '_:C`__t%\\x7fQ\\x02k1$C\\x15z@sR&\\t@\\x01mD\\x1bȵ^k/%\\x02IrNOwD&A*o.6/%#*Wj\\x06\\x7fGy\\t.Q\\x10P^\\x0bk\\x1f\\x0e\\t\\x1cTRo!Q$G[-Rd\\x0681\\x1b\\x1f%8\\x10Ԇm\\x1eћ]\\t\\x14\\x1d\\x17\\x05s1\\x0cK\\x1c8<EO\\x0b2tc\\x19x\\x0b\\x16WF3D\\x13F|)&\\x08\\x7f\\x03w)d:r\\x03{vk\\x06\"&\\'[\\x1ec*c.}^I+*\\x07!t\\x0f/[\\x06gQA%U)\\x02G0ֆ.51\\x1eE\\x16]\\x01k3}Pꋄ1\\x14\"',\n",
       " 'ք:WL>v0iEA\\x13\\'r郦ہz\"\\x00\\x1c_(K.\\x1fB82IW0a(dUvsp\\x00Uq\\uee0f¤u,5\\x11O\\u0378\\x0e*JeqgWhLĝH#qs~&\\x1fFm\\\\C\\x0c;R_O\\x7fGCV~Tد#4iNv\\x1aI7^c&zU|\\x174QSF\\x07χ6Jg3|RG\\x1blI\\x0fLNxe\\x18\\x0cD}Ak\\x076Vr\"mU\\x1d\\x084߃uQU/h>P^9<Rҟ*(\\x0c\\x06F`o\\x7fTʀJ\\x1bZXV\\\\f\\x1a\\tmFRף)\\x11YXé\\xa09-a\\x12Vg3FzǑ0\\x03d3\\t \\x07\\\\E\\x14\\x1aFff\\x1bZs5,u\\'9\\x05\\x16+Az@a\\x11\\x12\\x06+4k\\x18=\\x076\\x04\\x18ߝy9\\x08@p#[B\\x08n4ڐ\\x10X\"',\n",
       " 'YeH:c<#7C\\\\\"OFvȹ\\x19`lǁ+khp\\x15\\x07*saG\"',\n",
       " 'OKR:YѸ;q\\x1eۏ\"\\x19\\tᵮ5/\"',\n",
       " 'F:Ep|+\\u05c8\"ʧɐa\\x0b\\x15*ϼsEqĥ\\x1dZYӦC\\x1b5\\x03\\x1f\\x0b-\\x0bq\"',\n",
       " '3:B1x[ޞrРom3\\x14A^/eeMn[O9˳mʜH\\x1fK\\u05cbgTns\\'\\x01Sr\\x15:\"B\\x01RomeL\\x00\\x03840\\x17a]VZ%\\x17!\\x1aMb1TH3`\\x02*R5RU䈫44\\t)\\x15\"',\n",
       " 'u:2hvh~ey<,>=zQhR3\\x1a\\x19:\\x1d*\\x18;y\\x0c\\x1ePe*6yx^\\x13yv\\x10U\\x13A@~ \\x04p{C_\\x13~hOx\\x0ew[\\\\\\x1a\"#d1vȺ\\x0b%/==A>\\x00\\x00\\tT\\x0b[2\\x1fK\\x06p!\\x1aeD\\x10^\\x00J\\x13iZD{0F\\x19P*c][bxus4=\\x16լbQ%xm\\\\T\"',\n",
       " 'T:1{+B\\x1a\\x16&\\x02u\"\\x18u\"Vs$\\\\3\\x13~Y\\x06XS/͙~KoQ{.)a&\\\\\"\\x01U\\x11j\\x02@sP3)\\x17nu~)By\\x0f\\x11>8ãҶ\\x01\\x0em\\x7fc\\x1cwTX\\x05<{x>7{\\x0en{]\\x0e\\\\19E[0\\x068m\\x7f̸*ն4YڼV%\\x1d-(FqQ/06nw[\\x08ǊTj H(-$l hHgEp\\x10X<k\".¶X\\x0ccDs\\x19ՍPf\\x0bcasD\\x06\\x19,B\\x14p*4ռ0\\x11 \\x15>`:p\\x17<6?!\\x1ambn \\x13g6\\x0f;j.\\x8fMmj\\x11\\x136KXChm\\x1d&ʋ0:?:1ȊOnǥU<F[_:6vF\\'}\\x0cK7N\\x0cA\"',\n",
       " '8:7\\x17(_^_7*\\x1c\\x0f\\x10>Sw\\x14wA\\\\\\x08\\x1c7;s.tCƞ\\x163#2\\x06z \\x01ENji8*͍6\"\\x06ɭģ\\x19ZFjx\\x17ÜOu\\x182Nk_\\x16֒\\x1ejc\\x05TFH^\\x1a\\x12G,E\\x1bv\\x07z+L\\x0f\\x17\\x1e%YKlư@ը^\\\\cڊ \\':v*|)\\x1aDL\"',\n",
       " 'sLH:L|!Ԙz\\x13q.l5\\x1aJcy\\x08~T]P)lQNS9f1Y\\x08+\\x01\\x19J.W\\x14\\x1e]}wp\\x01c6]\"+EI/ͮҥ|\\x1e0\"',\n",
       " 'o:V\\x05\\x16\\x02p\\x1486l!B\\x0bd\\x1bt*SG!\\x0f\\x1d\\\\VJ\\\\U_g\\x1b /\\x11{)fu\\x1cF弖B#Z\\x19\\x0c; \\t=m5j.:Ÿf>9ZP\"=M֜H_~#\\x05e\\x06?\\t\\x0cD\\x03ӳ$z\\'S\\x02\\uef63\"sfFG1#W&_ݒ\\x1dkdrp\"',\n",
       " 'l5ꗚYFl:n]kNK\\x1b\\x08+Xh[vʭ\\x10}\\x1a{\\x1b?\\x06\\x7f\\x1dw\\\\\\x1b\\x135ʪx\\x016\\x11\\x16>\"oл\\x07vSc\\'.]Q{ɾgB\\x19=8Ǭ~BY}=Ǹ\\x00E\\x1as]3dPz\\x15\\'\\x7fm3\"nfY\\x01\\x18v \\x0fՍk\\x1fXآ-Y\\x01dl.هFVk!c.]p\\x16\\x1b\\x00=Sux\\x06 f\\x03\\x1eOz\\x1f$a1Z0\\x06A\\x1e`i\\x115őG\\x07_B5\\u05ec\\x04#C\\x08BAq\\x7f;Q֏=ϵXHrF\\x067-\\x06h|W)ꒊQ$\\x0b;C9\\x9b5\\x0b7\\x06H3?L\\x0f=\\x19=f&}ىJ\\x01iB\\x07NgEՄFFe<0\\x02JFޥxA\\x0cvI\\x15C*!<\\x04P[jӜ\\x0f˧ŷa\\U00057876*5^ħVZ_#{4Yi~^<P\\x0c\\x13\\x06c\\x13Eu\\x15A\\x12)Rx\\x0bC+\\'\\x06.]ۆ;R\\x19eI\\x05\\x1aAMKTVl.QK\\x17/mjHyb\\x02\\x16-__\\x05\\U00081d88\\x17(6x3=Q\\x0cKD\\x12|*`UTa\"',\n",
       " 'di7:E6z1Y^c\\x00\\x08\\x17\\x15g6Y\\x0eo\\x13SzT\\x1a=2cl\\x0fw\\x7f7/^\\x03\\x173gKß-\"qڱ\\x1d\\x0edQyh\\'\\x0bլi+\\x17\\x0cRD\\x16p\\x19*W\\x11vz}h^_ǪrO\\x1a ^{C*~rΨI\\x04JdÊ,j{*O^*5\\x19ѽ\\x7fK\\x12R\\x06\\x06\"',\n",
       " 'oG:S\\x1c\\x0b\"fY6\\x1c?A\\x7fǣ5mt:鋒mg\\x08lS\\x00tc\\x1d-\\x11s꾫\\x7f8\\x1a[*\\x10\\x10I\\t\\x12\\x06\\x00\\x00\\x01Y\\x19`|m\\x08H8B\\x02\\x11\\x02  \\x04F\\x11~OrラV\\x06($3hKh!\\x1aʇiPhN\\x10:l\\x05SΪ̚&6L$\"',\n",
       " 'tv:g.D\\x0e\\x17yyOwQRox9?m \\x1d\\u2e65*\\x01̇\\x17~\\x13\\x1aZ0\"i\\x10+_>\\x1a>5\\x95;Ǥ\\'\\x149\\x07;yuŰ\\x1a%b%6\\x17{#\\u07b6~\\x05dFj\\x1exB\\x06,;xO\\x10vƈ\\x07(n\\x14܅\\x18S:D\\x03#bxyV>.$ą+\\x0f^QEH?z,\"',\n",
       " '3F49:gyG\\x0b.^.ؿu]7w~EO\\x11țyɷ~Ԯ*eZ~-\\x14HҵW\\x1a$\\x1b\"/V\\x0b-\\x0ft9+3]MZ\\x1fA,\\'͍(\\ue760r\\x1f<Mݻv\\x0b\"',\n",
       " '7:0ϛ1\\x13\\x11\\x14rnC\\x16Ur_\\x14Ϯb\\x1eŴ\\x11\\x0e5tD\\x070\\x12p\\x1cV\\x16pڛiٱ}W\\x01s%R/lE58bXVB=e\\tvb,\"\\x13\\x17m\\x1f\"',\n",
       " 's:l\\x04F\\'YfJ(\\x00\\x1aC\\x00\\ta\\x0fD\\x1ddBĀ:!\\x1a]\\x03aYh0\\x0b-\\t\\\\Rl}\\x032}wJ\\x05\"\\x11dH\\x1d\\x08\\x1dPN&\\x00\\x05J#ֹU\\x15!u+]>\\x14\"',\n",
       " 'M:4u \\x10}fvXYX\\x02bl\\x1bjϙ;X+Y\\x15\\x0c\\x07OAP3f\\x1aq\\x12JWq@\\x079j\\x02*QY\\x1d7\\x11y7\\x15M4P\\x0f\\x0cw yH\\x06\"s5VIr,h\"',\n",
       " '1:7.\\x19\\u07bbosq+{/<7n>\\x1dMjbwә\\x08\\x169,ʶy\\x11\\x1cS\\x19Rk;!\\x1amP@1 \\x00K\\x18*\\x10}hWE}.\\x11\\x0c*l͟g\\x16HqI\\x1dqK\"$ݶ!\\x07\\x0ev-+\\x13=~\\'$8\\x0f\\x1a\\x04\\x18E\\x179ufEEUz!@hQ\\t%\\x19\\x00U+\\x0c\\x02Y}\"',\n",
       " 'eE:6cKF\\x0e\\x01A(\\x06BH\\x1d\\x12\\x07\\x0bm<\\x7f!\\x1aEҙ\\x03\\x01\\x0f\\x118&dW\"4\\x11;(($ɸ\\x7f2|\\x199\\x0f\\x1aN\\\\;d9X1Wst_cEͿyiJnw:\\x1cnx0Qٺ\\x15d\\x1f&\\x04ȸ\\x03\\x12g.1\\x0f\\tۅ\\x0c߲͗\"\\x140\"}y\\x1cfJؔ\\x1e\\x19ז0UlS\\'\\x15maW\\x1cQ\\x1f\\x1dTX\\x17q\\x15 X\\x0ebwa8A\\x02\\x00\\x0e3ɒb@\\x07\\x0b\"',\n",
       " 'g:fP\\x13o\\x05O 0\\x7fRf4rz6-$܃y\\x04<LX\\x19lq&\\x17\\x11Kj?=8\\x05n@\\x002\\x0f\\x0farR$\\x01N(A}\\x1b?Q\\x1bJ#\\x07\\x1cm\\x1d0O\\x11+\\x1aK\\x11\\x02G?{\\u0380m\\t\\x18\\x1cjfIm\\x1dZ\\x088%T\\x0c3{\\x0e\\x01@NC\\x01mnzTNTb(!p\\x0e2n&؞v\\x19rcENL?^\\x04i&ol,4Jf\\x15\\x14\\x1c\\x13%-i|6\\x1ay\\x01thd\\x07d[u[.\"k:5\\x1a<)CsL3շč\\x7f[S\\x10\\x08&s_}.G<y\\x16b\\x1c3ڕ\\x04`P\\x05\\x05Yj\\'\"',\n",
       " 'Qw5Սfw:k%I#J\\x18%SK\\x08+o0\\x054\\x13:\\t\\x15\\x16\\x15RKpS\\x04FH?9O\\x16\\x1aii_o\\x04w3\"U\\'Oϝs~\\x0e\\x1cH֘\\'P\\'JXb:\\x1ch[E\\x1b&\\x0ci\\x06e4o$\\x12\\x1fe/[%\\x7f[Kk=\\x0c\\x0boL`ɸ&Ƨ\"',\n",
       " 'j闧:j@hٕ\\x06B\\x1eFjBy>7OK\\x1aB-|6\\ue59csKSk>\\x01W90Qtc˶V8Cq9W}^yc\\x1ffB\\x0cձ&̠x.[\\x04*~Y%Y]\\x15\"id:F7`ܫN9CIޣtXR3\\x1bM}\"|-tr\\x06\\x1c\\x7f3k\\x0f*zI1˦yL9\\x02\\x00.PsA(Q\\x04\\x1bT\"',\n",
       " 'b:r6\\x13;\\x11fq\\x1bV8KCqtm|\\x05\\x14O:\\x1e?7\\\\LɌ8b~3&\\x1a+\\x19*9q!U\\x0b?!a@%5+pSde3\\x07~q#\\x13\\x06AÀ\\t`N\\x00r\\x15u\"=~\\x1a/ޅ_fvǱC\\x00}\\x11HDր\\x11b\\x1aqV)2PGÆT8;mP\".\\x1a˚^\"',\n",
       " 'پxz:y;\\x1a\\u05fec{\\x1a?K\\x1dS|t\\x0bI+ۊ?U[NYi\\x12dW\"%\\x07sF^\\\\\\x1f4\\x17\\x15Vn]j\\\\\\x01݇K8\\u2457jCcC\\x0eb\\x12e`ri\\x0bKWY\\x19\\x1ds\\x1dR\\x1e_g\"',\n",
       " 'L:tF\\x0f6ǑͳW\"\\tD\\x1f\\x03~)8QC\\ueb06@\\x08))05\\x15>!\"',\n",
       " 'E:VlY\\x0f-+C-\\x03#Sj[F\\x1bxo\\\\Cfu\\x0eD\\x18a\\x0euyy|9irK67>\\x10!T9\\x07E\\x12\\x0f\\x14DT\\x00C@V \\x04\\x05\\x04^\\x18\"C\\x06j@N!\\x1a=ډbxꦝ^vW\\x03-z\\x01\\x7fctI1*\\x07-f46z?.k+HTY\"',\n",
       " 'L:eH\"<g[`|g\\x0f\\x1ek\\x19=jxm1k2,;hw=\"',\n",
       " 't:I0f!hqOm/z\\x10!hŗc+<S˓7gP\\x120\\x01MA^w\\x01b{*\\x03Zv2:7\\x0f9^\\x7f\\x02\"ʺfbg\\x139X\\t2iNT=(-55\\x16mA8*|%\\x0fem[5*\\x01I\\x04L\\x00P\\x0fN\\x05\\x14p*50^\\x0b%*ˉ\\x16(0?=\\x07\\x1cJ@N\\x1bJ?\\x16);\\tA~=ND5yhhu :RTT_;*M(fL,9`\\x14b\\x11[Vn\\x01Fp\\x04K4_\\x1dd5[B\\x1bA./\\x13hֱ65US^q|=Fac1e/t\\x1a:EfJ>OO&&S\\x06Ǟ3\\\\N9\\x04}\\x1e`\\x02%4\\x0c\\x11{˅[BH֩a<9gMYiȎ]\\x12Ke|\\x06vKO\\x189\\x15#=.E\\x161}Tn\"',\n",
       " 'j:8VZ\\x02\\x1e\\x03rS,\\x152j%0\\x17K\\x18\\x11^\\x00\\x14\\x1aPvda\\x15PWF\\x19\\',\\x15\\x13\\x0c4eI\\x1fThlPo}\\x157J\\x05*\"/\\x13̹\\x0ci:2L\\'\\x06\\x12ޛ֢֗ \\\\fi;`Z-\\x06^9MU`_==͏z\\x17\"',\n",
       " '8:jT\\x015~`g;\\x10}Ĉ\\x0b~\\x08LpH\"\\x1c}L\\x1eNZ(V06B9)XRԱ8\"',\n",
       " 'Vdz:rt\\x06MoDS4nXO\\x7f\\x0fvc\\x1da&\\x10Xoo\\x1285*\\x1c>r\\x1e6ߛV95?e{\"\\x1f!a5u\\\\ޒz@II\\x07\\\\\\x0ci=F\\x0e=\\x00\\x17gV\\tK\\x1b6zwn8&;-g,\\x1f\\x1a/\\x14p}2p5R2g3:e˫&\\x18-7wEw\\x1e1Ѷ\\x04&7q\\x19\\x0f\\x00\\x13J9\\x1c\\x1c6\\\\&>\\x02Oj;\\x0fð??v}hJ\\x0b\\x04D5_xj\"',\n",
       " 'JJ:f&[lt\\x0chwk=E\\x16Scۻ3u8\\x12\\x00\\x06Dk{2a\\x03o\\x0b*=kn:KsW\\te\\'2x\\x1dU\\x00\\x00\\x05B\\t\"\\x00Dٖl5\\x10\\x0e#\\x1d%\\x00\\x1c<\\x1c\\tϫZS\\x7ft\\x00ӈ~\\x1cy\\x1co\\x01}\\x00O\\x05e\\x1f=kbg_@=D\\x00\\x025աӭaB\\x19E;+cWqd(\\x1b_,t6\\x17-0\\x1cpk]\\x00>\\x05\\x02 \\x03\\x07!\\x1aMÂ(Xf\\x10\\x18\\\\ҥT*\\x1eVf_@Ai\\x1bdPğ\\x17L\\x1cR\\x00s&\\x0b\\x0cnצ3 u~gio(_\\x17͟Y\\x16_\\x12Һ\\x1c.3yՃ.\\x0bM`kg:PE$m+C\\x01\\x13\\x166\\x051\\x1efGL\\x11a~EbwwW,G\\x1d-(ɏg%\\x02\\x16^=\\x16\\x00y ސXb*0\\' \\x04&zɒgvH\"',\n",
       " 'c:zǵ\"\"/\\x12!\\x14utgen.4E\\x0e\\x0c\\x1ff\\t\\x1cl\\x00^\\\\9\\x05azEh\\x18\\x01Gʨ3ɐXe8<AhAYM=Qz|N\\x08~\\\\ޙ橤|\\'k\\x01Fw>bC\\'TGSp?]sDJ53B;\\']\\'J,bqP\\x01œ/z\\x1a|\\x127Ev|8xe/>\\x0eOcԩviG)\\x15F\\x02HQ1<G5Ύ{L*\\x08WZӰAÊ$}^\\x04\\x04e\"',\n",
       " 'r٥O:4WbeS\\x11r@}\\x04Y\\x0eww|%f\"f[U1rHC\\x14ZzpA\\x00P\\x1d@}@8\\x19&ө-k\"\\x14Hgl\\x1bupk|\\x07z懵P\\x07D蝌nc\\x17:2vxk\\x7fG2\\x0bNb\\x02\\x00\\x14\\x00?=\\x01\\t2i$qr$\\x00\\x11V\"\\x0eA(p\\x01EX&+N\"A\\x05hԐ;\"',\n",
       " 'H7OC:XZ\\'i\\'\\x19\\x01\\x1a::D\\x1dQ\\x17\\x0e\\\\{HH}&CTuTr3lχ+m&Y:bVTe\\x05G*Prx#Al旜j\"8x \\uef56ո֝N\\x04щ9Zw/B:+ӭ\\x02 y5\\x1cvim-JrzcD \\x19\\x08\\x02*@>`\\x00\\x11&\\x0fw`z}#/?i\\x01g\\x07!\\x1aed\\x03|}( }|d\\'M\\t\"',\n",
       " 'Si4:lW,(P4䅟H\\x07<\\x1ajZc2ZR\\x1ctױa/ʔ:J쉳\\x15\\x0bb2vYQ\\tkHbp5~I!\\x17҅w\\x0fjD}\\x06\\x00[\\x01\"\\x04,\\x1ek[z\\x17Us5^`\\\\\\x03;rw\\x00\\x04sV\\x11fZх\\x15X(ܼѴ\\x12T\\x15o3RL\\x00\\x00\\x00XA&\\x00\\x14\\x13M42c\\x00\\x01\\x0c\\x1c\\x0b\\x1b7/7^7XkA\\x05u7K1\\x19_\\x02f\\x19({\\x08N˄m͂b|\"',\n",
       " 'fp:IqyǖZA3\\x7f+\\x13\\'\"Fw9 %\\x04>@\\x02\\x1aO!\\x1aeΕa\\x00\\x17 -X]]j%n\\x1fA$9\\x1e[\\u058c,\\x0c\\x1eEۛ\\x0bO\\'DMl9.Lw>MP\\'jjw6Uנr?\\x0eyuWoѴ@>\"',\n",
       " 'jBgoZ:j\\x1e{{TtQE\\x14u\\x0c>`m\\x0b/_!\\x1aEv~U1uƻֶ(0Ze\\x1c55\\x7f\\x11> ~:V)\\x0bmZkY*Z37\\x08Lb\\x1btSN\\x1a\\x1b.C\\x1d\\x06T\\x1d_)m\\x08%\\x06R\"\\x0fEݯA85\\\\֪8FB\\x0bM\"l<\\x16n|ƯM-0gQMsp.]-)[[/\\x0c\\x1dE\\t_s#,OBK\\x03`\\x14IgU\\x1f\\x1a;iZև#\\x1ci`t\\t#\\t\\x15\\x18t۹y\\x07\\x0eqN\\x151\\x1d%/Ê\\uf237\\x13\\x16\\x00#R\\x14xz(S\\x11F̒ 2*6\\x1549\\x13@\\x00\"',\n",
       " 'Z:t\\'iF\"\\x1aG!Od\\'\\x1f,H1ւ$@*o\\x1b\\x15GVkئUtVl_-[R_@ \\x1f\\x14Q\\x051\\x0f\\U00046f6b5V*6b\"',\n",
       " 'wv:U07e<N\\x17!\\x1a\\x04\\x11\\x03VWl\\x04&:\\x17A.L^\\x0crF|B\\x05c\\x0cѹD\\x1ce\\x0fNy]@\\x15 \\x12\\x169͔m*wzlq8LkGx1\\x04Q|⡃\\x1c}c$56L\"|\\x0c\\x1b?j\\x18n}gV\\x03\\x12n\\x18>Q\\x0b˸8n[w*#\\x19\\x1ad\\x0fNJr.\\x05U]y\\x11,a~)\\t&Ujs\\x07G<h!,\\x1c6uIscB\"',\n",
       " '횟:c^\\x16\\x18W:|,2F]\\x1e<4N\\x1dɳE\\x00@/;,2\\x01\\x04h^\\x12!cdV\\x17\\x0fP-SղթDKqSZe\\x1d\\x1de)Sߌ#\\x02o~\\x10*KB\\x15\\x1a3s.F\\t5vԡ\\x05w|?x&\"J-\\x01ԲJ0\\x17\\x11`\\x1c\\x04\\x08\\x010L#\\x10\\x18H\\x03\\x1a:\\x18\\x00\\x16ў\\x073[?zp\\x0eut\\x1el-\\x1e\\x1f:OSȵ>\\x05\\x19^s\\x1fI4\\x15J\\x04S05\\x0e\\x1d;*!$<\\x13r}\\'\\u03a2\\x01KZ\\x00Y!\\x1a}a@1#\\x00R\\x0b8\\x03}p\"',\n",
       " 'v:7\\x1c+a5\\x10RY1Z3\\x1b\\'Fs\\x1a=cwJt_\\x13;@.~oQ5(R/\\U000f45e3%y0!n9_c̺\"tϜ/3s\\\\r0\\x05<w\\x1ag\\x15F:f3mvb08Ve6[xr\\x1e\\x0fׯN:Q3\\x1f/\\x06\"W\\x05\\x15.\\tk\"\\x1b\\x07\\x00\\x00#\\x10z+\\x05\\x192>ÝW\\x0f}(\\t|Mx#8\\x1bܖ \\x1d\\x18a\\x01\\x18@N 8\\x00\\x1eO\\x03H\\x11QRľ\\x0cM\\x00N\\x1br5K\\x17}73\\x0c+_\\x1fʍ!\\x1aƋaX\\x00\"*eız^H.W\\x07\\x0fȝۂ30[ހD#\\x17Y2-\"',\n",
       " 'K:ZrnF`\\x00X=2%\\x10\"\\x03s\\x0fޟ6^\\x1f꣐ku\\x06)ClG\\x7fC&:NqӀٙ\"',\n",
       " 'd:7ڎ\\x1dO4X\\x00\\x05\\x01(\\x04 !+7!\\x1aeaX\\x10\\x13ǀ=jd;j=br;!\\x0c\\x19#\\x18I\\x12,\\x16ّ,=\\x1d 던j~]HwܝsD\\x15mԑY\\x01[\\x0c6q\\x01X^\\x1fqϴCBtoJY\"-\\x17\\x17n\\x9b\\x16kǊ\\x10ƬX\\x18\\x00\\x05\\x08\\x17\\x1bo7\\x19hƌ-p\\x16\\x18$q\\x19\\x1e_NS\\x18ych\\x1aR\\x0e\\x15\\x03j^\\x1f=UEN|\\x14>@Qc&)љ\\x08r*\\x06C{\\x18M2ů\\x12(\\x7fٛ\\x07~-0B\\x19>-UWESH\\x11zeN\\x1c\\x0e\"8F٠\\x16y%GP͓\\\\dO-G\\x00\\x00\\x018v\\x04 \\x00`z\\x0c\\x7f\\x00\\x00k\\x1d\\x0bT!\\x1aU\\x06\\x10\\x17|LtѭDI]gp\\x18\"',\n",
       " 'o:FEL2˸\\x1b*\\x15;8ce\\x15\\x13p`j0YԚeS^i\\x1e\\x0c8\\x01-~!hhZ:н\\x12\\x08I\\x04Utư./Fr\\x0bed\\x1aakō\\x10\\'\\x1f\\x16e\\x14fҠ!2SFYP \"\\x08\"',\n",
       " 'FcB3:G\\x0c&>t\\x14\\x04@,I\\x17\\x14#\\x00z\\x17\\x18\\x08P\\x08G9Ձk\\x13; sYG~M0V;ug,X\\x0c&:\\x1b\\tq;QPقi%GVoYO|E\\x02a`YlD&oG5rsy\\x03tX78_o2R7\\x1dʺR;*\\x13\\x08*Ιh\\x05,fY˨d\\x06M+cw\\x1fg\\x00u\\x02$xU\\t!\\x11\\x08ZצN,Y\\x1bU0/_zR7\\x1bD\\x12FB\\x1c\\\\Җ岅\\x1cY\"̆BSE\\x17C\\x01ҙ\\'6`(H\\x13k(9cbyy^6%U#]\\x7f輨f\\x03Ņ\\x16\\x1cM2H:\"&3\\x020\\x04si\\x15\\x02?k\\x19]bY`\\x0f70{]\"@`MKŋw/+kfRcAkOmQ\\x02F\\x1bWi\\x11=%^z,LQ\\x04KZ\\x01;\"\\\\?FCN\\x1bGaĂ\\x1dcuO8X\\x07dK\\x00\\t,%]*WCठ2?ĽL)0R7\\x1e1DAFfS\\x19\\x04\\x15\\\\\\x17^IY⡀|\"',\n",
       " 'Q:E\\x19Bԏփ3\\x01\"\\x7fvR$1\\x121oW$^#Iٓpw숦u@|X\\x1dA\\x1dM\\x15\\x06NZ2Z4\"',\n",
       " 'qN:X#n4pV\\x1f!\\x170\\x7f2O.Bz\\x12+H=@n^g\\x17ݛo\\x06\\x14|\\x16\\x08\\x10\\x1e;V\\x0b>N\\x03(f=W;DfYSfM6vVK\\x06\\x9d\\x1b?\";-ܨ\\x19淋g:\\x0cY\\x14%2E{S6\\x1aۉW\\x024>Qwܭ\\x19#!s\\\\\\x1aL:\\x05\\x1f\\x13Ȍfe\\x1b!N\\x01V[}&2\"',\n",
       " 'x5l:kfbuсX\\x1f%\\x10.Fޥ[Z/g꾎GZ|RA8{\"\\x06\\x08i\\x05O\"',\n",
       " 'YoUq:I\\x12\\x19*sVBօP\\tiVPOG6qA^?\")Sv)\\x18o\\x14U\\x08\\x03B\\x00\\x10@T\\x18\\x04d\\x04\\x14\\x1aխ#ti5(\\x1ag\\x15\\x067g䚋\\x0f\\x00\\x0e\\x05X~\\x03{0RP\\x10 \\x14\\\\!\\x1aU\\x97\\x051Y+V\\x19ĪX\\x0cj:\\x7f)\\x03ԕ[X\\x11nTb&X\\x17XhA$\\x14SرZsb\\x042e\\'\\x15N${\\x00\"',\n",
       " 'H賵w:o9W$^j\\x11=ܴ̑\\x1f\\x06q\"p`\"',\n",
       " 'l:N\\x1aU9;F7&\\x13FX9\\x1eZ\\xad%V\\x18ވ\\t\"KJ\\x1c\\x14=p\\x1fm6b\\x12^QM(\\x14\\x0c?\\x02kGC:E?U~\\x08|y&HF\\x10\\x01\\x16٭\\x03S\\x1ccX6͆6\\x05{\\x187bZmV,\\x1dk_\"1TSW?OO,o\\x1c@\\x02Ta*\\x01\\x19h\\x00\\x0c\\x10\\x12\\x12\"',\n",
       " 'I:c\\x0e[^1X-~î\\x18E9zqd\\x0ejSC\\x01h\\x18W!_\\x18Y]¬OۍR84]6\\x1dg\\x03\"w\\x185ru\\x1b\\x05CQCσ\\x10A4\\x14H%)H)3CRĠV.<4LuR->ADqlk~U+m*˿d\\'\\x0bm\\x19\\x08ۤH]\\x16~\\x12--\\x18+\"',\n",
       " 'gQ:u?Gn\\x1bm\\x05#\\x19\\'hbuq;m3>\\x08xD\\x02Ab/\"v()h\\x12\\x12(Skflp%L*,SaKu][F3xX^/8\\x11R*ۘgj\\x01(\\x0f`V:!\\x1aʉk\\x01m\\x0bp֣wp8h8hB{o7u$+\\x18r2dFsZ\\x11Xn{\\x0b\\tc\\x14!\"e):<\\x1d\\x02a\\x04Fn\\x16[\\x0e]+T_st>_B,DU\\x18\\'\\x1c\\'~\\x07\\x1c?v[}xg!\\x00!a#\"',\n",
       " 'i:Wf\"\\x01\\x05\\x01a/P\\x00˗NIXѽ\\x01}\\x1b\\x00e\\x11p\\x01C\\x07!\\x1aeABP\\x00i\"i5Yt\\x0f\\x7fHc\\x0b-\\x1f$h\\x1f1`[Ϩny?a_Z뒢\\x1azIĺ\\x04\\x0e\\x19<:\\x15W\\x08\\x18qhsu\\x05\\x0b@fSWp\\x18<\\x13KQrچ\\x17pD9ԋgN\\x1b\\x01)E\\x15^7G\\x191ʲP\\x08+9l>\\x0bzbK\\x1d5\\x0e\\x11\\t\\x14Zk\\u05ff\\x10\\x16\\x01J6\\x1b|xT8s˷]\\x17\\x1b\\x00w\\x15*HP\\x00\\x11\\x18\\x150@A\\x18\\x08\\x04\"',\n",
       " 'BIO:G!\\\\ݙ\\x01>5\\x16V$]\\' ^q\\'_\\x13ʵ$丛L\\tטMh/ \\x101\\x03k]qle[1I\\x13c\\x03YEO\\x1f\\x1e\\x1b3u0\\x00YA\\x00\\x10+~<x\\x05\\x0bʒ\\x0fuxjm]?KnBg\\x19m\\x15W\\x1cNo6:$\\x14O3^2\\x1cV0D2!88ٜ\\x18U\\t\\x1dGþK遞C\"Z)\\x11\\x16\\\\\\x0cB\\x13){\\x00\\\\H\\x00\\x120`\"',\n",
       " 'P:uHோG$BQ\\x15w\\x1fοF\\x01Z 1\\x04G\\x0cy\\x0f\"2DcUa\\tBT\\x0bl\\x10\"jN*us\\x1c)s\\x10|d\\x18kx\\x159h1;,q&!(.\\x11\\x11-s>os[Q\\x18 X$\\x17g\\x00\\x0c\\x13\\x18\\x1cFl\\x00B{\\x1aw\\x01\\x12I+\\x06EN\\x00U\\\\Lۈ\\x15ĩu±\\x00\\x01\\x03f\\x15˭R\\x17\\x1d\\x01AtuP_\\x7fLq;~\\x01\\x06\\x06\\x10\\x0b@\\x18\\x07{!\\x1aU\\x106\\x00\\x14zL@t:Z\\x1e\\\\\\x1bPH~+Y\\x0f\\x1dEO\\x0b(\\t\\x04n_{Τ4\\x139oht<`wb\\x1c2d\\x07}w=T/H_6CMZ$d\\x03y2\\t{X\\x0e\\x14,/ц$f\\x14MI$[@d\\x1b\\x01?ղ\\x19Cb<uoXQԫk\\x02p\\x02IpVIA\"',\n",
       " 'nH_v:mSL`h[\\x19B7<R/\\x1f\\x16~:eI\\x1d\\x16Dߤc\\x10\\x124Y* R%,}q0\\x08M\\x04\\x08?ľ2,#\\x17FzQ~sHh\\x04\\x04tCHx`ztRX{ \"]A\\x18.\\x04u\\x1dQٞtw\\x0c0/]\\x031ê{\\x15\\x12Þ+\\x1d\\x14\\x01\"{+Ĭ\\x13YUxGBԂ\\x013\\x00, \\x12\\x08%Jۯ\\x1dFZæW\\x00r\\x16ֈpk)\\x01\\x14\\x1f$Њ0t\\x00&lR\\x10h(\\x19ONźtJ/d@\\x03|4Nyg\"',\n",
       " '6ݪ:L\\'\\t`cȣKyzpaR\\x0c %(myU~^\\x0b\\\\G\\x13M曥\\x0c,~?I\\x14}xW6\\x02\\x169\\x07\\x10!Hr\\x1cs7O\\x03ÖtoM\\x19L\"@ (\\x1a٩\\x18\\x15Pn뤾\\x18^\\x12XL5!F+/zE\"',\n",
       " '6GK:J|7N18Z=h\\x1b=<c]~~V/#潞WVX(r+&j\\'}\\x04Ä( rv7Ϥ\"1\\x07l\\x1eIU7\\x089UZT\\x00rP/\"',\n",
       " 'OHl:FјJ\\x193\\x0e!\\x1aEa\\x01\\x08 $]L%N2\"ЁKQz(ه0\\t\\x13#\\t\\x12\\x05\\x0feo\\x0b!,<#q\\x0c\\u05cf,d5l!,ݱAxLlo~8&K\\x12h6\\x15X]d19|ߠގlMJs\\x191\\x1fMȘ\\x0e\\x14}\\x0ef åG\\x1bMi\\x19\\x1be\\x19iُkFAS^\\t>T6q\\x12\\x11\\x02\\x1ch4\\x19|\\'V\\x0eRD.x[A۵YO$\\x05a`jd~ШU\\'\\x16]v\\x1d\\x1e\\x084q\\x1eީ\\x10P\\x08\\x11i(ca*ʵwV6\\x00yu]\\x1e>+~^O\\x0cQe?\\x08j\"',\n",
       " 'ui:1Ԝ*P6&qM\\x0c:\\x03ڒ\\x00Eo\\x0f-~>,N\\x1e}\\x00\\x065Aa\\x18\\x7f\\x14Rx%NȶP}oM\\x02U,V(\\x03\\x07!\\x1aևc\\x01]v*Ҝp\\x16ŎN\\x1fW\\x05Mcة#\\x08\\x1fLb<XrhU5#Od2KEXS9\\x14qy.T[O\\x0c\\x11ԇߣΦm@m\\x03=|\\x1e+Mתʓ[𘜃ݣ -\"Fkz_ܑ儎\\\\\\x13Qk1e8\\x1e侄Y\\x0f|\\x16)mṣi[\\x04\\x14C\"\\x1e-r]}5\\x0b\"3j\\x07\\x101\\x0cê\\x04H\\x0c:R\\x19з8-Ro썚bB_\\x1eo2B$Hj&a]\\x07\\x14R\\x0e`~Ҿ\\x0f\\x1fv!\\x1au։aDKڴr\\x05&q*n2[[G9\\x0c$b*L\\x04xޛ0\\x03)߶㊱D+\\x11\\x1a5o\\x18?v24\\x0ehbs>\\x11t\\x17\\x19O\\x196%]{L\\x03p*$\\\\.2V\\x18nM:\\x13Ic\\x7f9|{s-g\\x1dq(\\x17oS掉5\\x7f~D9N)8骋%1۹wI\\x0c\\x0eH8tߪe\\x054\\x1a\\x1e<yԓA\\x13\\x1f}\\x04\\x1d|.1\\x07L\\x1f\\x14ɈdR\\x02#\\x7ffθjF%I]z\\x14ɋl18j(Hg\\x196\\x15z`DB\\x13e<?m\\x047ڃKbF{\\x08cɯB(k\\x02*\\x02\\x07\"',\n",
       " 'Cs:G!\\x0f9os-\\t~r\\x03IkcW$>\\x1e⅝|/\\x1di\\x0eBE[#WAf6D٫qdL1\\x05&n /\\x18C%<~%3~\\x1aM\\\\9|\"0.dme{\\x11\\x0fɫ\"',\n",
       " 'u0:T4tIХ4\\x10Y\\x12n\"jql)F\\x1a`ȝ\\x1egJmDbωi\\x06t߾{bQ\\x13\"',\n",
       " 'DN:Q2iqJ|\\'1=..돿>F8[]SIU\\x15}\":8t\\x07ts@\\x00\\x00wYH}\"',\n",
       " 'p:1\\x1fa\\x08d\\x12h\"\\x13E\\x12iEus#뇙~Ѱ7a,\\x180oD@a\\x12&D|\\x17)\\x19iWs13Gw\\x11Z8\\x14_ʻ\\'!2.^!\\x04\\x13]ee*::z\\x13\\x1auևt\\x7f\\x02E\\x7f6;9Ɍ\"l\\\\S\\x14rMA\\x10\\\\7\\x14/1պ-b\\x0bç\\x0b\\x0fZK\\' p6U_\\x0eu-?L1FW\\x18ӀƚQQRN\\x10\\x03g\\x1bA\\x1cӭ.\\x00\\x04\\x14\\x04Q\\txwGخ1U\"',\n",
       " '3:j\\x1b\\x170߲\\'dt,c\\x03[9%7;)4GXǵ\\x14\\x13qH\\x00~TM*e(2ހ1zu\\x07e! \\x07\\x1f\\x01\\x07a;ZӾOڸ;$`f!\\x1au4\"\\x12\\x1cdr\\x1a-Q\\x0f\\x03j}E(lGaHglY\\'*i8!\\x04|T7A$<y\\x02ֺ6cz#L\\\\1Ug\\tӼQFd(͉Y69\\x1fYY˹\\x17_\\x02OS\\x0fzb$-Ίe\\x0e\\x12\"',\n",
       " 'mbly:tjrÇho_mMV¯T@m\\x13榝E_Vm_\\x1c֬YY\\x16,v\\x108\\x19f0V%B.OVD\"sDR\\x01\\x06\\x1c\\x03[\"',\n",
       " 'j:nb.f%\\x15\\x7f\\x1bz\\x0fX\\x17,!/pJM\\x019҉\\x0e\\' :,!\\x0f,\"XtpO\\x08\\x02r\\x1c!\\x1a}a\\x01L8.8.\\x06%TFiy&tSBʤJ4\\x0c\\x07\\x16DA\\x1b鞚vAݞ\\x1aD\\x00\\x15%Q\\x03Tt\\t\\x14ߢ!\\x13\\u0380m\\x15=@CsWsQ\\\\ǜW6|jw\\x11\\x1cq\\x0e&}>XFQMg_\\x00\\x19ϊAӔl\\x03fy.A\\x12rfrħy&\\'nm\\x02FkEeZakLѴ:\\x1dJ\\t;tcrWc<\"',\n",
       " 'k:Dn\\x1cG9-\\x19|+N\\x0ci<\\x19Pi\\x7fy\\x139\\x00-&*(r+}ĢJ\\\\\\x07~P{n\\x7f? =۪2_\\x00?X)\\x1e<~\\\\%~\\x06\\\\\\x01!\\x1a]\\x03b!/\\\\Kj2L\\x0fQo]\\x14އ>\\x19*O<.\\x10$\\x1d-\\x17y[%Iwο]\\x16H)S^u\\'qX\\x01Þo\\x1b\\x0enI\\x11~̀\\x13s\\x0e.\\x07:qEzKnbL\\x18EOlʋJEFvgD=u3\\x04\\x13(6tA9p*N\\x1e&M:9NoUr%I\"jjQ[+٢\\x17\\x1e&\\ue58f3g\\x12\\x1a,:\\x16|@aO$l\\x1d8\\x1eւᤱ\\x00\\x1fk5\\'-\\'\\x15\\x7fu`{$m^B\"',\n",
       " 'ONJ:z\\x13qs*/a|c\\x1dPg!\\x08\\x15jó\\x01=g\\x1eA\"j@^epP\\tiUP*n$U)6wOY2ȱH/f$;\\x0e.\\x1bS\\x1e\\x12vHJ2Y\\x0e`\\x0506\\x00J5\\'&ǴlWC\\x14\"9\\x14X cl7/w=S\\x00\\x18\\x19ʋ$\\x1euB]\\x07o] :T\\x0e\\x10\\x1eO\\x05\\'\\x13C\\x19q>9IM@\\x12??}P \\x1c\\x17PPЩT\\x1d!\\x1auΠ\\'P\\x1c\\x00]j^/K$TF|N\\x01\\x0c@\\x19\\x13_\"',\n",
       " 'k:M\\x1aц\\x15VؽmM?{w\\x0b\"\\x06\\'Oiߴ;\\x11ɾ83>ܴi\\x08=WPV\\x12X\\\\\\x08Z\"',\n",
       " '7eoIV3:T\\x7f^ƷJv\\x05\\x15\\x14L5h}\"whg1gf\\x0eL\\'\\x0e݈BPq\\x00\\x0baL\\x1e\\x7f\\x19\\x16>Ë;$\\x0e@V+I\\x02kh\"/m\\x1b#\"',\n",
       " 'H:R4Pޝ&c\\x15ES hUfXȖژ;(-9\\x1c\\x00b2Ǩ\\';7\\x13l\\x1dKx\\x13 ³\\x1b\\x00\\x08_\\x0f1\\x1cH\"\\x10TJzQH\\x10\\x15\\x15\"C)C=AB0@v\\'9\\x01A0H1A\\x00\\x0b.\\x0b4:F\\x02\\'S@\\x19y\\x04\\x00\\x1fz\\x7fJJs\\x02_\\teQolSI\\x1dQ}\\x02]n\\t;]Ow\\x18J@xJA\\x04M\\x7fbPhQ\\\\3l5wy3;t!\\x1aeƋ\\x05a@XB#}X:\\x14j\\x0b*\"',\n",
       " 'jkR:2ҪSs-hfP\\x00GdA\\x00x_\\x10\\x03Co\\x1c+=~ߏ\\x08q4iJ3uOiݡc>h.!\\x1aM\\x03\"\\x19n~TL\\\\@п\\x10\\x0bD\\x03-\"',\n",
       " 'V:KԘMF39ߘ\"3<~+R\\x12\\x1e\\x7fb~?\\x14J\\x02v\\x1dI0\\x1d\\u05ecyc)w\\t#%\\x192\\x06Q\\x01C-\\x1b8A\\x17^^ǯu:\\x0f\\x0c<\\x1ctxvPz!\\x1auҏaS^ۮ%BHT\\x190VK\"',\n",
       " '7:1\\x1e#\\'&!o]EPȶ+Tњ\\x1e\\x14ه\\x14+DT8&А:I*\\x0cs.!?qs-8k.G\\x07z\\x0fy\\x0c\\x1f]\\x15J]0;(wny73& b;\\x07\\x06\\x07+|TM&0<R\\x02qYսt)492\"\\x18y}Rȇ%،!f\\x05\\x7f\\x1f;Q\\x0f\\x02΅\"',\n",
       " '6:8>Y\\'%jJyDBx\\x00u1\\x06`vr\"%\\x05s\\x04}q>\"qcC5/._i#~@\\x1dʽa)\\x14jkB)\\x1eo\\x1a>o;\\x12>fW;PgI\\x13\\x18dƇ`ES*m\\x0e\\'\\x14[\\x17`.F<L+hKdP=?\\x0c\\x05f\\x0f\\x05VE\\x155\\x05G%bj@Ѣk,ޕ\\x7f4yIqZx;IGmQ[O]|wm\\x7fhY\\\\\\x17@e:q||\\x11{\"',\n",
       " 'z:K\\x1f3S# \\x00\\x7fz\\\\rpe91Y\"{\\x7f\\x1azպ\\x1e\\x19$.D\"',\n",
       " 'V:v\\x1aΫ\\x1e,A6TZMNe%wT3?yD\\x13vlV\\x0c`!>-g*\\x0b|Bu/tF\\x16\\x18kD͕LH5jSU`\\x024,?UrJLP\\x1e\"bv\\x05{=\\x01\\x18<~&RlyD*N*!!a\\x14QDC&I?cr\\x0c\\x1f\\x17d:8ï20E\\x1d.\\x0c\\t\\x00\\x007gv:SwŸiĽ\\x1b=b\\t>r\\t9\"/)\\x0e\\\\?!\\x1aU\\x03\"',\n",
       " 's:fe\\x0f=\">\"',\n",
       " 'Jq:bf\\x05r\\x17\\x0e\\\\VʪqR\\x7f\\x1d꙲\\x1dDdۥ\\x0e6}/~rо\\x15_\\x1eP*x롸aO:㺯\\\\/q^;^ƷQwv_9j0R\\x00Vy\\x1c@A\\x1b\\x1e6p\",osmk\\x0cM\\x1e\\\\\\x0c\\tGsϢ}T9:\\x19\\x06u%_0W\\x7f\\t\\x142N\\x1fB\\x044\\x1c\\x02!\\x1a}އdXh@s-p\\x1c\\x12\\x0b\\x1a]\\x03~rY9:<\\x1a78|\\x15&@WD;/jvdŘQ\\x0cnT-\\x01\\t#nHR\\x1d>V9!>z\"',\n",
       " 'AL:FfK\\x1c\\x060V\\x1dj\\x1dF -a8)\\x1f\\u07b3\\x1aq\\x01\\x17Sdu\\x00\\x00`\\x0bҢ=@\\x04\\x1dL\\x03AЄ6\\x10 F\\x06\\x08\" SA&wEFۘ>vk\\x07~([Ae$8z\\x08\\x00$\\x7f\\x0bͭNjlʈ\\x15a\\x1eMr\"',\n",
       " 'A:e=F-O㻼\\x18\\x14So7uD4\\x16{r\\x13\\x05ݚ;\\x19J_lhy\\u07bdի\\x08nܥN\"(\\x06\\x134Md\\x15\\x14η\\x1a\\U000a8105\"',\n",
       " 'S:n\\x08?z\\x05Or\\x00uN#a@\\x03|j\\x08\\x13\\x18̃+a~(>`I0Rަ\\x04JT5=\\x05\\x0cm\\'1R\\tV>k\\x1dhH)Gh:m8O}AVo=k\\'0]<\\x14Fh#-,˿`]\\x1cګ\\x0cLYG\\x01RE؏ppC2_\\x03e\\x06r9\\x05VeNN\\x1eUJ\\\\7\\x05T\\x078\\x18pBo\\x15Ӫ$`PҩHt\\x06\\x7f4Ds33!\\x18f53\\'\\x13\\x17<tK\\x18T*:?\\x05\\x1b_Ara\\t8\\x05\\x0ez/.T7<&e?\\x03\\x1c{c\\x06}*\\x7f#\\x187\\x08\\x7f\\x08=BbBJW\\x1ax$Ao]\\x14\\x16X\\\\h+Zr\"2y\\x02\\x1b0\\x02JH**\"f;#c|UT\\x0bN\\x15\\x0c\\x0f,-\\x192\\x19\\x08\\x19ǋ\\x05Ce\\x16|i\\x0bm\"\"',\n",
       " 'zQR:mS#\\x0f\\x17CY/A߀=ud3ޓ78o\\x10\\x15E\\x0b;b(\\x1dݪ勺\\x02;DN\\x03Ja1\\t0#9^\\\\zHGH\"\\x00ѬM\\x1fr\\x1fvu\\x169IeV>\\x18u\\x16ăud\\x18]((鐯\"v\"',\n",
       " '40:lnm8\\\\k\\'(52\\x00IVڙ]\\x02\"09p\\x19\\x1c,:u\"',\n",
       " '8AgBE:6o\\\\\";%qq\"nR\\x1caGϣCIӦ\\x0c}f\\x00f`0 \\x14b\\x03Y\\x19рR@XK\\x18T:v(J\\x10)$0(@[(\\x11?{\\x00;>\\x06˦\\x12?\\x1f!\\x1au\\x03bب@r\\x196O\\x06uo\\x19cygg$\\x7fL\\x0ca\\x0eG!\\x1b172v\\',n\\x14(M؉Y*\\x15\"\\x1b\\x18thTqű/\\x1d&tہ{3\\x07(Ʊنl]\\tv=9t\\u0530\\x12{ݫaN&sδ3\\x02&\\x13|#VeR3dA=;S\\x1eHR\\u05904\"\"',\n",
       " 'ܣƷ:KUTz9\\x00qk\")E%\\x04>e\\x00!?!\\x1a409ތ^G\\x15%qn\\x1an[W\\x1d\\x17ˑ\\x06i2xiveP\\\\;v\\x06ɥ+ZD\\x15\\x08t\\x1bMu:v\"m_,m\\x0bFM,\\x1crrQ\\x04R]\\x04 Z$_tץ~ՅPok\"',\n",
       " 'fa:7T:YLFx|ÿ~}>\\x1eɮK:\\'̅{0:\\x1d:p/fhmѾ!.\\x10sO8a+lö\\x1dh\\x0eYq+%f6K7AӦ\\x10袋r3?Fݟ\\x0b\\x07!\\x1amaXh6\\x1a\\x18\\x1c\\x19\\x15ڴВE\\\\|\\x04Spr\"\\x18\\t5䩰\\x0fE]G\\x12q%H%\\x0e?I\\x12\\x1a\\x1eT\\x06t\\x17\\x07<2 \\x04b`?//#6GY>\\x02[y|bC\\x17\\x05ޒzGbY\\x1ez\\x1dN\"',\n",
       " 'J:OI\\t7c\\u0383bO\\x01qClJ\\x00\\x1f;CP? c鯾\\x10:\\x10\\x04ocOЄ\\x10b\\x12\\x1fX\\x0fK\\x08iuMfkp6l\\x1ec\\x1cuJYt\\x1af\\x04^6j56e+e3E.燇-\"<\\x0fq\\x04\\x02a=M0*.s\\x7fY),揧Uw\\x06e\\x0ce\\x07r0}ZR\\x05\\x1fg9\\x03#1\"',\n",
       " 'כMn:W\\x17\\x14vC?\\x17\\x07c\\x7f}m?-3!k7-\\x01+ڴ0\\u05f5n:Lb^aq\\x10մ*Fsk\\x1d(+\\x12.ztdwZ\\x1d(J\\x7fch\\x02~JEIgs\\x060|\\x06\\x03@\\x0f\\x0e!\\x1amޏ\\x01\\x01H^\\\\U/zL\\x1b\\x14\\x1d\\\\\\x02$\\x0b𓀜&*Fsr||\\x1f:F~=\\x19\\x1eƦt:.̘VF ̡_Wں7y=?δ/>\\x1f?E,\\x05v8h͈GJ\\x18G-Ӹ\\'\\x13Zv\\x1b[\\tVp4x\\x03e\\x0eU\\x1f4\\x1bD\\'_w~K_>\\\\h\\x1d琯k\\t>2x~iz3\\x0e\\x00\\x17+T&;\\\\\\x7fNsu\\x10ˁnIӴ\\x04Qq58-29T\\x06Zg>\\x1e\\x1b\\x03kdQ\\x1c\\x1d{4Bb\\x14{a\\x056k;ncc\\x18Zjl\\x02x6xdT\\x1c\\x1d\\x14QE\\x14\\x08>Z;\\x07!\\x1aډe\\x10\\x126\\x00ڬ馒j\\x03<c~k:\\x00c˧\\x1fI_&6\\x7fT\\x00eH6\"c9#\\x08\\x0c\\x1cbIy\\x08.M\"',\n",
       " 'X:c)PEu׳h\\x01^X-@י?yyA\"\\x12&\\x1c_\\x07fL:7t:c}\\x19\"',\n",
       " 'wr:st~:%\\x0b_\\x01{ۭ\\t\\x06[sv_u~\\x05Υ#.2ޣI[K\\x10m#Mcp:I\\x1a\\x1eG>\\x1a?.\\x1c0J0\\x14ip\\x1c&FD#G\\x00Zi\\x1c`Eì|Prt\\x1a.6W(Z%>\\x7f`ǀ\\x0cO8JLEKEu7E\\x1cF\"L\\x1cD7|\\x07\\x1e͑\\x1dVKՑ>zs8d\\x10\\x15;rG0yccVXԓY\\x1d.Kz$cz%E&6\"',\n",
       " '3:FAjĎ\\'[\\x17\\x05(n\\x063\\x19>~\\x1fԝ_\\x19\"\"\\x16vsk7vi\\x0b.`\\x1dGZ^2\\x12Y/rl\\x1fRBIP1MX5\\x08\\x15SZj\"',\n",
       " '6S:V{\\x19\\x1eK\\x1e\\'|d,\"Jd\\x19i\\\\\\x14Ct_,gJMW\\x1erpw\\'\\x02vE0>:̹R!̅\\x106\\x16\\x06\\x0e \\x01C\\x07g=5.kqJ$y\\x0c\\x1a\\x04y\\x1c^ِ\\t\\x1d)e<\"',\n",
       " 'qL:g zq\"\\x1e&g\\x15\\x18Kd!%-JJO\\x0fo^|QG9,A\\x01].Ð\\x01!\\x1am\\x14+\\x10\\x1d;\\x08\\x045\\\\\\x07pMȱ{A$%òMqT\\x0b+k\\x12& X8dM\\x12pkN ا-ڋԄD>\\\\6ȳ.J\\x00\\x04^p5l\\x1f\\x06y$Hz6=\\\\G(˧7wē]\\x18f_)^t\\x14:6a.\\x0eW\\u0378jSO:SHSL\\x1d{=*G5ߣC?Wg\\x0e\\x03|\\x10;\\x0bO\\x1b\\x1d\\x0eohu[%>\\x1ftlSWB!2a-@1*Fd\\x1dDi\\x03>\\'2rU\\x7fϘLF\\x16.Pm#\\x10ly\\x0f\\x0f<Zw4c\\x0e`\\x13s&\\x1a.\\x1e˂Go$m[V v?;\\tq3缥/bg$\\\\\\x10jv+y!\\x1at=yU![\\x18\\x10.\\x00 c\\x00 dr\\x00Nw(@\\x00nX;\\x07tݠ\\x1e])\\x00\\x0bUnM?_\\x1a\\x1e9Kv\\x07ei/:k\\x16ZU\\x17<Zm^%zc\\x06kiG挣ų\\x0c^D[[2ENUwl\\x07{7:a~\\x16g;sKVpa\\x1cF,L\\x7fv*FG3b{3\\x0fqY#q\\x0f4ʇ?\\'Ϣ{IH\\x1cGD-k\\'VR-q\\x15j\"',\n",
       " 'V:4V5\\t\\x17l2=ktK*w\\x7fү]\"h\\x17i7\\x05%j\\x0b-Ckӕ\\x1e_\\x1c}\\x1e01H}N獘\\x01\\x1bf\\x01PL\\x10P\\x04\\x01\\x08I\\tu\\x10g?\\x1f\\x1etGI#\\x006\\x10\\x08!\\x1aM\\u038ba\\tae\\x14\\x0c\\\\9L-b\\x0fd[\"',\n",
       " 'm39s:u6\\x1f\\x06c7\\u07baII5N \\x0cў F<\\tD)erN֬7$s#*\\x16^T[}-eS^\\x02Əcjxʘϗ\\x1b\\x04)u\\\\լe\\x18mnco6F\\x0btQ@f\\x10\\x01(\\x0c\\x0cr\\x0b84Ǫz/V$&@\\x00\\x00\\x06)^\\x13li\\\\3n\\x12\"YB%\\x06m\\x05BQՠQ\\x08\\x0cH\\x00H\\x06Wz\\x04Dh\\x15rx\"',\n",
       " 'v:dl:];C%\\x005к\\x04!1\\'\"}~.I\\x1c\\x0comPUfIY\\x13hxx-`E7Ԣ?bǃY8z\\x1d\\x06`\\t҆ހ0`wp>U\\x02.\\x13_w^sA\"',\n",
       " 'y:F.\\x1dqƆ_j2?\"is[oYmMt\\x0cdbh@f/>!\\x1c7FIەVD$\\x05Ü\\x055\\x7f诛Z\\x15;҇TUԮiM,\"',\n",
       " 'PuS:NB\\x00Խv~ynZ-b\\x1aի\\x0c12}KK˟\\x1dHB|\\tX\\x1eu\\'m\\x0eҬ\\x0b\\x08\\\\-\\x0460y\\x06tThj]\\x11U\\x06\\x06JfTd(}\\x05<@|oġ|\\x1aB蓕tPi>>lwL\\x04!](:(((\\x1a\\x0e\\t@Ct\\x0b`\\x05Q潑x\\x19$f<\\x1f\\x1cgږ\\x07!\\x1aEbҁhkz\"L\\x17@%\\x17e\\x11\\x12]\"',\n",
       " 'TKlf:f\\x1dkb64\"mU>n]8[J\\x07N:ގSqyn\"\\x11ɯ%5QRʧ\\x0f8\\x00\\x00\\x07T,S2\\x13<!\\x1aʋb p!\\x1eŋβҮ\\x0f@~+;\\x02\\t\\x1c.j\\x13\\x06}-f\\x1e\\x06DtJ1\\x07\\x1a_z\\\\-\\x0cAO!\\x19Y65MaZ\\x16֪\\x04)~9,Fs0\\x1b\"',\n",
       " '6:1Fm#rFGZ*çuO@\"?佀ԅ\\x0e\\x13\\x0fHwb\\x1eּ=\\x1f4gd<^\\x08o\\x16HN\\x05rpxٶ_T<zu\\x18\\x01JڑCNպ*\"',\n",
       " 'Ic9T:9c>D{\\x14q<F\\x07>oz̳\\x1d>oQ@?]9.\\x04os[\\x0eϡvN\\x0bp\\x06M|\\x01eA:V25v|D\\x19V\\x13{\\x17\\x1f˰\\x1fK(Krۓ\\x1ed\\x18\\x13\\x06v`\\x04>Kbn\\x08\\x0e ߘjD0ed4CRt\\x08\\x17\\x06Ao,5m8:ű\\x18\\x06\\x171\\x19\\\\\\x19w-\\x7f\\x07t,QE9HJ_ۂt\\x14(<\\x08\\x1b\\x12\\x00\\x1e\\x7f\\u0380f!韜\\x04\\\\7sT&\"]<\\x03\\x07!\\x1a!\\x02\\x08\\x03AGD]%{\\x06oĝ/Dmh\\tI\\x1b4Y\\x05(6qaI~.\\x1dy\\x0fLtUn\\x02DK19:S\\x12\"',\n",
       " '_:aZޑ4nhT*-\\x0f4t\\x19A楺3\"Ë4\\x18rN.\\x1f\\x05ޑ\\x7f\\\\3\\x0e\\x12`099+\\x02\\x14oU-\\x1as_-`\\u06032uaQ:\\x132#@\\x07p\\x0e>UG\\x00#y\\x08\"l3\\x19{?Y;(\"',\n",
       " 'C5:5\\x03zޙm@gZ|U)rFTGOL\\x1fm+H3pN\\x1c\\x1f\\x1cX糣zwmOn\"\\x0cyf\\'D=\"',\n",
       " 'OxJЪj:AtyHor\\x19G`5mI\\x17<=7\"\\x19\\\\A_k\\x19Gq\".6tt\\x00\\x00hA\\x00I?\\x7f}^!\\x1ambhV\\x109\\x0f\\x14p\\x1b\\x12j\\x1dZ0N\"',\n",
       " 'e:iR\\x19ҙyot\\x17\\x1cXkgo\\x18~*r9L0\\x0f\\x0b\\x00\\x00\\t\\t\\x1b$`\\x1bN#wd/!\\x1a4\\x1b\\x10\\x14D  &Z]q\\x0fJb j\\x1erDX\\x1b$u2ɅQim{\\x1d\\x1b\\x0c\\x138Uhؐ\\x1aC8+H\\x04\\x07\\x1e\"<\\x19wFH¿Maz5;_ \\x7f\\x0f\\x1d\\x13w\\x03\\x08y\\x18<\"',\n",
       " 'q:IzZT\\x0cF\\x06#e%;\\x0fnĴ\\x198\\x1d;A\"\\x00\\t\\x05%>e\\x00\\x01FX!\\x1amҋaXw(\"',\n",
       " 'Gt:t<j\\U0002efd1\\x1by\\x1d_Pd5?j?\\x16\\x1c*\\x03A\\x0c4`Q\\x0cZe`:r.\\x00\\x0cw:F`4o}3m\\x19+({9X\\x00\\x04\\x01-gKb\\x0b=R\\x18$yTԏ9.\\'eT\\x05i\\x15?7\\x00\\x12`SX\\x01{\\x11\\x0f\\x00H{p!\\x1aa\\x03{\\x1aԵ\\x12h\\x1b\"\\x17:7~A,|\\x7fր$a%\\x179#\"',\n",
       " 'MJw:7r\\x016w\\x19>\\x17q\\x17=7;by\\x11qm%>1r\"0|><;\"',\n",
       " '9:C=&\\'㿓\\x19\\x1a\\x037^o!Y\\x17v~\\x0f\\x07&)\\x154#\\x00H9Cr\\x03HO>!\\x1ae40:}P:hlG\\x1a#;|K%>hmCH4s5_o̘o,~\\x0el\\x12,ACJ\\x04\\x02\\x11\\x03\\x0bQ1&d^$ckd\\x1a;I\\x14Qx8\\x0c\\x1d\\x1df\\x1aS&\\x7f jP\\x1c\\'\\x111t]+\\x127\\x15\\x1fq[H\\x1bR/\\x16j}\\x1busn<510ֿK<Gj\\x15y\\x01d\\x1549\\x0b}D\\x7f\"n\\x0c!Ʊva@\\x12!~\\x13g:l\\x0b|7Q(PBM\\x02\\x02)EMM@)Jo4\\x18ֺea!]\\x0b:\\x05Q\\x1ek\\x030\\x05\\x0cPeX[\\x1d0`v\\x17\\x0fW.$ٹg1E\\x14QP\\x01f\\x00K_q\"!\\x1aeP\\x1b\\x08\\x1d\\x06\\x05ԭhk*pM#Ya6(՞i)kM\\x16;,+xWo,::@-\\x110i\\x13*[\"',\n",
       " 'Jn:F/%,vYȃ\\x05c\\x00Fqm-\\x1e|%8$g\\x1c\\x1e9{t\\x1aRmC&\\x177[\\x019[\\x05\\x0cQ|\\x07g0n8\"W}\\x04]\\x1d#6\\x9eT\\x01!D\\x0f\\x04OA-!\\x1amch@qC;yBWK\\\\\\t2,G\\x00NHR58Pg~@\\x06\"',\n",
       " 'Q:S9[\\x08\\x14\\x17qYza,5\\x13yxKecӮwdnfR\"b\\x16qdYMarG4)#5uɻ\\x10@\\'~f%y\\x1d8sE\\x12F\\x0cwzS\\x0b(\\x1aÒ\\x12=\\x1e9\\U000f3e46aS\\x7f`c\\x1aBG3Exh1Ǒ\\x11\\x05v;DSx\"',\n",
       " '9:c{\"Qj\\x0bN{\\x19ƙkN:I\\x7f,x-Emb\\x0fE\\x00eyS$x[U\\x19K+n]_\\x10z\\x19qRW]{\\x1a\"\\x1cNjaQSڶW6gS\\x04\\x0c\\'C$ݤIA%U\\tL^#XR<ŭWӎ\\x13d;\\u07b9\\x0f\\x02\\x06?oug/[舒\\x7f`s\\x1aI\"Y;5|Uѡ\\x05G9j&\"',\n",
       " 'v:4ZM\\u0381n\\x04/Hu/Y\\t\\x14\\x04~kZ\\x1amgLƅ2۾\\x119HM948\\x15#\\x03$\\x11%\\x11h\\x04)\\x04#\\x10(F\\x00p\\x07L!S \\x1e8coT;߯w\\x7f:\\x0e\\x1cA?|\\x08vyU8\\x00VAD!\\x1aU\\x03@Q\\x12<\\x05\\x06Z&ITh9\\x182Y\\x0b\\x0c潇\\x04I~\\x0f\\x070nO\\x7f\\x107VKu>\\x13xeT}bɒ\\x1a\\x1fsr\\'6\\x1dO\\x0fHOkHlSƂ#\\x07\\x14V#3A{\\x16L\\x11c\"Tn\\x1a`d\\x16<\\x08ѐ]Y\\x11\\x00X\\x062V)b\\x16(>zZ\\x1cX\"',\n",
       " '6:L\\x12z)tȭ d\\x10ͻ|&̳OP\\x1e\\x03\"h\"',\n",
       " '8:gTV\\x1bT\\'dlW\\x08Q]7eHsG0OG>XN<Yѷh\\x0c\\x118kG8gQ`\\x18KcGL1!t?z:DҔ_\"\\x1e|O9\\x1a\\x06rb\\x0b$ri\\x11ӷ2jvF\"',\n",
       " '5WK:9ɺ7\\x10ظ\\\\\\x05N5R%XVi[>l̥FF\\x12\\x1eP\\x19\\x1c#\\x14=>\\x1f\\x18\"\\x19\\x07l!zmȬt)\\x06}\\x0b,].!z\\x07V`\\x0f\\\\Bt:)r\\x11ysβ˶.,;_&\\x13IG\\x14?\\x19<lhVGY:W\\x19A\\x11%dLL\\x02~ް+/T\\\\6`8\\u074bh%r\\x1b8Z\\x037\\x14]\"',\n",
       " '5:Fa\\'kVaپzܭĕ(\\\\i\\x0b\\x15Za$L(qíU\\x13ˆdoUzB\\x00\\x0fxX\\x19ƥXRek\\x1e;\\x16t@T\\x15\\x1e\\x0eib]\\x0fCF]]fPc\\x02\\x19\\x18\\x05㫡~$\"9\\x1f2E\\x06:!\\x1aMΑaT q\\x0f>#㳻Z%T˽S`7I湜6`k\"',\n",
       " 'JN:OD\\x1b=~[W\\x18fnsãK-\\x1e:`\\x0cCMc\\x05\\x07rRVVK7<lh\\x119\\x1f]\\x01UR/(P^b\\x11f8à\\x112)\\x14K-so3s$G\"҈AI0y\"',\n",
       " 'Ol:PD!\\x1au\\x03d\\x10 6c(#[-Ǟ!$;\\x00\\x00\\x0eE\\x05?UKm#\\'(Fi\\x1dW̜\\x13tDߘ_?\\x00/GynnfX+q-=Yu\\x0c2ud귐H?)Aw<|ބ>|\\x0bt4{D\\x14\\x1cR\\x03\\x7fig\\x18\\x18v)\\x11ro/!x9\\x0f\\x0b}F%~\\u07fc\\x067\\tc~B$YJNLz\\x17\". \\x10u\\x1c\\x04f\\x07ތşڧN\\x1aE#s-\\x07\\x1enٽ\\\\\\x19ԣuΛ-NB\\\\mnjZrN`얲5}sr\\x06o`\\x06%ӭ\\x12![C\\x11gGH<Ϩ\\x0bjy*#6o`Iq1U\\x1e\\x1c#w}\\x0e\\x16r`\\x19F0V\\x10\\x0e\\x00Յ\\x00\\x00\\x0eq\\x15f|P@wFJ^́Sz+\\x01B9\\x7fH\\x15e\\x03sй+\\x1f\\x0e˕jc=\"',\n",
       " 'kMY7V:JaaZ}glC3}\\x0bCTs\\x08ė1WL[:-t\\x12\\x19\\x1aŵzWszqX3>r6KN9w\\x00ho\\x06\\x03Y?\\x03)nDZ\\x08;(L2yo\\x04\\x1b\\x0clwPZ4\"\\x13\\x0c\\x11|\\x0c+K>[\\t\\x08lN\\x10\\x15!\\x01|4\\x08\\x05$D\\x13N{5&T@\"',\n",
       " 't:CsO>!\\x1a}ډbX~=7q5ή\"Ȋ\\\\ڗU\\x14z{]:B\\x1e(XT8\\x1ad[@d\\u07b9hHS\\x0c,v\\x1e\\x19Wc\"ĥ\\x1c(38T}h\\':\\x0ehKX\\x1dUU5{\\x1d㡸vM3q#\\x00RiW\\'\\x1d!9?B\\x19<Y\\x040Bx)Y\\x1aL\\x1f`\\t1\\x0fA\\\\=g\"(\\x16\\x1b\\x1b\\x1b\\x0eX\\x08#?\\x1e1Z\\x17>7W<>Í\\x076W쟌3gZVE.ߐt_N\\x1cgD\\x1cF6U$KZ);!qH,e2F$ѶYm\\x1b\\x0bM2\\'k\\x0c\\x14|\\x05\\x1f^\\\\\\x03r\\x11J\\x08|\\x1f:)x!\\x1a\\x1d֕d\\x03ӑvQ(\\x0b\\x01.y!rb@\\x13&\\x1eEF84\"',\n",
       " 'DC:VVLAfɬ0#~k+#\\x10E۩jImO=`\\x02$<#%\\x03,PeR\\x05\"8,\\x07y\\t㬇JQ*E:Y\\x07G\\x12\\x01k;u\\x19R\\x11f-m\\tP\\x02\\x16\\x02A\\x08A\\x0c<\\x00;>Y_!w!\\x1aEe`T\\x10 \\\\7:\"',\n",
       " '2:Edd\\x1e\\x0b\\x1c9J̩\\x1f/<{fh#\"WIǥ\\x0e\\x0fxGH/\"',\n",
       " 'q:mɩ<4W\\x1907\\x1e\\x15Sjlg\\x15Q\\x0e\"hZf\\\\\\x03_W\\x7f}Y\\x18\\x11{MqHAk=\"',\n",
       " 'G:ugؿ\\x87\\x01OaԇZR2#8ȰĒ(E,fL \\x00N$vТG?\\x01zj\\x10nG=Ǹ\\x10M=Π\\x00h\\x00\\x00\\x03\\x012ԿH\\x1b\\x15Kl/S\\x05\\u05f9Pm]J\\x0cI%1l\\x12\\x02^\\x0cǁ\\x06\\x1bMȵWce\\x06q݅e\\x12~\\x16c\"?\\x08`\\t\\x03a\\x11skJ\\x03 _7hRCbl6T\"',\n",
       " 'bT:5]\\x1f9\\x17q\\x02\\\\\\x00RGI\\x11\\x01\\x06[\\x1aKW`\\x1bH\\x1b GKސw\\x00:Y%z\\x08$[\\x0f\\'TA\"\\x04!{KL\\x14\\x7f&x\"K\"',\n",
       " 'wHW:N\\x0c\\u038d\\x11%\\x1bI7]N/]a@_pD\\x7f\\x02*֏LeN\\x1b\\x15:l\\x1e\\\\ƺc@\"v\\x13KkrpG*\\x7fOJ*Tf}  _\\x13^\\x0ca\\x1eTv/i}Jj \\x17\\x06Oq*ފ_ʾ>z~<#/槭9zG9\\x05Œø\\x0b\\x0b\\ue7ed2m\\x1e\\x06%S)\\x04z۟O\\x0c\\x14E[\\x19\\x1d\\x0e_\\x154:j|s\\'}}RxifgQQ)i˼%\\x1bwvh\\x15hZ_O%,}˛ulo\\x17\\x0b|\\x06\\x19Ta\\x0fH\\x1byhv\\x15q7IL\\x11\\x19Ma8iL\\x12a\\x08ZGt-8\\x01\\x05L,\\x08e33&?/\\x06tW\\x00\\x1cexl_i(\\x12%]t\\x11dWDG>4_Ay\\x0bSUI\\x11+)W\\x11X{e.\\x18=\\x07 G\\x03t>\\x1an\\x18&\\x00r5Y\\x02-ͅX\\x10 ?)GA3\\x08iǠ\\x13e\\x19 \\x1c\\x13Jf?\\x14\\x17?eBٗ=);uM+\\x1a ݄\\x1cQfu\"',\n",
       " '9:7B,&PLI\\x1db`pƘ\\x08R9!~dʶfREfHa28\\tī:Q-\\x07\\x0fXz3\\x1f\"K\\x19\\ue76avAt\"',\n",
       " 'w:7s\\x117z1φ\\x17S(dc]\"\\x1e\\x07c劗(sf_ubk\\x1a\\x02Q=˄A\\x10\\x07=Π*\\x1eu߰\\x13\\\\M$\\x12\\x1d \\x1bvL\\x18Y=7\\x1d!>[[\\x07\\ue992̡V\\x0fNw]\\t?AB\\x1d-F!`{\\x1dV\\x04bxMKMj\\x1fX%\\x10}_W\\ueb7a\\x0e#8\\x06Ky俶`\\x106ʷnb$}3uucm\\x12\\x06)i\\x03Ih\\x15J1\\x07\\x08\\x01s{\\x0e~\\x18\\x078<Ϲ7%U\\x12u0\\x1d\\x7f88\\\\3\\x7fS\\x04\\x1du\\x00\\x0cd5O{idFꁾ*5VeIїō谔I>\"',\n",
       " 'M8:G\\x191u3\\x13\\x03\\x1b\\x1c7%r0_C^\\x0ex\\x1cRHNc\\x08B\"HXTvDo=oWLYJz]S{[r1AIax|=LW,eg\\x1cq\\x1c\\x1c\"',\n",
       " 'AsQP:h\\x04\\\\\\x11\\x08t}[\\x02.ׄBOfS@\\x01S;ٻ #l\"F\"\\x13\\x01rsC;Y73V\\x00{G&B2ajӖ\\x05\\x05\\x13 \\x1a\\\\9vv}P623]Qk\\x1c!dps\\x1eI\\x19M\\x1cn\\tg\\x17|\\x16_ \\x0f=g\"',\n",
       " 'W:Smx18@\\x0f1\\x19+KYY\"DLC݀\\x03\\x19`3%\\x18\\x05\\x03[kt[}.(H\\x13\\x0bϊܙM\\x04ʚQ /\"$a4)\\x03v)M\"',\n",
       " 'O:py\\x13\\x07jy\\x1b>*{k$xdyI(ɾK\\x17G\"\\x7f3힑<X\\tO\\x1e\"yoIe䏽֒\\x129q\\x0f\\x1e]D@\\x0c\\'\\x15+\"',\n",
       " 'ߠ:cQ\\x0flo\\x19\\x1dq?\"{\\x1d&n?.X~[\\x18\\x07\\x1dj\\x06]7@]\\x00\\x00\\x00\\x01LT\\x10Eu\\x7f:\\x01\\t\\x0f%E/Us83\\t\\x0beN\\x08#\\x108C?I\\x16;(^g5\\uf3fc{wN,3*b\\\\rɾaipV\\x0c3`BnaO\\x1fo^Bӏ \\x13Z\\x13\\'\\x1et\\x15~\\x1fQ4\\x07\\x0427\"',\n",
       " 'KK:lUe\\\\<t\\x06m{\\x1f\\x18\\\\ܧҒRYVvAn,\\x1b\\x18ύ\\x0b\\x12cj?tOB[pEt\\x19=.^p1|3{AƓU\\x14*42Ʌas$G\\x17U$ǜQYHL_Hܺ^\\x11z [^\"\\x03@ԡq%\\uf05c\\x0eA1\\x10|8}X\\\\\\u0590\\x06X\\t\\x16|M#\\x7fJ\\x04{ڦ\\'|Q\\x11\\x7f\\x03O\\x10Oa\\x02\\x0cU\\x10.\\x16\\uea6cmA\\x0fkI*R\\x1bU}=kYȅ7ܵ\\x1d5\\'US\\x18eY4\\x02KM7I\\x1e!l\"\\x7f\\x00aA&\\x19@9<!\"',\n",
       " 'G:By\\x0eEklſ2B\\x1b\"j\\x11k\\x1bQ\"',\n",
       " 'B:A\\x1exhβ(Iٰr\\x0cúBu/]tLV\\x7f\\x0c\"\\x13a\\x1dx\\x0c\\x01s)f$ґr2kz\\x0c\\x0fjlMԥ%9\\x14\"',\n",
       " 'A:n\\'N(\"l{!H!M\\x19\\x1e\\x7fyN.7L\\x0e\\x0f\\x1cZ|≽\\x018KW\\x1d0N\\x14]\\x1d\\x10ݼ=DJ\\x1cY\\x15\\x1f01s\\x05\\x01uUQ\\x0f\\x03*h16\\x14&H-\\x1b\\x1cSVB\\x7f64ئxǕx\\x17:!]ߘV5\\x00DPS\\x1443\\x04\\x7f5\\x11\\x03..\\x1f\\x01P&rk5qŲTp#o/Ԗct,(5הezӧC1M02=ꌉ!.\\x06g\\x15\\x1dl3e9KU\\x03\\x0bj\\x07\\x16|\\\\\\x16r&/M9ig\\x1am ;\\x18UIml0\\x1c\\x1dDL~\\x1asl\\x1dbN2\\x0b\\x1cwyZCyIú\\x01c\\x14[]\\x19\\x06%3\\x14sUm2}t4Όw[j=mpa2o\"',\n",
       " 'AٻX:SA*sN sN\\x04\\x08yLChp\\x06\\x1cqJSy^\\x19<\\x01)2%&r#\\x08{Vd$<سoK\\x060R6|\"*s<\\x01AxD\\x16w\\x084P\\x1b\\x01U\\'+uuK?\\\\\\x17\\x1dY_\\x1b1r|f\\x06_\\x0flO\\x08\\\\q\\x1a\\x08$O\\\\\\x03\\'8u韏+6wZy\\x02֞aU7\"',\n",
       " '9RN:IL5By(IoB\\x07]5\\x16\\x14!\"Mŧ2*N\\x1czt\\'\\x08H\\x10$\\x18N\\x01\\x1f\\x02j/p\\x13̾>=Pw[\\x0b0`?S\\x0f\\x1auU\\x05f\\x1d\\x10bdW\\'_\\x0fˊ\\x06{Y3n1\\x106fh\\x1cDjb\"',\n",
       " 'C:Z9\\x04M`ʟZQP+\\x03\\x1e\\x04\\x06dE\\x166w1\\x00\\x15(|̂\\x16HD\\x04@m1\\x1cH6\\x1b@vؙ\\x7f?\\t\\x13\\x1f-^Ԙ\\x08{Y(%\\x03Y6nL|};NDrL▸+\\x10O\\x03KP\\x05\\x1c: B>FL\\x7f\\x01sjduޜ\\x1d<$\\x13GY\\x18\";\\x11@\\x12߾$6ӹ\"',\n",
       " 'RI:G\\x07$ھ\\x07\\x01r3[ڥ!\\x03MPJ\\x12zVq:\\x16-%\\x10\\x165o\\x11y3\\x08J%\\x02y(ѿ\\x01LCJ|r\\x1cP\\x12R\\x05ِ\\x7fe^veM\\tuׄB\\x11\\x00Uc\\x0bP~)K\\x1e\\x05\"\\x15u=7D\\x1b^k\"sFC\"',\n",
       " 'hq:B\\tf\\x1c0i\\x16e<\\x0f\\x15\\t,H\\x00\\x1b\\x08HDq\\x18J\"PPy\\\\\\x15l\\x1f0e\\x02f÷c6e:\\x1edQ\\x1bI0\\x10ٲd#Z\\x10^\\x1ekh_eH\"',\n",
       " '1:D\\x143}K\\\\*=\\x19\\x18\\x15%$e\\x05iE3ú\\x11\\x01\\x1d\\x0f\\x18\\x03~92%[(\\x04\\x05ws\\x18N.\\x89Ӻn\\x0bz\\x16D*\\x0f\\x14v+@\\x13eV#\\x03`11j\"[\\x14#b4Y\\x13\\x08Ncj\\tפ(gWi+\\x06\\x10xo\\x17=\\x00l2ͧ\\x0c\\x14,\\x1c{o\\x14RC+cUp$$r\\x1f\\x02\\x08\\x1aR\\x1d\\x11\\x1c~c`9\\x0c\\x11\\x13Z_;\\x1a\"',\n",
       " '5P:5YǫX\\x10}7h\\x06`&oeӾh\\'\\x18{4-l>\\'G!~\\x17Νߗ`V_}`+?δ>!FzY,D8CfS#s\\u061d\\x0eZ!wp%E.\\x13asS1f\\x0cΣ\\x13)(čFOyO\\tB*3sDA=\\x1fO\\x89T\\'z|s\\x1a5xry_\\x0e`\\x1c]\\x12p\\x17;⪌E[ \\x080j\\x0c|\\x06\\x18`\\t\\'ǂ%P\"3N\\x1f\\\\v^] Hoψ9dٮrO\\x7f7aB\\x06Y\"',\n",
       " 'N:p$L8;V$90\\x0bI5.%}RNZ \\x10Fwik=d{\\x0fWf\"w/q\\x01`6Kþt\\x06iRv8\\x00C\\x15)\\x01-e\\x18Z@BaoH3[DAɹ\\x048\\x10ڑQ oѲ\\x17ZIjXG,ADX33\\x0fIN֙[i\\x11x\\x14N\\x16\\x1b1\\\\\\x18?\\x07==>\\x19HOALm|f.0^:u+^\\x06\\x01xnSͽ1\\x7fut\\x1e*\\x02lf+T\\\\ٷY\\tp\\x17ڜ*;ֶ\\x08n\\x13H/5MA2)\\x15x8-V,;\\x060|ئ56+HA˗*V=ѕջM_+\\x0ci\\x0c\\x0cA\\x11_\\x1cN\\x15\\x0bk2{\\x15+ݾ/`\\x06E虀C]OH>R]\\x07˓+\\x14uie\\x0e6qJj<|da>\\x17۹;\\x15h\\x1b<2Mfu(/=\\x07LU@Q2^0\\\\\\x1f&H\\x13B\\x01goȏ\\x0c(\\x0b\\x01,E\\x0cVkh]\\x1b6G#\\x07KRIߚ}u/n6͙a>\\x1ajǤP\\x04\\x06m\"',\n",
       " '1ЪN1:Mӷ\\x04`90\\\\|\\x10GYp\\x0e+[u\\x07\\x7f\\x1evrlE\\x00\\x01wx;F/,AEze\\x03\\x07ǺߟM\\x08/Ц\",]\\\\\\x0e\\u05f84܇\\x04vd}_S\\x19tz*V\\x1c\"',\n",
       " 'A:2_*\\x02~.\\x024\\x168\\x13R\\x17%BymyԷb9\\x1eocanCrJFS\\x00o\\x12=\\x01|)\\x03s\\\\st.^:A\\x08Io\\x11J\\x17]0¿ea#\\x07\\x0b\\x0e\\x05s]b0Y\\x1ak~$҅M\\x10h@F\\x00Z.y\\x1a\\x7fes\\x13Eowړ,ybj9@%>xcalC1 j#~t#Q)\\\\\\x00Mv7A`_{3%\\x08\\'2\\t)[drN.+\"^-bud\\x06V}\\\\5?\\x01%%&a0}ٚ\\x19+P\\x1d\\x04&\"',\n",
       " 'r3OZ:yAaqos\\x7f\\x00\\\\aY=<aF(\\x0b\\\\|Xd\\x10/\\x14\\x01q(\\x01\\xa0;j<$CA; g;㜼R\\x7f\\x10VmNn>W\\x0c\\x13\"x \\x00=\\x1a\\x01\\x08\\x12\\x1eq\\x15~\\x00zw#ݶYmx=!V`($PT\\x1e9X\\x11\\t\"\\x15\\x06\\x14Y@)\\x10#\"',\n",
       " 'F:2M\\x05Z5p؏%\"_YP\\x0f;,\\x0c:/=:\"']"
      ]
     },
     "execution_count": 202,
     "metadata": {},
     "output_type": "execute_result"
    }
   ],
   "source": [
    "# Display texts \n",
    "regex =  re.compile(\"\\w+?:[a-zA-Z0-9].+\\\".+\\\"\")\n",
    "imageText = regex.findall(imageReader)\n",
    "imageText"
   ]
  },
  {
   "cell_type": "markdown",
   "id": "e6e93812",
   "metadata": {},
   "source": [
    "## Test"
   ]
  },
  {
   "cell_type": "code",
   "execution_count": 33,
   "id": "18de5554",
   "metadata": {},
   "outputs": [
    {
     "data": {
      "text/plain": [
       "['T', 'PINEAPPLE']"
      ]
     },
     "execution_count": 33,
     "metadata": {},
     "output_type": "execute_result"
    }
   ],
   "source": [
    "import re\n",
    "text = \"The price of PINEAPPLE ice cream is 20\"\n",
    "regex = re.compile(\"[A-Z]+\") # capture stack of UPPERCASE letters\n",
    "cap = regex.findall(text)\n",
    "cap"
   ]
  },
  {
   "cell_type": "markdown",
   "id": "d33f64ec",
   "metadata": {},
   "source": [
    "## Ljust"
   ]
  },
  {
   "cell_type": "code",
   "execution_count": 4,
   "id": "04c6b0e0",
   "metadata": {},
   "outputs": [
    {
     "data": {
      "text/plain": [
       "('Hello world   ', 'I am the phenominal.')"
      ]
     },
     "execution_count": 4,
     "metadata": {},
     "output_type": "execute_result"
    }
   ],
   "source": [
    "text = \"Hello world\"\n",
    "text2 = \"I am the phenominal.\"\n",
    "text.ljust(14), text2"
   ]
  },
  {
   "cell_type": "code",
   "execution_count": 44,
   "id": "994a1b1b",
   "metadata": {},
   "outputs": [
    {
     "name": "stdout",
     "output_type": "stream",
     "text": [
      "   1234\n",
      " +  343\n",
      "    ---\n"
     ]
    }
   ],
   "source": [
    "text = \"1234\"\n",
    "text2 = \"343\"\n",
    "print(text.rjust(7))\n",
    "print((\"+  \" + text2).rjust(7))\n",
    "print(str(\"-\"*len(text2)).rjust(7))"
   ]
  },
  {
   "cell_type": "code",
   "execution_count": 128,
   "id": "6ba1f058",
   "metadata": {},
   "outputs": [
    {
     "name": "stdout",
     "output_type": "stream",
     "text": [
      "['32', '3801', '45', '123', '123']\n"
     ]
    }
   ],
   "source": [
    "import re\n",
    "\n",
    "def arithmetic_arranger(problems):\n",
    "    problemList = []\n",
    "    integers = []\n",
    "    numsWtEquation = []\n",
    "    for prob in problems:\n",
    "        regex = re.compile(\"\\s\")\n",
    "        pSplitter = regex.split(prob,1)\n",
    "        \n",
    "        if len(pSplitter) > 1:\n",
    "            integers.append(pSplitter[0])\n",
    "            numsWtEquation.append(pSplitter[1])\n",
    "            \n",
    "    return integers\n",
    "\n",
    "print(arithmetic_arranger([\"32 + 698\", \"3801 - 2\",\n",
    "                           \"45 + 43\", \"123 + 49\", \n",
    "                           \"123 * 49\"]))"
   ]
  },
  {
   "cell_type": "code",
   "execution_count": 117,
   "id": "2cad4adc",
   "metadata": {},
   "outputs": [
    {
     "data": {
      "text/plain": [
       "['32', '+ 698']"
      ]
     },
     "execution_count": 117,
     "metadata": {},
     "output_type": "execute_result"
    }
   ],
   "source": [
    "# import re\n",
    "\n",
    "# def arithmetic_arranger(problems):\n",
    "#     problemList = \"\"\n",
    "#     for prob in problems:\n",
    "#         regex = re.compile(\"[-+]\")\n",
    "#         pSplitter = regex.split(prob)\n",
    "#         if len(pSplitter) > 1:\n",
    "#             for i in pSplitter:\n",
    "#                 problemList+=i.strip()+\" \" # concate string\n",
    "    \n",
    "#     scndNumIndx = re.findall(\"(\\d+)?(\\s\\d+)\", problemList)\n",
    "#     return scndNumIndx\n",
    "\n",
    "# print(arithmetic_arranger([\"32 + 698\", \"3801 - 2\", \n",
    "#                            \"45 + 43\", \"123 + 49\", \n",
    "#                            \"123 * 49\"]))\n",
    "\n",
    "x = \"32 + 698\"\n",
    "y = re.split(\"\\s\", x,1)\n",
    "y"
   ]
  },
  {
   "cell_type": "code",
   "execution_count": 130,
   "id": "2988c737",
   "metadata": {},
   "outputs": [
    {
     "data": {
      "text/plain": [
       "'9999'"
      ]
     },
     "execution_count": 130,
     "metadata": {},
     "output_type": "execute_result"
    }
   ],
   "source": [
    "x = \"+ 9999\"\n",
    "x[2:]"
   ]
  },
  {
   "cell_type": "code",
   "execution_count": 131,
   "id": "8ce0af49",
   "metadata": {},
   "outputs": [
    {
     "data": {
      "text/plain": [
       "False"
      ]
     },
     "execution_count": 131,
     "metadata": {},
     "output_type": "execute_result"
    }
   ],
   "source": [
    "5>5"
   ]
  },
  {
   "cell_type": "code",
   "execution_count": 135,
   "id": "3beaabbb",
   "metadata": {},
   "outputs": [],
   "source": [
    "import re\n",
    "text = \"123 * 344\"\n",
    "operator = re.findall(\"[-+*]\", text)\n",
    "operator\n",
    "\n",
    "if not operator:\n",
    "    print(True)"
   ]
  },
  {
   "cell_type": "code",
   "execution_count": 139,
   "id": "c32d532f",
   "metadata": {},
   "outputs": [
    {
     "data": {
      "text/plain": [
       "['4555']"
      ]
     },
     "execution_count": 139,
     "metadata": {},
     "output_type": "execute_result"
    }
   ],
   "source": [
    "import re\n",
    "text = ['44 + 815', '909 - 2', '4555 + 43', '123 + 49',\n",
    "          '888 + 40', '653 + 87']\n",
    "operator = re.findall(\"\\d{4}\", str(text))\n",
    "operator"
   ]
  },
  {
   "cell_type": "code",
   "execution_count": 14,
   "id": "58d25def",
   "metadata": {},
   "outputs": [
    {
     "data": {
      "text/plain": [
       "'\\n  3801      123      \\n-    2    +  49    \\n------    -----\\n'"
      ]
     },
     "execution_count": 14,
     "metadata": {},
     "output_type": "execute_result"
    }
   ],
   "source": [
    "import re\n",
    "\n",
    "text  = \"\"\"\n",
    "  3801      123      \n",
    "-    2    +  49    \n",
    "------    -----\n",
    "\"\"\"\n",
    "\n",
    "y = re.sub(\"(\\s+)\\b\", \"\", text)\n",
    "y"
   ]
  },
  {
   "cell_type": "code",
   "execution_count": 17,
   "id": "7ebcdfc0",
   "metadata": {},
   "outputs": [
    {
     "data": {
      "text/plain": [
       "'\\n  3801      123      \\n-    2    +  49    \\n------    -----'"
      ]
     },
     "execution_count": 17,
     "metadata": {},
     "output_type": "execute_result"
    }
   ],
   "source": [
    "text.rstrip()"
   ]
  },
  {
   "cell_type": "code",
   "execution_count": 18,
   "id": "2fa5449c",
   "metadata": {},
   "outputs": [
    {
     "data": {
      "text/plain": [
       "'3801      123'"
      ]
     },
     "execution_count": 18,
     "metadata": {},
     "output_type": "execute_result"
    }
   ],
   "source": [
    "text  = \"\"\"3801      123      \"\"\"\n",
    "text.rstrip()"
   ]
  },
  {
   "cell_type": "code",
   "execution_count": 22,
   "id": "350a767c",
   "metadata": {},
   "outputs": [
    {
     "data": {
      "text/plain": [
       "'3801      123'"
      ]
     },
     "execution_count": 22,
     "metadata": {},
     "output_type": "execute_result"
    }
   ],
   "source": [
    "text = text.rstrip()\n",
    "text"
   ]
  },
  {
   "cell_type": "code",
   "execution_count": 26,
   "id": "c357a4f6",
   "metadata": {},
   "outputs": [
    {
     "name": "stdout",
     "output_type": "stream",
     "text": [
      "False\n"
     ]
    }
   ],
   "source": [
    "import re\n",
    "\n",
    "def arithmetic_arranger(problems):\n",
    "            \n",
    "    return True in problems\n",
    "\n",
    "print(arithmetic_arranger([['3 + 855', '988 + 40'], False]))"
   ]
  },
  {
   "cell_type": "code",
   "execution_count": 86,
   "id": "1a2e823f",
   "metadata": {},
   "outputs": [
    {
     "name": "stdout",
     "output_type": "stream",
     "text": [
      "5 days, 5:00:00\n"
     ]
    },
    {
     "data": {
      "text/plain": [
       "'05:00 AM'"
      ]
     },
     "execution_count": 86,
     "metadata": {},
     "output_type": "execute_result"
    }
   ],
   "source": [
    "\n",
    "import datetime\n",
    "s = datetime.timedelta(hours=60, minutes=0) + datetime.timedelta(hours=65, minutes=0)\n",
    "x = str(s)\n",
    "print(x)\n",
    "from datetime import datetime\n",
    "# d = datetime.strptime(f\"5:00:00\", \"%H:%M\")\n",
    "y = d.strftime(\"%I:%M %p\")\n",
    "y"
   ]
  },
  {
   "cell_type": "code",
   "execution_count": 71,
   "id": "6acc6134",
   "metadata": {},
   "outputs": [
    {
     "data": {
      "text/plain": [
       "['5:00:00']"
      ]
     },
     "execution_count": 71,
     "metadata": {},
     "output_type": "execute_result"
    }
   ],
   "source": [
    "import re\n",
    "text = \"5 days, 5:00:00\"\n",
    "reg = re.findall(\"\\d+.\\d+.\\d+\",text)\n",
    "reg"
   ]
  },
  {
   "cell_type": "code",
   "execution_count": 96,
   "id": "d1ed09a8",
   "metadata": {},
   "outputs": [
    {
     "name": "stdout",
     "output_type": "stream",
     "text": [
      "5:00 AM\n"
     ]
    }
   ],
   "source": [
    "import re\n",
    "import datetime as mainDatetime\n",
    "# from datetime import datetime\n",
    "\n",
    "def add_time(start, duration):\n",
    "    strtTime = re.findall(\"\\d+\", start)\n",
    "    durTime = re.findall(\"\\d+\", duration)\n",
    "    amPMTimeCleaner = re.findall(\"\\d+\", start)\n",
    "    addTime = mainDatetime.timedelta(hours=int(strtTime[0]), minutes=int(strtTime[1])) + mainDatetime.timedelta(hours=int(durTime[0]), minutes=int(durTime[1]))\n",
    "    \n",
    "    \n",
    "    strptime = datetime.strptime(f\"{addTime}\", \"%H:%M:%S\")\n",
    "    frmtTime = d.strftime(\"%I:%M %p\")\n",
    "    rmPrecedngZero = re.sub(\"^0\",\"\",frmtTime) \n",
    "    return rmPrecedngZero\n",
    "\n",
    "print(add_time(\"3:30 PM\", \"2:12\"))"
   ]
  },
  {
   "cell_type": "code",
   "execution_count": null,
   "id": "98b3c3e7",
   "metadata": {},
   "outputs": [],
   "source": []
  }
 ],
 "metadata": {
  "kernelspec": {
   "display_name": "Python 3 (ipykernel)",
   "language": "python",
   "name": "python3"
  },
  "language_info": {
   "codemirror_mode": {
    "name": "ipython",
    "version": 3
   },
   "file_extension": ".py",
   "mimetype": "text/x-python",
   "name": "python",
   "nbconvert_exporter": "python",
   "pygments_lexer": "ipython3",
   "version": "3.9.13"
  }
 },
 "nbformat": 4,
 "nbformat_minor": 5
}
